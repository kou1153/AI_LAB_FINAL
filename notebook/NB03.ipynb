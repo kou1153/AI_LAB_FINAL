{
 "cells": [
  {
   "cell_type": "code",
   "execution_count": 1,
   "metadata": {},
   "outputs": [],
   "source": [
    "import turicreate"
   ]
  },
  {
   "cell_type": "code",
   "execution_count": 2,
   "metadata": {},
   "outputs": [],
   "source": [
    "loans = turicreate.SFrame('../data/lending-club-data.sframe/')"
   ]
  },
  {
   "cell_type": "code",
   "execution_count": 3,
   "metadata": {},
   "outputs": [
    {
     "data": {
      "text/plain": [
       "['id',\n",
       " 'member_id',\n",
       " 'loan_amnt',\n",
       " 'funded_amnt',\n",
       " 'funded_amnt_inv',\n",
       " 'term',\n",
       " 'int_rate',\n",
       " 'installment',\n",
       " 'grade',\n",
       " 'sub_grade',\n",
       " 'emp_title',\n",
       " 'emp_length',\n",
       " 'home_ownership',\n",
       " 'annual_inc',\n",
       " 'is_inc_v',\n",
       " 'issue_d',\n",
       " 'loan_status',\n",
       " 'pymnt_plan',\n",
       " 'url',\n",
       " 'desc',\n",
       " 'purpose',\n",
       " 'title',\n",
       " 'zip_code',\n",
       " 'addr_state',\n",
       " 'dti',\n",
       " 'delinq_2yrs',\n",
       " 'earliest_cr_line',\n",
       " 'inq_last_6mths',\n",
       " 'mths_since_last_delinq',\n",
       " 'mths_since_last_record',\n",
       " 'open_acc',\n",
       " 'pub_rec',\n",
       " 'revol_bal',\n",
       " 'revol_util',\n",
       " 'total_acc',\n",
       " 'initial_list_status',\n",
       " 'out_prncp',\n",
       " 'out_prncp_inv',\n",
       " 'total_pymnt',\n",
       " 'total_pymnt_inv',\n",
       " 'total_rec_prncp',\n",
       " 'total_rec_int',\n",
       " 'total_rec_late_fee',\n",
       " 'recoveries',\n",
       " 'collection_recovery_fee',\n",
       " 'last_pymnt_d',\n",
       " 'last_pymnt_amnt',\n",
       " 'next_pymnt_d',\n",
       " 'last_credit_pull_d',\n",
       " 'collections_12_mths_ex_med',\n",
       " 'mths_since_last_major_derog',\n",
       " 'policy_code',\n",
       " 'not_compliant',\n",
       " 'status',\n",
       " 'inactive_loans',\n",
       " 'bad_loans',\n",
       " 'emp_length_num',\n",
       " 'grade_num',\n",
       " 'sub_grade_num',\n",
       " 'delinq_2yrs_zero',\n",
       " 'pub_rec_zero',\n",
       " 'collections_12_mths_zero',\n",
       " 'short_emp',\n",
       " 'payment_inc_ratio',\n",
       " 'final_d',\n",
       " 'last_delinq_none',\n",
       " 'last_record_none',\n",
       " 'last_major_derog_none']"
      ]
     },
     "execution_count": 3,
     "metadata": {},
     "output_type": "execute_result"
    }
   ],
   "source": [
    "loans.column_names()"
   ]
  },
  {
   "cell_type": "code",
   "execution_count": 4,
   "metadata": {},
   "outputs": [],
   "source": [
    "# safe_loans =  1 => safe\n",
    "# safe_loans = -1 => risky\n",
    "loans['safe_loans'] = loans['bad_loans'].apply(lambda x : +1 if x==0 else -1)\n",
    "loans = loans.remove_column('bad_loans')"
   ]
  },
  {
   "cell_type": "code",
   "execution_count": 5,
   "metadata": {},
   "outputs": [],
   "source": [
    "features = ['grade',                     # grade of the loan\n",
    "            'sub_grade',                 # sub-grade of the loan\n",
    "            'short_emp',                 # one year or less of employment\n",
    "            'emp_length_num',            # number of years of employment\n",
    "            'home_ownership',            # home_ownership status: own, mortgage or rent\n",
    "            'dti',                       # debt to income ratio\n",
    "            'purpose',                   # the purpose of the loan\n",
    "            'term',                      # the term of the loan\n",
    "            'last_delinq_none',          # has borrower had a delinquincy\n",
    "            'last_major_derog_none',     # has borrower had 90 day or worse rating\n",
    "            'revol_util',                # percent of available credit being used\n",
    "            'total_rec_late_fee',        # total late fees received to day\n",
    "           ]\n",
    "\n",
    "target = 'safe_loans'                   # prediction target (y) (+1 means safe, -1 is risky)\n",
    "\n",
    "# Extract the feature columns and target column\n",
    "loans = loans[features + [target]]"
   ]
  },
  {
   "cell_type": "code",
   "execution_count": 6,
   "metadata": {},
   "outputs": [
    {
     "name": "stdout",
     "output_type": "stream",
     "text": [
      "Number of safe loans  : 99457\n",
      "Number of risky loans : 23150\n"
     ]
    }
   ],
   "source": [
    "safe_loans_raw = loans[loans[target] == +1]\n",
    "risky_loans_raw = loans[loans[target] == -1]\n",
    "print(f\"Number of safe loans  : {len(safe_loans_raw)}\")\n",
    "print(f\"Number of risky loans : {len(risky_loans_raw)}\")"
   ]
  },
  {
   "cell_type": "code",
   "execution_count": 7,
   "metadata": {},
   "outputs": [
    {
     "name": "stdout",
     "output_type": "stream",
     "text": [
      "Percentage of safe loans  : 81.11853319957262 %\n",
      "Percentage of risky loans : 18.881466800427383 %\n"
     ]
    }
   ],
   "source": [
    "totalLoans = len(safe_loans_raw) + len(risky_loans_raw)\n",
    "safe_loans_raw_percentage = len(safe_loans_raw)/totalLoans * 100\n",
    "risky_loans_raw_percentage = len(risky_loans_raw)/totalLoans * 100\n",
    "# print(total_loans)\n",
    "print(f\"Percentage of safe loans  : {safe_loans_raw_percentage} %\",) \n",
    "print(f\"Percentage of risky loans : {risky_loans_raw_percentage} %\",)"
   ]
  },
  {
   "cell_type": "code",
   "execution_count": 8,
   "metadata": {},
   "outputs": [],
   "source": [
    "# Since there are fewer risky loans than safe loans, find the ratio of the sizes\n",
    "# and use that percentage to undersample the safe loans.\n",
    "percentage = len(risky_loans_raw)/float(len(safe_loans_raw))\n",
    "\n",
    "risky_loans = risky_loans_raw\n",
    "safe_loans = safe_loans_raw.sample(percentage, seed=1)\n",
    "\n",
    "# Append the risky_loans with the downsampled version of safe_loans\n",
    "loans_data = risky_loans.append(safe_loans)"
   ]
  },
  {
   "cell_type": "code",
   "execution_count": 9,
   "metadata": {},
   "outputs": [
    {
     "name": "stdout",
     "output_type": "stream",
     "text": [
      "Percentage of safe loans                 : 50.22361744216048 %\n",
      "Percentage of risky loans                : 49.77638255783951 %\n",
      "Total number of loans in our new dataset : 46508\n"
     ]
    }
   ],
   "source": [
    "print(f\"Percentage of safe loans                 : {len(safe_loans) / float(len(loans_data)) *100} %\")\n",
    "print(f\"Percentage of risky loans                : {len(risky_loans) / float(len(loans_data)) * 100} %\")\n",
    "print(f\"Total number of loans in our new dataset : {len(loans_data)}\")"
   ]
  },
  {
   "cell_type": "code",
   "execution_count": 10,
   "metadata": {},
   "outputs": [],
   "source": [
    "#spilt 80% train_data and 20% validation_data\n",
    "train_data, validation_data = loans_data.random_split(.8, seed=1)"
   ]
  },
  {
   "cell_type": "code",
   "execution_count": 11,
   "metadata": {},
   "outputs": [
    {
     "data": {
      "text/html": [
       "<pre>Logistic regression:</pre>"
      ],
      "text/plain": [
       "Logistic regression:"
      ]
     },
     "metadata": {},
     "output_type": "display_data"
    },
    {
     "data": {
      "text/html": [
       "<pre>--------------------------------------------------------</pre>"
      ],
      "text/plain": [
       "--------------------------------------------------------"
      ]
     },
     "metadata": {},
     "output_type": "display_data"
    },
    {
     "data": {
      "text/html": [
       "<pre>Number of examples          : 37224</pre>"
      ],
      "text/plain": [
       "Number of examples          : 37224"
      ]
     },
     "metadata": {},
     "output_type": "display_data"
    },
    {
     "data": {
      "text/html": [
       "<pre>Number of classes           : 2</pre>"
      ],
      "text/plain": [
       "Number of classes           : 2"
      ]
     },
     "metadata": {},
     "output_type": "display_data"
    },
    {
     "data": {
      "text/html": [
       "<pre>Number of feature columns   : 12</pre>"
      ],
      "text/plain": [
       "Number of feature columns   : 12"
      ]
     },
     "metadata": {},
     "output_type": "display_data"
    },
    {
     "data": {
      "text/html": [
       "<pre>Number of unpacked features : 12</pre>"
      ],
      "text/plain": [
       "Number of unpacked features : 12"
      ]
     },
     "metadata": {},
     "output_type": "display_data"
    },
    {
     "data": {
      "text/html": [
       "<pre>Number of coefficients      : 63</pre>"
      ],
      "text/plain": [
       "Number of coefficients      : 63"
      ]
     },
     "metadata": {},
     "output_type": "display_data"
    },
    {
     "data": {
      "text/html": [
       "<pre>Starting Newton Method</pre>"
      ],
      "text/plain": [
       "Starting Newton Method"
      ]
     },
     "metadata": {},
     "output_type": "display_data"
    },
    {
     "data": {
      "text/html": [
       "<pre>--------------------------------------------------------</pre>"
      ],
      "text/plain": [
       "--------------------------------------------------------"
      ]
     },
     "metadata": {},
     "output_type": "display_data"
    },
    {
     "data": {
      "text/html": [
       "<pre>+-----------+----------+--------------+-------------------+</pre>"
      ],
      "text/plain": [
       "+-----------+----------+--------------+-------------------+"
      ]
     },
     "metadata": {},
     "output_type": "display_data"
    },
    {
     "data": {
      "text/html": [
       "<pre>| Iteration | Passes   | Elapsed Time | Training Accuracy |</pre>"
      ],
      "text/plain": [
       "| Iteration | Passes   | Elapsed Time | Training Accuracy |"
      ]
     },
     "metadata": {},
     "output_type": "display_data"
    },
    {
     "data": {
      "text/html": [
       "<pre>+-----------+----------+--------------+-------------------+</pre>"
      ],
      "text/plain": [
       "+-----------+----------+--------------+-------------------+"
      ]
     },
     "metadata": {},
     "output_type": "display_data"
    },
    {
     "data": {
      "text/html": [
       "<pre>| 1         | 2        | 1.033949     | 0.642865          |</pre>"
      ],
      "text/plain": [
       "| 1         | 2        | 1.033949     | 0.642865          |"
      ]
     },
     "metadata": {},
     "output_type": "display_data"
    },
    {
     "data": {
      "text/html": [
       "<pre>| 2         | 3        | 1.062734     | 0.645551          |</pre>"
      ],
      "text/plain": [
       "| 2         | 3        | 1.062734     | 0.645551          |"
      ]
     },
     "metadata": {},
     "output_type": "display_data"
    },
    {
     "data": {
      "text/html": [
       "<pre>| 3         | 4        | 1.091460     | 0.645954          |</pre>"
      ],
      "text/plain": [
       "| 3         | 4        | 1.091460     | 0.645954          |"
      ]
     },
     "metadata": {},
     "output_type": "display_data"
    },
    {
     "data": {
      "text/html": [
       "<pre>| 4         | 5        | 1.122102     | 0.645954          |</pre>"
      ],
      "text/plain": [
       "| 4         | 5        | 1.122102     | 0.645954          |"
      ]
     },
     "metadata": {},
     "output_type": "display_data"
    },
    {
     "data": {
      "text/html": [
       "<pre>| 5         | 6        | 1.148334     | 0.645954          |</pre>"
      ],
      "text/plain": [
       "| 5         | 6        | 1.148334     | 0.645954          |"
      ]
     },
     "metadata": {},
     "output_type": "display_data"
    },
    {
     "data": {
      "text/html": [
       "<pre>+-----------+----------+--------------+-------------------+</pre>"
      ],
      "text/plain": [
       "+-----------+----------+--------------+-------------------+"
      ]
     },
     "metadata": {},
     "output_type": "display_data"
    },
    {
     "data": {
      "text/html": [
       "<pre>SUCCESS: Optimal solution found.</pre>"
      ],
      "text/plain": [
       "SUCCESS: Optimal solution found."
      ]
     },
     "metadata": {},
     "output_type": "display_data"
    },
    {
     "data": {
      "text/html": [
       "<pre></pre>"
      ],
      "text/plain": []
     },
     "metadata": {},
     "output_type": "display_data"
    }
   ],
   "source": [
    "#create and train according to logisticRegression Algorithm with train data and specify which is the target and features\n",
    "logisticRegression = turicreate.logistic_classifier.create(train_data, target=target, features=features, validation_set=None)"
   ]
  },
  {
   "cell_type": "code",
   "execution_count": 12,
   "metadata": {},
   "outputs": [
    {
     "name": "stdout",
     "output_type": "stream",
     "text": [
      "Logistic Train Score is: 64.59542230818826 %\n",
      "Logistic Validation Score is: 64.27186557518311 %\n"
     ]
    }
   ],
   "source": [
    "#printout metric accuracy score for each data set\n",
    "logisticTrainScore = logisticRegression.evaluate(train_data)['accuracy']\n",
    "logisticValidationScore = logisticRegression.evaluate(validation_data)['accuracy']\n",
    "print(f'Logistic Train Score is: {logisticTrainScore * 100} %')\n",
    "print(f'Logistic Validation Score is: {logisticValidationScore * 100} %')"
   ]
  },
  {
   "cell_type": "code",
   "execution_count": 13,
   "metadata": {},
   "outputs": [
    {
     "name": "stdout",
     "output_type": "stream",
     "text": [
      "Defaulting to brute force instead of ball tree because there are multiple distance components.\n"
     ]
    },
    {
     "data": {
      "text/html": [
       "<pre>Starting brute force nearest neighbors model training.</pre>"
      ],
      "text/plain": [
       "Starting brute force nearest neighbors model training."
      ]
     },
     "metadata": {},
     "output_type": "display_data"
    },
    {
     "data": {
      "text/html": [
       "<pre>Validating distance components.</pre>"
      ],
      "text/plain": [
       "Validating distance components."
      ]
     },
     "metadata": {},
     "output_type": "display_data"
    },
    {
     "data": {
      "text/html": [
       "<pre>Initializing model data.</pre>"
      ],
      "text/plain": [
       "Initializing model data."
      ]
     },
     "metadata": {},
     "output_type": "display_data"
    },
    {
     "data": {
      "text/html": [
       "<pre>Initializing distances.</pre>"
      ],
      "text/plain": [
       "Initializing distances."
      ]
     },
     "metadata": {},
     "output_type": "display_data"
    },
    {
     "data": {
      "text/html": [
       "<pre>Done.</pre>"
      ],
      "text/plain": [
       "Done."
      ]
     },
     "metadata": {},
     "output_type": "display_data"
    }
   ],
   "source": [
    "#create and train according to KNearest Algorithm with train data and specify which is the target and features\n",
    "KNearest = turicreate.nearest_neighbor_classifier.create(train_data, target=target, features=features)"
   ]
  },
  {
   "cell_type": "code",
   "execution_count": 14,
   "metadata": {},
   "outputs": [
    {
     "data": {
      "text/html": [
       "<pre>Starting pairwise querying.</pre>"
      ],
      "text/plain": [
       "Starting pairwise querying."
      ]
     },
     "metadata": {},
     "output_type": "display_data"
    },
    {
     "data": {
      "text/html": [
       "<pre>+--------------+---------+-------------+--------------+</pre>"
      ],
      "text/plain": [
       "+--------------+---------+-------------+--------------+"
      ]
     },
     "metadata": {},
     "output_type": "display_data"
    },
    {
     "data": {
      "text/html": [
       "<pre>| Query points | # Pairs | % Complete. | Elapsed Time |</pre>"
      ],
      "text/plain": [
       "| Query points | # Pairs | % Complete. | Elapsed Time |"
      ]
     },
     "metadata": {},
     "output_type": "display_data"
    },
    {
     "data": {
      "text/html": [
       "<pre>+--------------+---------+-------------+--------------+</pre>"
      ],
      "text/plain": [
       "+--------------+---------+-------------+--------------+"
      ]
     },
     "metadata": {},
     "output_type": "display_data"
    },
    {
     "data": {
      "text/html": [
       "<pre>| 1            | 37224   | 0.00268644  | 124.446ms    |</pre>"
      ],
      "text/plain": [
       "| 1            | 37224   | 0.00268644  | 124.446ms    |"
      ]
     },
     "metadata": {},
     "output_type": "display_data"
    },
    {
     "data": {
      "text/html": [
       "<pre>| 235          | 8747640 | 0.631313    | 3.13s        |</pre>"
      ],
      "text/plain": [
       "| 235          | 8747640 | 0.631313    | 3.13s        |"
      ]
     },
     "metadata": {},
     "output_type": "display_data"
    },
    {
     "data": {
      "text/html": [
       "<pre>| 455          | 1.7e+07 | 1.22233     | 6.14s        |</pre>"
      ],
      "text/plain": [
       "| 455          | 1.7e+07 | 1.22233     | 6.14s        |"
      ]
     },
     "metadata": {},
     "output_type": "display_data"
    },
    {
     "data": {
      "text/html": [
       "<pre>| 640          | 2.4e+07 | 1.71932     | 9.12s        |</pre>"
      ],
      "text/plain": [
       "| 640          | 2.4e+07 | 1.71932     | 9.12s        |"
      ]
     },
     "metadata": {},
     "output_type": "display_data"
    },
    {
     "data": {
      "text/html": [
       "<pre>| 809          | 3e+07   | 2.17333     | 12.14s       |</pre>"
      ],
      "text/plain": [
       "| 809          | 3e+07   | 2.17333     | 12.14s       |"
      ]
     },
     "metadata": {},
     "output_type": "display_data"
    },
    {
     "data": {
      "text/html": [
       "<pre>| 990          | 3.7e+07 | 2.65957     | 15.13s       |</pre>"
      ],
      "text/plain": [
       "| 990          | 3.7e+07 | 2.65957     | 15.13s       |"
      ]
     },
     "metadata": {},
     "output_type": "display_data"
    },
    {
     "data": {
      "text/html": [
       "<pre>| 1182         |         | 3.17537     | 18.13s       |</pre>"
      ],
      "text/plain": [
       "| 1182         |         | 3.17537     | 18.13s       |"
      ]
     },
     "metadata": {},
     "output_type": "display_data"
    },
    {
     "data": {
      "text/html": [
       "<pre>| 1389         | 5.2e+07 | 3.73146     | 21.15s       |</pre>"
      ],
      "text/plain": [
       "| 1389         | 5.2e+07 | 3.73146     | 21.15s       |"
      ]
     },
     "metadata": {},
     "output_type": "display_data"
    },
    {
     "data": {
      "text/html": [
       "<pre>| 1580         | 5.9e+07 | 4.24457     | 24.14s       |</pre>"
      ],
      "text/plain": [
       "| 1580         | 5.9e+07 | 4.24457     | 24.14s       |"
      ]
     },
     "metadata": {},
     "output_type": "display_data"
    },
    {
     "data": {
      "text/html": [
       "<pre>| 1777         | 6.6e+07 | 4.7738      | 27.14s       |</pre>"
      ],
      "text/plain": [
       "| 1777         | 6.6e+07 | 4.7738      | 27.14s       |"
      ]
     },
     "metadata": {},
     "output_type": "display_data"
    },
    {
     "data": {
      "text/html": [
       "<pre>| 1988         |         | 5.34064     | 30.16s       |</pre>"
      ],
      "text/plain": [
       "| 1988         |         | 5.34064     | 30.16s       |"
      ]
     },
     "metadata": {},
     "output_type": "display_data"
    },
    {
     "data": {
      "text/html": [
       "<pre>| 2188         | 8.1e+07 | 5.87793     | 33.13s       |</pre>"
      ],
      "text/plain": [
       "| 2188         | 8.1e+07 | 5.87793     | 33.13s       |"
      ]
     },
     "metadata": {},
     "output_type": "display_data"
    },
    {
     "data": {
      "text/html": [
       "<pre>| 2377         | 8.8e+07 | 6.38567     | 36.16s       |</pre>"
      ],
      "text/plain": [
       "| 2377         | 8.8e+07 | 6.38567     | 36.16s       |"
      ]
     },
     "metadata": {},
     "output_type": "display_data"
    },
    {
     "data": {
      "text/html": [
       "<pre>| 2564         | 9.5e+07 | 6.88803     | 39.12s       |</pre>"
      ],
      "text/plain": [
       "| 2564         | 9.5e+07 | 6.88803     | 39.12s       |"
      ]
     },
     "metadata": {},
     "output_type": "display_data"
    },
    {
     "data": {
      "text/html": [
       "<pre>| 2775         | 1e+08   | 7.45487     | 42.14s       |</pre>"
      ],
      "text/plain": [
       "| 2775         | 1e+08   | 7.45487     | 42.14s       |"
      ]
     },
     "metadata": {},
     "output_type": "display_data"
    },
    {
     "data": {
      "text/html": [
       "<pre>| 2974         | 1.1e+08 | 7.98947     | 45.15s       |</pre>"
      ],
      "text/plain": [
       "| 2974         | 1.1e+08 | 7.98947     | 45.15s       |"
      ]
     },
     "metadata": {},
     "output_type": "display_data"
    },
    {
     "data": {
      "text/html": [
       "<pre>| 3151         | 1.2e+08 | 8.46497     | 48.13s       |</pre>"
      ],
      "text/plain": [
       "| 3151         | 1.2e+08 | 8.46497     | 48.13s       |"
      ]
     },
     "metadata": {},
     "output_type": "display_data"
    },
    {
     "data": {
      "text/html": [
       "<pre>| 3327         | 1.2e+08 | 8.93778     | 51.15s       |</pre>"
      ],
      "text/plain": [
       "| 3327         | 1.2e+08 | 8.93778     | 51.15s       |"
      ]
     },
     "metadata": {},
     "output_type": "display_data"
    },
    {
     "data": {
      "text/html": [
       "<pre>| 3529         | 1.3e+08 | 9.48044     | 54.13s       |</pre>"
      ],
      "text/plain": [
       "| 3529         | 1.3e+08 | 9.48044     | 54.13s       |"
      ]
     },
     "metadata": {},
     "output_type": "display_data"
    },
    {
     "data": {
      "text/html": [
       "<pre>| 3721         | 1.4e+08 | 9.99624     | 57.19s       |</pre>"
      ],
      "text/plain": [
       "| 3721         | 1.4e+08 | 9.99624     | 57.19s       |"
      ]
     },
     "metadata": {},
     "output_type": "display_data"
    },
    {
     "data": {
      "text/html": [
       "<pre>| 3894         | 1.4e+08 | 10.461      | 1m 0s        |</pre>"
      ],
      "text/plain": [
       "| 3894         | 1.4e+08 | 10.461      | 1m 0s        |"
      ]
     },
     "metadata": {},
     "output_type": "display_data"
    },
    {
     "data": {
      "text/html": [
       "<pre>| 4060         | 1.5e+08 | 10.9069     | 1m 3s        |</pre>"
      ],
      "text/plain": [
       "| 4060         | 1.5e+08 | 10.9069     | 1m 3s        |"
      ]
     },
     "metadata": {},
     "output_type": "display_data"
    },
    {
     "data": {
      "text/html": [
       "<pre>| 4244         | 1.6e+08 | 11.4012     | 1m 6s        |</pre>"
      ],
      "text/plain": [
       "| 4244         | 1.6e+08 | 11.4012     | 1m 6s        |"
      ]
     },
     "metadata": {},
     "output_type": "display_data"
    },
    {
     "data": {
      "text/html": [
       "<pre>| 4412         | 1.6e+08 | 11.8526     | 1m 9s        |</pre>"
      ],
      "text/plain": [
       "| 4412         | 1.6e+08 | 11.8526     | 1m 9s        |"
      ]
     },
     "metadata": {},
     "output_type": "display_data"
    },
    {
     "data": {
      "text/html": [
       "<pre>| 4613         | 1.7e+08 | 12.3925     | 1m 12s       |</pre>"
      ],
      "text/plain": [
       "| 4613         | 1.7e+08 | 12.3925     | 1m 12s       |"
      ]
     },
     "metadata": {},
     "output_type": "display_data"
    },
    {
     "data": {
      "text/html": [
       "<pre>| 4805         | 1.8e+08 | 12.9083     | 1m 15s       |</pre>"
      ],
      "text/plain": [
       "| 4805         | 1.8e+08 | 12.9083     | 1m 15s       |"
      ]
     },
     "metadata": {},
     "output_type": "display_data"
    },
    {
     "data": {
      "text/html": [
       "<pre>| 4994         | 1.9e+08 | 13.4161     | 1m 18s       |</pre>"
      ],
      "text/plain": [
       "| 4994         | 1.9e+08 | 13.4161     | 1m 18s       |"
      ]
     },
     "metadata": {},
     "output_type": "display_data"
    },
    {
     "data": {
      "text/html": [
       "<pre>| 5176         | 1.9e+08 | 13.905      | 1m 21s       |</pre>"
      ],
      "text/plain": [
       "| 5176         | 1.9e+08 | 13.905      | 1m 21s       |"
      ]
     },
     "metadata": {},
     "output_type": "display_data"
    },
    {
     "data": {
      "text/html": [
       "<pre>| 5391         | 2e+08   | 14.4826     | 1m 24s       |</pre>"
      ],
      "text/plain": [
       "| 5391         | 2e+08   | 14.4826     | 1m 24s       |"
      ]
     },
     "metadata": {},
     "output_type": "display_data"
    },
    {
     "data": {
      "text/html": [
       "<pre>| 5581         | 2.1e+08 | 14.993      | 1m 27s       |</pre>"
      ],
      "text/plain": [
       "| 5581         | 2.1e+08 | 14.993      | 1m 27s       |"
      ]
     },
     "metadata": {},
     "output_type": "display_data"
    },
    {
     "data": {
      "text/html": [
       "<pre>| 5779         | 2.2e+08 | 15.5249     | 1m 30s       |</pre>"
      ],
      "text/plain": [
       "| 5779         | 2.2e+08 | 15.5249     | 1m 30s       |"
      ]
     },
     "metadata": {},
     "output_type": "display_data"
    },
    {
     "data": {
      "text/html": [
       "<pre>| 5969         | 2.2e+08 | 16.0354     | 1m 33s       |</pre>"
      ],
      "text/plain": [
       "| 5969         | 2.2e+08 | 16.0354     | 1m 33s       |"
      ]
     },
     "metadata": {},
     "output_type": "display_data"
    },
    {
     "data": {
      "text/html": [
       "<pre>| 6175         | 2.3e+08 | 16.5888     | 1m 36s       |</pre>"
      ],
      "text/plain": [
       "| 6175         | 2.3e+08 | 16.5888     | 1m 36s       |"
      ]
     },
     "metadata": {},
     "output_type": "display_data"
    },
    {
     "data": {
      "text/html": [
       "<pre>| 6383         | 2.4e+08 | 17.1475     | 1m 39s       |</pre>"
      ],
      "text/plain": [
       "| 6383         | 2.4e+08 | 17.1475     | 1m 39s       |"
      ]
     },
     "metadata": {},
     "output_type": "display_data"
    },
    {
     "data": {
      "text/html": [
       "<pre>| 6588         | 2.5e+08 | 17.6983     | 1m 42s       |</pre>"
      ],
      "text/plain": [
       "| 6588         | 2.5e+08 | 17.6983     | 1m 42s       |"
      ]
     },
     "metadata": {},
     "output_type": "display_data"
    },
    {
     "data": {
      "text/html": [
       "<pre>| 6795         | 2.5e+08 | 18.2544     | 1m 45s       |</pre>"
      ],
      "text/plain": [
       "| 6795         | 2.5e+08 | 18.2544     | 1m 45s       |"
      ]
     },
     "metadata": {},
     "output_type": "display_data"
    },
    {
     "data": {
      "text/html": [
       "<pre>| 6984         |         | 18.7621     | 1m 48s       |</pre>"
      ],
      "text/plain": [
       "| 6984         |         | 18.7621     | 1m 48s       |"
      ]
     },
     "metadata": {},
     "output_type": "display_data"
    },
    {
     "data": {
      "text/html": [
       "<pre>| 7162         | 2.7e+08 | 19.2403     | 1m 51s       |</pre>"
      ],
      "text/plain": [
       "| 7162         | 2.7e+08 | 19.2403     | 1m 51s       |"
      ]
     },
     "metadata": {},
     "output_type": "display_data"
    },
    {
     "data": {
      "text/html": [
       "<pre>| 7357         | 2.7e+08 | 19.7641     | 1m 54s       |</pre>"
      ],
      "text/plain": [
       "| 7357         | 2.7e+08 | 19.7641     | 1m 54s       |"
      ]
     },
     "metadata": {},
     "output_type": "display_data"
    },
    {
     "data": {
      "text/html": [
       "<pre>| 7572         | 2.8e+08 | 20.3417     | 1m 57s       |</pre>"
      ],
      "text/plain": [
       "| 7572         | 2.8e+08 | 20.3417     | 1m 57s       |"
      ]
     },
     "metadata": {},
     "output_type": "display_data"
    },
    {
     "data": {
      "text/html": [
       "<pre>| 7785         | 2.9e+08 | 20.9139     | 2m 0s        |</pre>"
      ],
      "text/plain": [
       "| 7785         | 2.9e+08 | 20.9139     | 2m 0s        |"
      ]
     },
     "metadata": {},
     "output_type": "display_data"
    },
    {
     "data": {
      "text/html": [
       "<pre>| 7966         | 3e+08   | 21.4002     | 2m 3s        |</pre>"
      ],
      "text/plain": [
       "| 7966         | 3e+08   | 21.4002     | 2m 3s        |"
      ]
     },
     "metadata": {},
     "output_type": "display_data"
    },
    {
     "data": {
      "text/html": [
       "<pre>| 8148         | 3e+08   | 21.8891     | 2m 6s        |</pre>"
      ],
      "text/plain": [
       "| 8148         | 3e+08   | 21.8891     | 2m 6s        |"
      ]
     },
     "metadata": {},
     "output_type": "display_data"
    },
    {
     "data": {
      "text/html": [
       "<pre>| 8335         | 3.1e+08 | 22.3915     | 2m 9s        |</pre>"
      ],
      "text/plain": [
       "| 8335         | 3.1e+08 | 22.3915     | 2m 9s        |"
      ]
     },
     "metadata": {},
     "output_type": "display_data"
    },
    {
     "data": {
      "text/html": [
       "<pre>| 8544         | 3.2e+08 | 22.9529     | 2m 12s       |</pre>"
      ],
      "text/plain": [
       "| 8544         | 3.2e+08 | 22.9529     | 2m 12s       |"
      ]
     },
     "metadata": {},
     "output_type": "display_data"
    },
    {
     "data": {
      "text/html": [
       "<pre>| 8736         | 3.3e+08 | 23.4687     | 2m 15s       |</pre>"
      ],
      "text/plain": [
       "| 8736         | 3.3e+08 | 23.4687     | 2m 15s       |"
      ]
     },
     "metadata": {},
     "output_type": "display_data"
    },
    {
     "data": {
      "text/html": [
       "<pre>| 8916         | 3.3e+08 | 23.9523     | 2m 18s       |</pre>"
      ],
      "text/plain": [
       "| 8916         | 3.3e+08 | 23.9523     | 2m 18s       |"
      ]
     },
     "metadata": {},
     "output_type": "display_data"
    },
    {
     "data": {
      "text/html": [
       "<pre>| 9144         | 3.4e+08 | 24.5648     | 2m 21s       |</pre>"
      ],
      "text/plain": [
       "| 9144         | 3.4e+08 | 24.5648     | 2m 21s       |"
      ]
     },
     "metadata": {},
     "output_type": "display_data"
    },
    {
     "data": {
      "text/html": [
       "<pre>| 9363         | 3.5e+08 | 25.1531     | 2m 24s       |</pre>"
      ],
      "text/plain": [
       "| 9363         | 3.5e+08 | 25.1531     | 2m 24s       |"
      ]
     },
     "metadata": {},
     "output_type": "display_data"
    },
    {
     "data": {
      "text/html": [
       "<pre>| 9592         | 3.6e+08 | 25.7683     | 2m 27s       |</pre>"
      ],
      "text/plain": [
       "| 9592         | 3.6e+08 | 25.7683     | 2m 27s       |"
      ]
     },
     "metadata": {},
     "output_type": "display_data"
    },
    {
     "data": {
      "text/html": [
       "<pre>| 9795         | 3.6e+08 | 26.3137     | 2m 30s       |</pre>"
      ],
      "text/plain": [
       "| 9795         | 3.6e+08 | 26.3137     | 2m 30s       |"
      ]
     },
     "metadata": {},
     "output_type": "display_data"
    },
    {
     "data": {
      "text/html": [
       "<pre>| 9970         | 3.7e+08 | 26.7838     | 2m 33s       |</pre>"
      ],
      "text/plain": [
       "| 9970         | 3.7e+08 | 26.7838     | 2m 33s       |"
      ]
     },
     "metadata": {},
     "output_type": "display_data"
    },
    {
     "data": {
      "text/html": [
       "<pre>| 10143        | 3.8e+08 | 27.2485     | 2m 36s       |</pre>"
      ],
      "text/plain": [
       "| 10143        | 3.8e+08 | 27.2485     | 2m 36s       |"
      ]
     },
     "metadata": {},
     "output_type": "display_data"
    },
    {
     "data": {
      "text/html": [
       "<pre>| 10328        | 3.8e+08 | 27.7455     | 2m 39s       |</pre>"
      ],
      "text/plain": [
       "| 10328        | 3.8e+08 | 27.7455     | 2m 39s       |"
      ]
     },
     "metadata": {},
     "output_type": "display_data"
    },
    {
     "data": {
      "text/html": [
       "<pre>| 10521        | 3.9e+08 | 28.264      | 2m 42s       |</pre>"
      ],
      "text/plain": [
       "| 10521        | 3.9e+08 | 28.264      | 2m 42s       |"
      ]
     },
     "metadata": {},
     "output_type": "display_data"
    },
    {
     "data": {
      "text/html": [
       "<pre>| 10710        | 4e+08   | 28.7718     | 2m 45s       |</pre>"
      ],
      "text/plain": [
       "| 10710        | 4e+08   | 28.7718     | 2m 45s       |"
      ]
     },
     "metadata": {},
     "output_type": "display_data"
    },
    {
     "data": {
      "text/html": [
       "<pre>| 10899        | 4.1e+08 | 29.2795     | 2m 48s       |</pre>"
      ],
      "text/plain": [
       "| 10899        | 4.1e+08 | 29.2795     | 2m 48s       |"
      ]
     },
     "metadata": {},
     "output_type": "display_data"
    },
    {
     "data": {
      "text/html": [
       "<pre>| 11091        | 4.1e+08 | 29.7953     | 2m 51s       |</pre>"
      ],
      "text/plain": [
       "| 11091        | 4.1e+08 | 29.7953     | 2m 51s       |"
      ]
     },
     "metadata": {},
     "output_type": "display_data"
    },
    {
     "data": {
      "text/html": [
       "<pre>| 11305        | 4.2e+08 | 30.3702     | 2m 54s       |</pre>"
      ],
      "text/plain": [
       "| 11305        | 4.2e+08 | 30.3702     | 2m 54s       |"
      ]
     },
     "metadata": {},
     "output_type": "display_data"
    },
    {
     "data": {
      "text/html": [
       "<pre>| 11499        | 4.3e+08 | 30.8914     | 2m 57s       |</pre>"
      ],
      "text/plain": [
       "| 11499        | 4.3e+08 | 30.8914     | 2m 57s       |"
      ]
     },
     "metadata": {},
     "output_type": "display_data"
    },
    {
     "data": {
      "text/html": [
       "<pre>| 11692        | 4.4e+08 | 31.4098     | 3m 0s        |</pre>"
      ],
      "text/plain": [
       "| 11692        | 4.4e+08 | 31.4098     | 3m 0s        |"
      ]
     },
     "metadata": {},
     "output_type": "display_data"
    },
    {
     "data": {
      "text/html": [
       "<pre>| 11894        | 4.4e+08 | 31.9525     | 3m 3s        |</pre>"
      ],
      "text/plain": [
       "| 11894        | 4.4e+08 | 31.9525     | 3m 3s        |"
      ]
     },
     "metadata": {},
     "output_type": "display_data"
    },
    {
     "data": {
      "text/html": [
       "<pre>| 12098        | 4.5e+08 | 32.5005     | 3m 6s        |</pre>"
      ],
      "text/plain": [
       "| 12098        | 4.5e+08 | 32.5005     | 3m 6s        |"
      ]
     },
     "metadata": {},
     "output_type": "display_data"
    },
    {
     "data": {
      "text/html": [
       "<pre>| 12287        | 4.6e+08 | 33.0083     | 3m 9s        |</pre>"
      ],
      "text/plain": [
       "| 12287        | 4.6e+08 | 33.0083     | 3m 9s        |"
      ]
     },
     "metadata": {},
     "output_type": "display_data"
    },
    {
     "data": {
      "text/html": [
       "<pre>| 12460        | 4.6e+08 | 33.473      | 3m 12s       |</pre>"
      ],
      "text/plain": [
       "| 12460        | 4.6e+08 | 33.473      | 3m 12s       |"
      ]
     },
     "metadata": {},
     "output_type": "display_data"
    },
    {
     "data": {
      "text/html": [
       "<pre>| 12636        | 4.7e+08 | 33.9458     | 3m 15s       |</pre>"
      ],
      "text/plain": [
       "| 12636        | 4.7e+08 | 33.9458     | 3m 15s       |"
      ]
     },
     "metadata": {},
     "output_type": "display_data"
    },
    {
     "data": {
      "text/html": [
       "<pre>| 12838        | 4.8e+08 | 34.4885     | 3m 18s       |</pre>"
      ],
      "text/plain": [
       "| 12838        | 4.8e+08 | 34.4885     | 3m 18s       |"
      ]
     },
     "metadata": {},
     "output_type": "display_data"
    },
    {
     "data": {
      "text/html": [
       "<pre>| 13044        | 4.9e+08 | 35.0419     | 3m 21s       |</pre>"
      ],
      "text/plain": [
       "| 13044        | 4.9e+08 | 35.0419     | 3m 21s       |"
      ]
     },
     "metadata": {},
     "output_type": "display_data"
    },
    {
     "data": {
      "text/html": [
       "<pre>| 13220        | 4.9e+08 | 35.5147     | 3m 24s       |</pre>"
      ],
      "text/plain": [
       "| 13220        | 4.9e+08 | 35.5147     | 3m 24s       |"
      ]
     },
     "metadata": {},
     "output_type": "display_data"
    },
    {
     "data": {
      "text/html": [
       "<pre>| 13405        | 5e+08   | 36.0117     | 3m 27s       |</pre>"
      ],
      "text/plain": [
       "| 13405        | 5e+08   | 36.0117     | 3m 27s       |"
      ]
     },
     "metadata": {},
     "output_type": "display_data"
    },
    {
     "data": {
      "text/html": [
       "<pre>| 13620        | 5.1e+08 | 36.5893     | 3m 30s       |</pre>"
      ],
      "text/plain": [
       "| 13620        | 5.1e+08 | 36.5893     | 3m 30s       |"
      ]
     },
     "metadata": {},
     "output_type": "display_data"
    },
    {
     "data": {
      "text/html": [
       "<pre>| 13848        | 5.2e+08 | 37.2018     | 3m 33s       |</pre>"
      ],
      "text/plain": [
       "| 13848        | 5.2e+08 | 37.2018     | 3m 33s       |"
      ]
     },
     "metadata": {},
     "output_type": "display_data"
    },
    {
     "data": {
      "text/html": [
       "<pre>| 14048        | 5.2e+08 | 37.7391     | 3m 36s       |</pre>"
      ],
      "text/plain": [
       "| 14048        | 5.2e+08 | 37.7391     | 3m 36s       |"
      ]
     },
     "metadata": {},
     "output_type": "display_data"
    },
    {
     "data": {
      "text/html": [
       "<pre>| 14236        | 5.3e+08 | 38.2441     | 3m 39s       |</pre>"
      ],
      "text/plain": [
       "| 14236        | 5.3e+08 | 38.2441     | 3m 39s       |"
      ]
     },
     "metadata": {},
     "output_type": "display_data"
    },
    {
     "data": {
      "text/html": [
       "<pre>| 14413        | 5.4e+08 | 38.7196     | 3m 42s       |</pre>"
      ],
      "text/plain": [
       "| 14413        | 5.4e+08 | 38.7196     | 3m 42s       |"
      ]
     },
     "metadata": {},
     "output_type": "display_data"
    },
    {
     "data": {
      "text/html": [
       "<pre>| 14606        | 5.4e+08 | 39.2381     | 3m 45s       |</pre>"
      ],
      "text/plain": [
       "| 14606        | 5.4e+08 | 39.2381     | 3m 45s       |"
      ]
     },
     "metadata": {},
     "output_type": "display_data"
    },
    {
     "data": {
      "text/html": [
       "<pre>| 14793        | 5.5e+08 | 39.7405     | 3m 48s       |</pre>"
      ],
      "text/plain": [
       "| 14793        | 5.5e+08 | 39.7405     | 3m 48s       |"
      ]
     },
     "metadata": {},
     "output_type": "display_data"
    },
    {
     "data": {
      "text/html": [
       "<pre>| 14972        | 5.6e+08 | 40.2214     | 3m 51s       |</pre>"
      ],
      "text/plain": [
       "| 14972        | 5.6e+08 | 40.2214     | 3m 51s       |"
      ]
     },
     "metadata": {},
     "output_type": "display_data"
    },
    {
     "data": {
      "text/html": [
       "<pre>| 15196        | 5.7e+08 | 40.8231     | 3m 54s       |</pre>"
      ],
      "text/plain": [
       "| 15196        | 5.7e+08 | 40.8231     | 3m 54s       |"
      ]
     },
     "metadata": {},
     "output_type": "display_data"
    },
    {
     "data": {
      "text/html": [
       "<pre>| 15414        | 5.7e+08 | 41.4088     | 3m 57s       |</pre>"
      ],
      "text/plain": [
       "| 15414        | 5.7e+08 | 41.4088     | 3m 57s       |"
      ]
     },
     "metadata": {},
     "output_type": "display_data"
    },
    {
     "data": {
      "text/html": [
       "<pre>| 15588        | 5.8e+08 | 41.8762     | 4m 0s        |</pre>"
      ],
      "text/plain": [
       "| 15588        | 5.8e+08 | 41.8762     | 4m 0s        |"
      ]
     },
     "metadata": {},
     "output_type": "display_data"
    },
    {
     "data": {
      "text/html": [
       "<pre>| 15766        | 5.9e+08 | 42.3544     | 4m 3s        |</pre>"
      ],
      "text/plain": [
       "| 15766        | 5.9e+08 | 42.3544     | 4m 3s        |"
      ]
     },
     "metadata": {},
     "output_type": "display_data"
    },
    {
     "data": {
      "text/html": [
       "<pre>| 15940        | 5.9e+08 | 42.8218     | 4m 6s        |</pre>"
      ],
      "text/plain": [
       "| 15940        | 5.9e+08 | 42.8218     | 4m 6s        |"
      ]
     },
     "metadata": {},
     "output_type": "display_data"
    },
    {
     "data": {
      "text/html": [
       "<pre>| 16159        | 6e+08   | 43.4102     | 4m 9s        |</pre>"
      ],
      "text/plain": [
       "| 16159        | 6e+08   | 43.4102     | 4m 9s        |"
      ]
     },
     "metadata": {},
     "output_type": "display_data"
    },
    {
     "data": {
      "text/html": [
       "<pre>| 16356        | 6.1e+08 | 43.9394     | 4m 12s       |</pre>"
      ],
      "text/plain": [
       "| 16356        | 6.1e+08 | 43.9394     | 4m 12s       |"
      ]
     },
     "metadata": {},
     "output_type": "display_data"
    },
    {
     "data": {
      "text/html": [
       "<pre>| 16546        | 6.2e+08 | 44.4498     | 4m 15s       |</pre>"
      ],
      "text/plain": [
       "| 16546        | 6.2e+08 | 44.4498     | 4m 15s       |"
      ]
     },
     "metadata": {},
     "output_type": "display_data"
    },
    {
     "data": {
      "text/html": [
       "<pre>| 16764        | 6.2e+08 | 45.0355     | 4m 18s       |</pre>"
      ],
      "text/plain": [
       "| 16764        | 6.2e+08 | 45.0355     | 4m 18s       |"
      ]
     },
     "metadata": {},
     "output_type": "display_data"
    },
    {
     "data": {
      "text/html": [
       "<pre>| 16998        | 6.3e+08 | 45.6641     | 4m 21s       |</pre>"
      ],
      "text/plain": [
       "| 16998        | 6.3e+08 | 45.6641     | 4m 21s       |"
      ]
     },
     "metadata": {},
     "output_type": "display_data"
    },
    {
     "data": {
      "text/html": [
       "<pre>| 17192        |         | 46.1853     | 4m 24s       |</pre>"
      ],
      "text/plain": [
       "| 17192        |         | 46.1853     | 4m 24s       |"
      ]
     },
     "metadata": {},
     "output_type": "display_data"
    },
    {
     "data": {
      "text/html": [
       "<pre>| 17386        | 6.5e+08 | 46.7064     | 4m 27s       |</pre>"
      ],
      "text/plain": [
       "| 17386        | 6.5e+08 | 46.7064     | 4m 27s       |"
      ]
     },
     "metadata": {},
     "output_type": "display_data"
    },
    {
     "data": {
      "text/html": [
       "<pre>| 17597        | 6.6e+08 | 47.2733     | 4m 30s       |</pre>"
      ],
      "text/plain": [
       "| 17597        | 6.6e+08 | 47.2733     | 4m 30s       |"
      ]
     },
     "metadata": {},
     "output_type": "display_data"
    },
    {
     "data": {
      "text/html": [
       "<pre>| 17811        | 6.6e+08 | 47.8482     | 4m 33s       |</pre>"
      ],
      "text/plain": [
       "| 17811        | 6.6e+08 | 47.8482     | 4m 33s       |"
      ]
     },
     "metadata": {},
     "output_type": "display_data"
    },
    {
     "data": {
      "text/html": [
       "<pre>| 17999        |         | 48.3532     | 4m 36s       |</pre>"
      ],
      "text/plain": [
       "| 17999        |         | 48.3532     | 4m 36s       |"
      ]
     },
     "metadata": {},
     "output_type": "display_data"
    },
    {
     "data": {
      "text/html": [
       "<pre>| 18171        | 6.8e+08 | 48.8153     | 4m 39s       |</pre>"
      ],
      "text/plain": [
       "| 18171        | 6.8e+08 | 48.8153     | 4m 39s       |"
      ]
     },
     "metadata": {},
     "output_type": "display_data"
    },
    {
     "data": {
      "text/html": [
       "<pre>| 18354        | 6.8e+08 | 49.3069     | 4m 42s       |</pre>"
      ],
      "text/plain": [
       "| 18354        | 6.8e+08 | 49.3069     | 4m 42s       |"
      ]
     },
     "metadata": {},
     "output_type": "display_data"
    },
    {
     "data": {
      "text/html": [
       "<pre>| 18547        | 6.9e+08 | 49.8254     | 4m 45s       |</pre>"
      ],
      "text/plain": [
       "| 18547        | 6.9e+08 | 49.8254     | 4m 45s       |"
      ]
     },
     "metadata": {},
     "output_type": "display_data"
    },
    {
     "data": {
      "text/html": [
       "<pre>| 18729        | 7e+08   | 50.3143     | 4m 48s       |</pre>"
      ],
      "text/plain": [
       "| 18729        | 7e+08   | 50.3143     | 4m 48s       |"
      ]
     },
     "metadata": {},
     "output_type": "display_data"
    },
    {
     "data": {
      "text/html": [
       "<pre>| 18910        | 7e+08   | 50.8006     | 4m 51s       |</pre>"
      ],
      "text/plain": [
       "| 18910        | 7e+08   | 50.8006     | 4m 51s       |"
      ]
     },
     "metadata": {},
     "output_type": "display_data"
    },
    {
     "data": {
      "text/html": [
       "<pre>| 19088        | 7.1e+08 | 51.2787     | 4m 54s       |</pre>"
      ],
      "text/plain": [
       "| 19088        | 7.1e+08 | 51.2787     | 4m 54s       |"
      ]
     },
     "metadata": {},
     "output_type": "display_data"
    },
    {
     "data": {
      "text/html": [
       "<pre>| 19300        | 7.2e+08 | 51.8483     | 4m 57s       |</pre>"
      ],
      "text/plain": [
       "| 19300        | 7.2e+08 | 51.8483     | 4m 57s       |"
      ]
     },
     "metadata": {},
     "output_type": "display_data"
    },
    {
     "data": {
      "text/html": [
       "<pre>| 19507        | 7.3e+08 | 52.4044     | 5m 0s        |</pre>"
      ],
      "text/plain": [
       "| 19507        | 7.3e+08 | 52.4044     | 5m 0s        |"
      ]
     },
     "metadata": {},
     "output_type": "display_data"
    },
    {
     "data": {
      "text/html": [
       "<pre>| 19697        | 7.3e+08 | 52.9148     | 5m 3s        |</pre>"
      ],
      "text/plain": [
       "| 19697        | 7.3e+08 | 52.9148     | 5m 3s        |"
      ]
     },
     "metadata": {},
     "output_type": "display_data"
    },
    {
     "data": {
      "text/html": [
       "<pre>| 19883        | 7.4e+08 | 53.4145     | 5m 6s        |</pre>"
      ],
      "text/plain": [
       "| 19883        | 7.4e+08 | 53.4145     | 5m 6s        |"
      ]
     },
     "metadata": {},
     "output_type": "display_data"
    },
    {
     "data": {
      "text/html": [
       "<pre>| 20074        | 7.5e+08 | 53.9276     | 5m 9s        |</pre>"
      ],
      "text/plain": [
       "| 20074        | 7.5e+08 | 53.9276     | 5m 9s        |"
      ]
     },
     "metadata": {},
     "output_type": "display_data"
    },
    {
     "data": {
      "text/html": [
       "<pre>| 20289        | 7.6e+08 | 54.5052     | 5m 12s       |</pre>"
      ],
      "text/plain": [
       "| 20289        | 7.6e+08 | 54.5052     | 5m 12s       |"
      ]
     },
     "metadata": {},
     "output_type": "display_data"
    },
    {
     "data": {
      "text/html": [
       "<pre>| 20474        | 7.6e+08 | 55.0021     | 5m 15s       |</pre>"
      ],
      "text/plain": [
       "| 20474        | 7.6e+08 | 55.0021     | 5m 15s       |"
      ]
     },
     "metadata": {},
     "output_type": "display_data"
    },
    {
     "data": {
      "text/html": [
       "<pre>| 20639        | 7.7e+08 | 55.4454     | 5m 18s       |</pre>"
      ],
      "text/plain": [
       "| 20639        | 7.7e+08 | 55.4454     | 5m 18s       |"
      ]
     },
     "metadata": {},
     "output_type": "display_data"
    },
    {
     "data": {
      "text/html": [
       "<pre>| 20842        | 7.8e+08 | 55.9908     | 5m 21s       |</pre>"
      ],
      "text/plain": [
       "| 20842        | 7.8e+08 | 55.9908     | 5m 21s       |"
      ]
     },
     "metadata": {},
     "output_type": "display_data"
    },
    {
     "data": {
      "text/html": [
       "<pre>| 21051        | 7.8e+08 | 56.5522     | 5m 24s       |</pre>"
      ],
      "text/plain": [
       "| 21051        | 7.8e+08 | 56.5522     | 5m 24s       |"
      ]
     },
     "metadata": {},
     "output_type": "display_data"
    },
    {
     "data": {
      "text/html": [
       "<pre>| 21223        |         | 57.0143     | 5m 27s       |</pre>"
      ],
      "text/plain": [
       "| 21223        |         | 57.0143     | 5m 27s       |"
      ]
     },
     "metadata": {},
     "output_type": "display_data"
    },
    {
     "data": {
      "text/html": [
       "<pre>| 21395        | 8e+08   | 57.4764     | 5m 30s       |</pre>"
      ],
      "text/plain": [
       "| 21395        | 8e+08   | 57.4764     | 5m 30s       |"
      ]
     },
     "metadata": {},
     "output_type": "display_data"
    },
    {
     "data": {
      "text/html": [
       "<pre>| 21553        | 8e+08   | 57.9008     | 5m 33s       |</pre>"
      ],
      "text/plain": [
       "| 21553        | 8e+08   | 57.9008     | 5m 33s       |"
      ]
     },
     "metadata": {},
     "output_type": "display_data"
    },
    {
     "data": {
      "text/html": [
       "<pre>| 21709        | 8.1e+08 | 58.3199     | 5m 36s       |</pre>"
      ],
      "text/plain": [
       "| 21709        | 8.1e+08 | 58.3199     | 5m 36s       |"
      ]
     },
     "metadata": {},
     "output_type": "display_data"
    },
    {
     "data": {
      "text/html": [
       "<pre>| 21877        | 8.1e+08 | 58.7712     | 5m 39s       |</pre>"
      ],
      "text/plain": [
       "| 21877        | 8.1e+08 | 58.7712     | 5m 39s       |"
      ]
     },
     "metadata": {},
     "output_type": "display_data"
    },
    {
     "data": {
      "text/html": [
       "<pre>| 22054        | 8.2e+08 | 59.2467     | 5m 42s       |</pre>"
      ],
      "text/plain": [
       "| 22054        | 8.2e+08 | 59.2467     | 5m 42s       |"
      ]
     },
     "metadata": {},
     "output_type": "display_data"
    },
    {
     "data": {
      "text/html": [
       "<pre>| 22217        | 8.3e+08 | 59.6846     | 5m 45s       |</pre>"
      ],
      "text/plain": [
       "| 22217        | 8.3e+08 | 59.6846     | 5m 45s       |"
      ]
     },
     "metadata": {},
     "output_type": "display_data"
    },
    {
     "data": {
      "text/html": [
       "<pre>| 22386        | 8.3e+08 | 60.1386     | 5m 48s       |</pre>"
      ],
      "text/plain": [
       "| 22386        | 8.3e+08 | 60.1386     | 5m 48s       |"
      ]
     },
     "metadata": {},
     "output_type": "display_data"
    },
    {
     "data": {
      "text/html": [
       "<pre>| 22569        | 8.4e+08 | 60.6302     | 5m 51s       |</pre>"
      ],
      "text/plain": [
       "| 22569        | 8.4e+08 | 60.6302     | 5m 51s       |"
      ]
     },
     "metadata": {},
     "output_type": "display_data"
    },
    {
     "data": {
      "text/html": [
       "<pre>| 22756        | 8.5e+08 | 61.1326     | 5m 54s       |</pre>"
      ],
      "text/plain": [
       "| 22756        | 8.5e+08 | 61.1326     | 5m 54s       |"
      ]
     },
     "metadata": {},
     "output_type": "display_data"
    },
    {
     "data": {
      "text/html": [
       "<pre>| 22931        | 8.5e+08 | 61.6027     | 5m 57s       |</pre>"
      ],
      "text/plain": [
       "| 22931        | 8.5e+08 | 61.6027     | 5m 57s       |"
      ]
     },
     "metadata": {},
     "output_type": "display_data"
    },
    {
     "data": {
      "text/html": [
       "<pre>| 23090        | 8.6e+08 | 62.0299     | 6m 0s        |</pre>"
      ],
      "text/plain": [
       "| 23090        | 8.6e+08 | 62.0299     | 6m 0s        |"
      ]
     },
     "metadata": {},
     "output_type": "display_data"
    },
    {
     "data": {
      "text/html": [
       "<pre>| 23260        | 8.7e+08 | 62.4866     | 6m 3s        |</pre>"
      ],
      "text/plain": [
       "| 23260        | 8.7e+08 | 62.4866     | 6m 3s        |"
      ]
     },
     "metadata": {},
     "output_type": "display_data"
    },
    {
     "data": {
      "text/html": [
       "<pre>| 23430        | 8.7e+08 | 62.9433     | 6m 6s        |</pre>"
      ],
      "text/plain": [
       "| 23430        | 8.7e+08 | 62.9433     | 6m 6s        |"
      ]
     },
     "metadata": {},
     "output_type": "display_data"
    },
    {
     "data": {
      "text/html": [
       "<pre>| 23617        | 8.8e+08 | 63.4456     | 6m 9s        |</pre>"
      ],
      "text/plain": [
       "| 23617        | 8.8e+08 | 63.4456     | 6m 9s        |"
      ]
     },
     "metadata": {},
     "output_type": "display_data"
    },
    {
     "data": {
      "text/html": [
       "<pre>| 23793        | 8.9e+08 | 63.9184     | 6m 12s       |</pre>"
      ],
      "text/plain": [
       "| 23793        | 8.9e+08 | 63.9184     | 6m 12s       |"
      ]
     },
     "metadata": {},
     "output_type": "display_data"
    },
    {
     "data": {
      "text/html": [
       "<pre>| 23963        | 8.9e+08 | 64.3751     | 6m 15s       |</pre>"
      ],
      "text/plain": [
       "| 23963        | 8.9e+08 | 64.3751     | 6m 15s       |"
      ]
     },
     "metadata": {},
     "output_type": "display_data"
    },
    {
     "data": {
      "text/html": [
       "<pre>| 24141        | 9e+08   | 64.8533     | 6m 18s       |</pre>"
      ],
      "text/plain": [
       "| 24141        | 9e+08   | 64.8533     | 6m 18s       |"
      ]
     },
     "metadata": {},
     "output_type": "display_data"
    },
    {
     "data": {
      "text/html": [
       "<pre>| 24299        | 9e+08   | 65.2778     | 6m 21s       |</pre>"
      ],
      "text/plain": [
       "| 24299        | 9e+08   | 65.2778     | 6m 21s       |"
      ]
     },
     "metadata": {},
     "output_type": "display_data"
    },
    {
     "data": {
      "text/html": [
       "<pre>| 24437        | 9.1e+08 | 65.6485     | 6m 24s       |</pre>"
      ],
      "text/plain": [
       "| 24437        | 9.1e+08 | 65.6485     | 6m 24s       |"
      ]
     },
     "metadata": {},
     "output_type": "display_data"
    },
    {
     "data": {
      "text/html": [
       "<pre>| 24574        | 9.1e+08 | 66.0165     | 6m 27s       |</pre>"
      ],
      "text/plain": [
       "| 24574        | 9.1e+08 | 66.0165     | 6m 27s       |"
      ]
     },
     "metadata": {},
     "output_type": "display_data"
    },
    {
     "data": {
      "text/html": [
       "<pre>| 24711        | 9.2e+08 | 66.3846     | 6m 30s       |</pre>"
      ],
      "text/plain": [
       "| 24711        | 9.2e+08 | 66.3846     | 6m 30s       |"
      ]
     },
     "metadata": {},
     "output_type": "display_data"
    },
    {
     "data": {
      "text/html": [
       "<pre>| 24840        | 9.2e+08 | 66.7311     | 6m 33s       |</pre>"
      ],
      "text/plain": [
       "| 24840        | 9.2e+08 | 66.7311     | 6m 33s       |"
      ]
     },
     "metadata": {},
     "output_type": "display_data"
    },
    {
     "data": {
      "text/html": [
       "<pre>| 24970        | 9.3e+08 | 67.0804     | 6m 36s       |</pre>"
      ],
      "text/plain": [
       "| 24970        | 9.3e+08 | 67.0804     | 6m 36s       |"
      ]
     },
     "metadata": {},
     "output_type": "display_data"
    },
    {
     "data": {
      "text/html": [
       "<pre>| 25102        | 9.3e+08 | 67.435      | 6m 39s       |</pre>"
      ],
      "text/plain": [
       "| 25102        | 9.3e+08 | 67.435      | 6m 39s       |"
      ]
     },
     "metadata": {},
     "output_type": "display_data"
    },
    {
     "data": {
      "text/html": [
       "<pre>| 25239        | 9.4e+08 | 67.803      | 6m 42s       |</pre>"
      ],
      "text/plain": [
       "| 25239        | 9.4e+08 | 67.803      | 6m 42s       |"
      ]
     },
     "metadata": {},
     "output_type": "display_data"
    },
    {
     "data": {
      "text/html": [
       "<pre>| 25370        | 9.4e+08 | 68.155      | 6m 45s       |</pre>"
      ],
      "text/plain": [
       "| 25370        | 9.4e+08 | 68.155      | 6m 45s       |"
      ]
     },
     "metadata": {},
     "output_type": "display_data"
    },
    {
     "data": {
      "text/html": [
       "<pre>| 25506        | 9.5e+08 | 68.5203     | 6m 48s       |</pre>"
      ],
      "text/plain": [
       "| 25506        | 9.5e+08 | 68.5203     | 6m 48s       |"
      ]
     },
     "metadata": {},
     "output_type": "display_data"
    },
    {
     "data": {
      "text/html": [
       "<pre>| 25669        | 9.6e+08 | 68.9582     | 6m 51s       |</pre>"
      ],
      "text/plain": [
       "| 25669        | 9.6e+08 | 68.9582     | 6m 51s       |"
      ]
     },
     "metadata": {},
     "output_type": "display_data"
    },
    {
     "data": {
      "text/html": [
       "<pre>| 25824        | 9.6e+08 | 69.3746     | 6m 54s       |</pre>"
      ],
      "text/plain": [
       "| 25824        | 9.6e+08 | 69.3746     | 6m 54s       |"
      ]
     },
     "metadata": {},
     "output_type": "display_data"
    },
    {
     "data": {
      "text/html": [
       "<pre>| 25967        | 9.7e+08 | 69.7588     | 6m 57s       |</pre>"
      ],
      "text/plain": [
       "| 25967        | 9.7e+08 | 69.7588     | 6m 57s       |"
      ]
     },
     "metadata": {},
     "output_type": "display_data"
    },
    {
     "data": {
      "text/html": [
       "<pre>| 26117        | 9.7e+08 | 70.1617     | 7m 0s        |</pre>"
      ],
      "text/plain": [
       "| 26117        | 9.7e+08 | 70.1617     | 7m 0s        |"
      ]
     },
     "metadata": {},
     "output_type": "display_data"
    },
    {
     "data": {
      "text/html": [
       "<pre>| 26291        | 9.8e+08 | 70.6292     | 7m 3s        |</pre>"
      ],
      "text/plain": [
       "| 26291        | 9.8e+08 | 70.6292     | 7m 3s        |"
      ]
     },
     "metadata": {},
     "output_type": "display_data"
    },
    {
     "data": {
      "text/html": [
       "<pre>| 26466        | 9.9e+08 | 71.0993     | 7m 6s        |</pre>"
      ],
      "text/plain": [
       "| 26466        | 9.9e+08 | 71.0993     | 7m 6s        |"
      ]
     },
     "metadata": {},
     "output_type": "display_data"
    },
    {
     "data": {
      "text/html": [
       "<pre>| 26638        | 9.9e+08 | 71.5614     | 7m 9s        |</pre>"
      ],
      "text/plain": [
       "| 26638        | 9.9e+08 | 71.5614     | 7m 9s        |"
      ]
     },
     "metadata": {},
     "output_type": "display_data"
    },
    {
     "data": {
      "text/html": [
       "<pre>| 26800        | 1e+09   | 71.9966     | 7m 12s       |</pre>"
      ],
      "text/plain": [
       "| 26800        | 1e+09   | 71.9966     | 7m 12s       |"
      ]
     },
     "metadata": {},
     "output_type": "display_data"
    },
    {
     "data": {
      "text/html": [
       "<pre>| 26953        | 1e+09   | 72.4076     | 7m 15s       |</pre>"
      ],
      "text/plain": [
       "| 26953        | 1e+09   | 72.4076     | 7m 15s       |"
      ]
     },
     "metadata": {},
     "output_type": "display_data"
    },
    {
     "data": {
      "text/html": [
       "<pre>| 27143        | 1e+09   | 72.918      | 7m 18s       |</pre>"
      ],
      "text/plain": [
       "| 27143        | 1e+09   | 72.918      | 7m 18s       |"
      ]
     },
     "metadata": {},
     "output_type": "display_data"
    },
    {
     "data": {
      "text/html": [
       "<pre>| 27315        | 1e+09   | 73.3801     | 7m 21s       |</pre>"
      ],
      "text/plain": [
       "| 27315        | 1e+09   | 73.3801     | 7m 21s       |"
      ]
     },
     "metadata": {},
     "output_type": "display_data"
    },
    {
     "data": {
      "text/html": [
       "<pre>| 27472        | 1e+09   | 73.8018     | 7m 24s       |</pre>"
      ],
      "text/plain": [
       "| 27472        | 1e+09   | 73.8018     | 7m 24s       |"
      ]
     },
     "metadata": {},
     "output_type": "display_data"
    },
    {
     "data": {
      "text/html": [
       "<pre>| 27633        | 1e+09   | 74.2344     | 7m 27s       |</pre>"
      ],
      "text/plain": [
       "| 27633        | 1e+09   | 74.2344     | 7m 27s       |"
      ]
     },
     "metadata": {},
     "output_type": "display_data"
    },
    {
     "data": {
      "text/html": [
       "<pre>| 27812        | 1e+09   | 74.7152     | 7m 30s       |</pre>"
      ],
      "text/plain": [
       "| 27812        | 1e+09   | 74.7152     | 7m 30s       |"
      ]
     },
     "metadata": {},
     "output_type": "display_data"
    },
    {
     "data": {
      "text/html": [
       "<pre>| 28002        | 1e+09   | 75.2257     | 7m 33s       |</pre>"
      ],
      "text/plain": [
       "| 28002        | 1e+09   | 75.2257     | 7m 33s       |"
      ]
     },
     "metadata": {},
     "output_type": "display_data"
    },
    {
     "data": {
      "text/html": [
       "<pre>| 28162        | 1e+09   | 75.6555     | 7m 36s       |</pre>"
      ],
      "text/plain": [
       "| 28162        | 1e+09   | 75.6555     | 7m 36s       |"
      ]
     },
     "metadata": {},
     "output_type": "display_data"
    },
    {
     "data": {
      "text/html": [
       "<pre>| 28323        | 1.1e+09 | 76.088      | 7m 39s       |</pre>"
      ],
      "text/plain": [
       "| 28323        | 1.1e+09 | 76.088      | 7m 39s       |"
      ]
     },
     "metadata": {},
     "output_type": "display_data"
    },
    {
     "data": {
      "text/html": [
       "<pre>| 28496        | 1.1e+09 | 76.5528     | 7m 42s       |</pre>"
      ],
      "text/plain": [
       "| 28496        | 1.1e+09 | 76.5528     | 7m 42s       |"
      ]
     },
     "metadata": {},
     "output_type": "display_data"
    },
    {
     "data": {
      "text/html": [
       "<pre>| 28713        | 1.1e+09 | 77.1357     | 7m 45s       |</pre>"
      ],
      "text/plain": [
       "| 28713        | 1.1e+09 | 77.1357     | 7m 45s       |"
      ]
     },
     "metadata": {},
     "output_type": "display_data"
    },
    {
     "data": {
      "text/html": [
       "<pre>| 28909        | 1.1e+09 | 77.6623     | 7m 48s       |</pre>"
      ],
      "text/plain": [
       "| 28909        | 1.1e+09 | 77.6623     | 7m 48s       |"
      ]
     },
     "metadata": {},
     "output_type": "display_data"
    },
    {
     "data": {
      "text/html": [
       "<pre>| 29094        | 1.1e+09 | 78.1593     | 7m 51s       |</pre>"
      ],
      "text/plain": [
       "| 29094        | 1.1e+09 | 78.1593     | 7m 51s       |"
      ]
     },
     "metadata": {},
     "output_type": "display_data"
    },
    {
     "data": {
      "text/html": [
       "<pre>| 29287        | 1.1e+09 | 78.6777     | 7m 54s       |</pre>"
      ],
      "text/plain": [
       "| 29287        | 1.1e+09 | 78.6777     | 7m 54s       |"
      ]
     },
     "metadata": {},
     "output_type": "display_data"
    },
    {
     "data": {
      "text/html": [
       "<pre>| 29517        | 1.1e+09 | 79.2956     | 7m 57s       |</pre>"
      ],
      "text/plain": [
       "| 29517        | 1.1e+09 | 79.2956     | 7m 57s       |"
      ]
     },
     "metadata": {},
     "output_type": "display_data"
    },
    {
     "data": {
      "text/html": [
       "<pre>| 29732        | 1.1e+09 | 79.8732     | 8m 0s        |</pre>"
      ],
      "text/plain": [
       "| 29732        | 1.1e+09 | 79.8732     | 8m 0s        |"
      ]
     },
     "metadata": {},
     "output_type": "display_data"
    },
    {
     "data": {
      "text/html": [
       "<pre>| 29923        | 1.1e+09 | 80.3863     | 8m 3s        |</pre>"
      ],
      "text/plain": [
       "| 29923        | 1.1e+09 | 80.3863     | 8m 3s        |"
      ]
     },
     "metadata": {},
     "output_type": "display_data"
    },
    {
     "data": {
      "text/html": [
       "<pre>| 30092        | 1.1e+09 | 80.8403     | 8m 6s        |</pre>"
      ],
      "text/plain": [
       "| 30092        | 1.1e+09 | 80.8403     | 8m 6s        |"
      ]
     },
     "metadata": {},
     "output_type": "display_data"
    },
    {
     "data": {
      "text/html": [
       "<pre>| 30282        | 1.1e+09 | 81.3507     | 8m 9s        |</pre>"
      ],
      "text/plain": [
       "| 30282        | 1.1e+09 | 81.3507     | 8m 9s        |"
      ]
     },
     "metadata": {},
     "output_type": "display_data"
    },
    {
     "data": {
      "text/html": [
       "<pre>| 30505        | 1.1e+09 | 81.9498     | 8m 12s       |</pre>"
      ],
      "text/plain": [
       "| 30505        | 1.1e+09 | 81.9498     | 8m 12s       |"
      ]
     },
     "metadata": {},
     "output_type": "display_data"
    },
    {
     "data": {
      "text/html": [
       "<pre>| 30688        | 1.1e+09 | 82.4414     | 8m 15s       |</pre>"
      ],
      "text/plain": [
       "| 30688        | 1.1e+09 | 82.4414     | 8m 15s       |"
      ]
     },
     "metadata": {},
     "output_type": "display_data"
    },
    {
     "data": {
      "text/html": [
       "<pre>| 30876        | 1.1e+09 | 82.9465     | 8m 18s       |</pre>"
      ],
      "text/plain": [
       "| 30876        | 1.1e+09 | 82.9465     | 8m 18s       |"
      ]
     },
     "metadata": {},
     "output_type": "display_data"
    },
    {
     "data": {
      "text/html": [
       "<pre>| 31061        | 1.2e+09 | 83.4435     | 8m 21s       |</pre>"
      ],
      "text/plain": [
       "| 31061        | 1.2e+09 | 83.4435     | 8m 21s       |"
      ]
     },
     "metadata": {},
     "output_type": "display_data"
    },
    {
     "data": {
      "text/html": [
       "<pre>| 31272        | 1.2e+09 | 84.0103     | 8m 24s       |</pre>"
      ],
      "text/plain": [
       "| 31272        | 1.2e+09 | 84.0103     | 8m 24s       |"
      ]
     },
     "metadata": {},
     "output_type": "display_data"
    },
    {
     "data": {
      "text/html": [
       "<pre>| 31471        | 1.2e+09 | 84.5449     | 8m 27s       |</pre>"
      ],
      "text/plain": [
       "| 31471        | 1.2e+09 | 84.5449     | 8m 27s       |"
      ]
     },
     "metadata": {},
     "output_type": "display_data"
    },
    {
     "data": {
      "text/html": [
       "<pre>| 31673        | 1.2e+09 | 85.0876     | 8m 30s       |</pre>"
      ],
      "text/plain": [
       "| 31673        | 1.2e+09 | 85.0876     | 8m 30s       |"
      ]
     },
     "metadata": {},
     "output_type": "display_data"
    },
    {
     "data": {
      "text/html": [
       "<pre>| 31871        | 1.2e+09 | 85.6195     | 8m 33s       |</pre>"
      ],
      "text/plain": [
       "| 31871        | 1.2e+09 | 85.6195     | 8m 33s       |"
      ]
     },
     "metadata": {},
     "output_type": "display_data"
    },
    {
     "data": {
      "text/html": [
       "<pre>| 32061        | 1.2e+09 | 86.1299     | 8m 36s       |</pre>"
      ],
      "text/plain": [
       "| 32061        | 1.2e+09 | 86.1299     | 8m 36s       |"
      ]
     },
     "metadata": {},
     "output_type": "display_data"
    },
    {
     "data": {
      "text/html": [
       "<pre>| 32250        |         | 86.6377     | 8m 39s       |</pre>"
      ],
      "text/plain": [
       "| 32250        |         | 86.6377     | 8m 39s       |"
      ]
     },
     "metadata": {},
     "output_type": "display_data"
    },
    {
     "data": {
      "text/html": [
       "<pre>| 32434        | 1.2e+09 | 87.132      | 8m 42s       |</pre>"
      ],
      "text/plain": [
       "| 32434        | 1.2e+09 | 87.132      | 8m 42s       |"
      ]
     },
     "metadata": {},
     "output_type": "display_data"
    },
    {
     "data": {
      "text/html": [
       "<pre>| 32641        | 1.2e+09 | 87.6881     | 8m 45s       |</pre>"
      ],
      "text/plain": [
       "| 32641        | 1.2e+09 | 87.6881     | 8m 45s       |"
      ]
     },
     "metadata": {},
     "output_type": "display_data"
    },
    {
     "data": {
      "text/html": [
       "<pre>| 32841        | 1.2e+09 | 88.2253     | 8m 48s       |</pre>"
      ],
      "text/plain": [
       "| 32841        | 1.2e+09 | 88.2253     | 8m 48s       |"
      ]
     },
     "metadata": {},
     "output_type": "display_data"
    },
    {
     "data": {
      "text/html": [
       "<pre>| 33051        | 1.2e+09 | 88.7895     | 8m 51s       |</pre>"
      ],
      "text/plain": [
       "| 33051        | 1.2e+09 | 88.7895     | 8m 51s       |"
      ]
     },
     "metadata": {},
     "output_type": "display_data"
    },
    {
     "data": {
      "text/html": [
       "<pre>| 33232        | 1.2e+09 | 89.2757     | 8m 54s       |</pre>"
      ],
      "text/plain": [
       "| 33232        | 1.2e+09 | 89.2757     | 8m 54s       |"
      ]
     },
     "metadata": {},
     "output_type": "display_data"
    },
    {
     "data": {
      "text/html": [
       "<pre>| 33421        | 1.2e+09 | 89.7835     | 8m 57s       |</pre>"
      ],
      "text/plain": [
       "| 33421        | 1.2e+09 | 89.7835     | 8m 57s       |"
      ]
     },
     "metadata": {},
     "output_type": "display_data"
    },
    {
     "data": {
      "text/html": [
       "<pre>| 33638        | 1.3e+09 | 90.3664     | 9m 0s        |</pre>"
      ],
      "text/plain": [
       "| 33638        | 1.3e+09 | 90.3664     | 9m 0s        |"
      ]
     },
     "metadata": {},
     "output_type": "display_data"
    },
    {
     "data": {
      "text/html": [
       "<pre>| 33852        | 1.3e+09 | 90.9413     | 9m 3s        |</pre>"
      ],
      "text/plain": [
       "| 33852        | 1.3e+09 | 90.9413     | 9m 3s        |"
      ]
     },
     "metadata": {},
     "output_type": "display_data"
    },
    {
     "data": {
      "text/html": [
       "<pre>| 34047        | 1.3e+09 | 91.4652     | 9m 6s        |</pre>"
      ],
      "text/plain": [
       "| 34047        | 1.3e+09 | 91.4652     | 9m 6s        |"
      ]
     },
     "metadata": {},
     "output_type": "display_data"
    },
    {
     "data": {
      "text/html": [
       "<pre>| 34252        | 1.3e+09 | 92.0159     | 9m 9s        |</pre>"
      ],
      "text/plain": [
       "| 34252        | 1.3e+09 | 92.0159     | 9m 9s        |"
      ]
     },
     "metadata": {},
     "output_type": "display_data"
    },
    {
     "data": {
      "text/html": [
       "<pre>| 34456        | 1.3e+09 | 92.5639     | 9m 12s       |</pre>"
      ],
      "text/plain": [
       "| 34456        | 1.3e+09 | 92.5639     | 9m 12s       |"
      ]
     },
     "metadata": {},
     "output_type": "display_data"
    },
    {
     "data": {
      "text/html": [
       "<pre>| 34660        | 1.3e+09 | 93.112      | 9m 15s       |</pre>"
      ],
      "text/plain": [
       "| 34660        | 1.3e+09 | 93.112      | 9m 15s       |"
      ]
     },
     "metadata": {},
     "output_type": "display_data"
    },
    {
     "data": {
      "text/html": [
       "<pre>| 34854        | 1.3e+09 | 93.6331     | 9m 18s       |</pre>"
      ],
      "text/plain": [
       "| 34854        | 1.3e+09 | 93.6331     | 9m 18s       |"
      ]
     },
     "metadata": {},
     "output_type": "display_data"
    },
    {
     "data": {
      "text/html": [
       "<pre>| 35042        | 1.3e+09 | 94.1382     | 9m 21s       |</pre>"
      ],
      "text/plain": [
       "| 35042        | 1.3e+09 | 94.1382     | 9m 21s       |"
      ]
     },
     "metadata": {},
     "output_type": "display_data"
    },
    {
     "data": {
      "text/html": [
       "<pre>| 35248        | 1.3e+09 | 94.6916     | 9m 24s       |</pre>"
      ],
      "text/plain": [
       "| 35248        | 1.3e+09 | 94.6916     | 9m 24s       |"
      ]
     },
     "metadata": {},
     "output_type": "display_data"
    },
    {
     "data": {
      "text/html": [
       "<pre>| 35439        | 1.3e+09 | 95.2047     | 9m 27s       |</pre>"
      ],
      "text/plain": [
       "| 35439        | 1.3e+09 | 95.2047     | 9m 27s       |"
      ]
     },
     "metadata": {},
     "output_type": "display_data"
    },
    {
     "data": {
      "text/html": [
       "<pre>| 35616        | 1.3e+09 | 95.6802     | 9m 30s       |</pre>"
      ],
      "text/plain": [
       "| 35616        | 1.3e+09 | 95.6802     | 9m 30s       |"
      ]
     },
     "metadata": {},
     "output_type": "display_data"
    },
    {
     "data": {
      "text/html": [
       "<pre>| 35805        | 1.3e+09 | 96.1879     | 9m 33s       |</pre>"
      ],
      "text/plain": [
       "| 35805        | 1.3e+09 | 96.1879     | 9m 33s       |"
      ]
     },
     "metadata": {},
     "output_type": "display_data"
    },
    {
     "data": {
      "text/html": [
       "<pre>| 36015        | 1.3e+09 | 96.7521     | 9m 36s       |</pre>"
      ],
      "text/plain": [
       "| 36015        | 1.3e+09 | 96.7521     | 9m 36s       |"
      ]
     },
     "metadata": {},
     "output_type": "display_data"
    },
    {
     "data": {
      "text/html": [
       "<pre>| 36240        | 1.3e+09 | 97.3565     | 9m 39s       |</pre>"
      ],
      "text/plain": [
       "| 36240        | 1.3e+09 | 97.3565     | 9m 39s       |"
      ]
     },
     "metadata": {},
     "output_type": "display_data"
    },
    {
     "data": {
      "text/html": [
       "<pre>| 36424        | 1.4e+09 | 97.8508     | 9m 42s       |</pre>"
      ],
      "text/plain": [
       "| 36424        | 1.4e+09 | 97.8508     | 9m 42s       |"
      ]
     },
     "metadata": {},
     "output_type": "display_data"
    },
    {
     "data": {
      "text/html": [
       "<pre>| 36576        | 1.4e+09 | 98.2592     | 9m 45s       |</pre>"
      ],
      "text/plain": [
       "| 36576        | 1.4e+09 | 98.2592     | 9m 45s       |"
      ]
     },
     "metadata": {},
     "output_type": "display_data"
    },
    {
     "data": {
      "text/html": [
       "<pre>| 36729        | 1.4e+09 | 98.6702     | 9m 48s       |</pre>"
      ],
      "text/plain": [
       "| 36729        | 1.4e+09 | 98.6702     | 9m 48s       |"
      ]
     },
     "metadata": {},
     "output_type": "display_data"
    },
    {
     "data": {
      "text/html": [
       "<pre>| 36838        | 1.4e+09 | 98.963      | 9m 51s       |</pre>"
      ],
      "text/plain": [
       "| 36838        | 1.4e+09 | 98.963      | 9m 51s       |"
      ]
     },
     "metadata": {},
     "output_type": "display_data"
    },
    {
     "data": {
      "text/html": [
       "<pre>| 36952        | 1.4e+09 | 99.2693     | 9m 54s       |</pre>"
      ],
      "text/plain": [
       "| 36952        | 1.4e+09 | 99.2693     | 9m 54s       |"
      ]
     },
     "metadata": {},
     "output_type": "display_data"
    },
    {
     "data": {
      "text/html": [
       "<pre>| 37070        | 1.4e+09 | 99.5863     | 9m 57s       |</pre>"
      ],
      "text/plain": [
       "| 37070        | 1.4e+09 | 99.5863     | 9m 57s       |"
      ]
     },
     "metadata": {},
     "output_type": "display_data"
    },
    {
     "data": {
      "text/html": [
       "<pre>| 37152        | 1.4e+09 | 99.8066     | 10m 0s       |</pre>"
      ],
      "text/plain": [
       "| 37152        | 1.4e+09 | 99.8066     | 10m 0s       |"
      ]
     },
     "metadata": {},
     "output_type": "display_data"
    },
    {
     "data": {
      "text/html": [
       "<pre>| 37202        | 1.4e+09 | 99.9409     | 10m 3s       |</pre>"
      ],
      "text/plain": [
       "| 37202        | 1.4e+09 | 99.9409     | 10m 3s       |"
      ]
     },
     "metadata": {},
     "output_type": "display_data"
    },
    {
     "data": {
      "text/html": [
       "<pre>| Done         |         | 100         | 10m 4s       |</pre>"
      ],
      "text/plain": [
       "| Done         |         | 100         | 10m 4s       |"
      ]
     },
     "metadata": {},
     "output_type": "display_data"
    },
    {
     "data": {
      "text/html": [
       "<pre>+--------------+---------+-------------+--------------+</pre>"
      ],
      "text/plain": [
       "+--------------+---------+-------------+--------------+"
      ]
     },
     "metadata": {},
     "output_type": "display_data"
    },
    {
     "data": {
      "text/html": [
       "<pre>Starting pairwise querying.</pre>"
      ],
      "text/plain": [
       "Starting pairwise querying."
      ]
     },
     "metadata": {},
     "output_type": "display_data"
    },
    {
     "data": {
      "text/html": [
       "<pre>+--------------+---------+-------------+--------------+</pre>"
      ],
      "text/plain": [
       "+--------------+---------+-------------+--------------+"
      ]
     },
     "metadata": {},
     "output_type": "display_data"
    },
    {
     "data": {
      "text/html": [
       "<pre>| Query points | # Pairs | % Complete. | Elapsed Time |</pre>"
      ],
      "text/plain": [
       "| Query points | # Pairs | % Complete. | Elapsed Time |"
      ]
     },
     "metadata": {},
     "output_type": "display_data"
    },
    {
     "data": {
      "text/html": [
       "<pre>+--------------+---------+-------------+--------------+</pre>"
      ],
      "text/plain": [
       "+--------------+---------+-------------+--------------+"
      ]
     },
     "metadata": {},
     "output_type": "display_data"
    },
    {
     "data": {
      "text/html": [
       "<pre>| 1            | 37224   | 0.00268644  | 132.375ms    |</pre>"
      ],
      "text/plain": [
       "| 1            | 37224   | 0.00268644  | 132.375ms    |"
      ]
     },
     "metadata": {},
     "output_type": "display_data"
    },
    {
     "data": {
      "text/html": [
       "<pre>| 167          | 6216408 | 0.448635    | 3.14s        |</pre>"
      ],
      "text/plain": [
       "| 167          | 6216408 | 0.448635    | 3.14s        |"
      ]
     },
     "metadata": {},
     "output_type": "display_data"
    },
    {
     "data": {
      "text/html": [
       "<pre>| 361          | 1.3e+07 | 0.969804    | 6.16s        |</pre>"
      ],
      "text/plain": [
       "| 361          | 1.3e+07 | 0.969804    | 6.16s        |"
      ]
     },
     "metadata": {},
     "output_type": "display_data"
    },
    {
     "data": {
      "text/html": [
       "<pre>| 559          | 2.1e+07 | 1.50172     | 9.13s        |</pre>"
      ],
      "text/plain": [
       "| 559          | 2.1e+07 | 1.50172     | 9.13s        |"
      ]
     },
     "metadata": {},
     "output_type": "display_data"
    },
    {
     "data": {
      "text/html": [
       "<pre>| 748          | 2.8e+07 | 2.00946     | 12.13s       |</pre>"
      ],
      "text/plain": [
       "| 748          | 2.8e+07 | 2.00946     | 12.13s       |"
      ]
     },
     "metadata": {},
     "output_type": "display_data"
    },
    {
     "data": {
      "text/html": [
       "<pre>| 951          | 3.5e+07 | 2.5548      | 15.13s       |</pre>"
      ],
      "text/plain": [
       "| 951          | 3.5e+07 | 2.5548      | 15.13s       |"
      ]
     },
     "metadata": {},
     "output_type": "display_data"
    },
    {
     "data": {
      "text/html": [
       "<pre>| 1165         | 4.3e+07 | 3.1297      | 18.14s       |</pre>"
      ],
      "text/plain": [
       "| 1165         | 4.3e+07 | 3.1297      | 18.14s       |"
      ]
     },
     "metadata": {},
     "output_type": "display_data"
    },
    {
     "data": {
      "text/html": [
       "<pre>| 1339         | 5e+07   | 3.59714     | 21.17s       |</pre>"
      ],
      "text/plain": [
       "| 1339         | 5e+07   | 3.59714     | 21.17s       |"
      ]
     },
     "metadata": {},
     "output_type": "display_data"
    },
    {
     "data": {
      "text/html": [
       "<pre>| 1497         | 5.6e+07 | 4.0216      | 24.13s       |</pre>"
      ],
      "text/plain": [
       "| 1497         | 5.6e+07 | 4.0216      | 24.13s       |"
      ]
     },
     "metadata": {},
     "output_type": "display_data"
    },
    {
     "data": {
      "text/html": [
       "<pre>| 1675         | 6.2e+07 | 4.49979     | 27.14s       |</pre>"
      ],
      "text/plain": [
       "| 1675         | 6.2e+07 | 4.49979     | 27.14s       |"
      ]
     },
     "metadata": {},
     "output_type": "display_data"
    },
    {
     "data": {
      "text/html": [
       "<pre>| 1859         | 6.9e+07 | 4.99409     | 30.13s       |</pre>"
      ],
      "text/plain": [
       "| 1859         | 6.9e+07 | 4.99409     | 30.13s       |"
      ]
     },
     "metadata": {},
     "output_type": "display_data"
    },
    {
     "data": {
      "text/html": [
       "<pre>| 2026         | 7.5e+07 | 5.44273     | 33.13s       |</pre>"
      ],
      "text/plain": [
       "| 2026         | 7.5e+07 | 5.44273     | 33.13s       |"
      ]
     },
     "metadata": {},
     "output_type": "display_data"
    },
    {
     "data": {
      "text/html": [
       "<pre>| 2187         | 8.1e+07 | 5.87524     | 36.15s       |</pre>"
      ],
      "text/plain": [
       "| 2187         | 8.1e+07 | 5.87524     | 36.15s       |"
      ]
     },
     "metadata": {},
     "output_type": "display_data"
    },
    {
     "data": {
      "text/html": [
       "<pre>| 2357         | 8.8e+07 | 6.33194     | 39.19s       |</pre>"
      ],
      "text/plain": [
       "| 2357         | 8.8e+07 | 6.33194     | 39.19s       |"
      ]
     },
     "metadata": {},
     "output_type": "display_data"
    },
    {
     "data": {
      "text/html": [
       "<pre>| 2535         | 9.4e+07 | 6.81012     | 42.15s       |</pre>"
      ],
      "text/plain": [
       "| 2535         | 9.4e+07 | 6.81012     | 42.15s       |"
      ]
     },
     "metadata": {},
     "output_type": "display_data"
    },
    {
     "data": {
      "text/html": [
       "<pre>| 2760         | 1e+08   | 7.41457     | 45.16s       |</pre>"
      ],
      "text/plain": [
       "| 2760         | 1e+08   | 7.41457     | 45.16s       |"
      ]
     },
     "metadata": {},
     "output_type": "display_data"
    },
    {
     "data": {
      "text/html": [
       "<pre>| 2929         | 1.1e+08 | 7.86858     | 48.14s       |</pre>"
      ],
      "text/plain": [
       "| 2929         | 1.1e+08 | 7.86858     | 48.14s       |"
      ]
     },
     "metadata": {},
     "output_type": "display_data"
    },
    {
     "data": {
      "text/html": [
       "<pre>| 3131         | 1.2e+08 | 8.41124     | 51.15s       |</pre>"
      ],
      "text/plain": [
       "| 3131         | 1.2e+08 | 8.41124     | 51.15s       |"
      ]
     },
     "metadata": {},
     "output_type": "display_data"
    },
    {
     "data": {
      "text/html": [
       "<pre>| 3334         | 1.2e+08 | 8.95659     | 54.16s       |</pre>"
      ],
      "text/plain": [
       "| 3334         | 1.2e+08 | 8.95659     | 54.16s       |"
      ]
     },
     "metadata": {},
     "output_type": "display_data"
    },
    {
     "data": {
      "text/html": [
       "<pre>| 3555         | 1.3e+08 | 9.55029     | 57.14s       |</pre>"
      ],
      "text/plain": [
       "| 3555         | 1.3e+08 | 9.55029     | 57.14s       |"
      ]
     },
     "metadata": {},
     "output_type": "display_data"
    },
    {
     "data": {
      "text/html": [
       "<pre>| 3758         | 1.4e+08 | 10.0956     | 1m 0s        |</pre>"
      ],
      "text/plain": [
       "| 3758         | 1.4e+08 | 10.0956     | 1m 0s        |"
      ]
     },
     "metadata": {},
     "output_type": "display_data"
    },
    {
     "data": {
      "text/html": [
       "<pre>| 3948         | 1.5e+08 | 10.6061     | 1m 3s        |</pre>"
      ],
      "text/plain": [
       "| 3948         | 1.5e+08 | 10.6061     | 1m 3s        |"
      ]
     },
     "metadata": {},
     "output_type": "display_data"
    },
    {
     "data": {
      "text/html": [
       "<pre>| 4162         | 1.5e+08 | 11.181      | 1m 6s        |</pre>"
      ],
      "text/plain": [
       "| 4162         | 1.5e+08 | 11.181      | 1m 6s        |"
      ]
     },
     "metadata": {},
     "output_type": "display_data"
    },
    {
     "data": {
      "text/html": [
       "<pre>| 4352         | 1.6e+08 | 11.6914     | 1m 9s        |</pre>"
      ],
      "text/plain": [
       "| 4352         | 1.6e+08 | 11.6914     | 1m 9s        |"
      ]
     },
     "metadata": {},
     "output_type": "display_data"
    },
    {
     "data": {
      "text/html": [
       "<pre>| 4540         | 1.7e+08 | 12.1964     | 1m 12s       |</pre>"
      ],
      "text/plain": [
       "| 4540         | 1.7e+08 | 12.1964     | 1m 12s       |"
      ]
     },
     "metadata": {},
     "output_type": "display_data"
    },
    {
     "data": {
      "text/html": [
       "<pre>| 4735         | 1.8e+08 | 12.7203     | 1m 15s       |</pre>"
      ],
      "text/plain": [
       "| 4735         | 1.8e+08 | 12.7203     | 1m 15s       |"
      ]
     },
     "metadata": {},
     "output_type": "display_data"
    },
    {
     "data": {
      "text/html": [
       "<pre>| 4955         | 1.8e+08 | 13.3113     | 1m 18s       |</pre>"
      ],
      "text/plain": [
       "| 4955         | 1.8e+08 | 13.3113     | 1m 18s       |"
      ]
     },
     "metadata": {},
     "output_type": "display_data"
    },
    {
     "data": {
      "text/html": [
       "<pre>| 5169         | 1.9e+08 | 13.8862     | 1m 21s       |</pre>"
      ],
      "text/plain": [
       "| 5169         | 1.9e+08 | 13.8862     | 1m 21s       |"
      ]
     },
     "metadata": {},
     "output_type": "display_data"
    },
    {
     "data": {
      "text/html": [
       "<pre>| 5368         | 2e+08   | 14.4208     | 1m 24s       |</pre>"
      ],
      "text/plain": [
       "| 5368         | 2e+08   | 14.4208     | 1m 24s       |"
      ]
     },
     "metadata": {},
     "output_type": "display_data"
    },
    {
     "data": {
      "text/html": [
       "<pre>| 5560         | 2.1e+08 | 14.9366     | 1m 27s       |</pre>"
      ],
      "text/plain": [
       "| 5560         | 2.1e+08 | 14.9366     | 1m 27s       |"
      ]
     },
     "metadata": {},
     "output_type": "display_data"
    },
    {
     "data": {
      "text/html": [
       "<pre>| 5751         | 2.1e+08 | 15.4497     | 1m 30s       |</pre>"
      ],
      "text/plain": [
       "| 5751         | 2.1e+08 | 15.4497     | 1m 30s       |"
      ]
     },
     "metadata": {},
     "output_type": "display_data"
    },
    {
     "data": {
      "text/html": [
       "<pre>| 5964         | 2.2e+08 | 16.0219     | 1m 33s       |</pre>"
      ],
      "text/plain": [
       "| 5964         | 2.2e+08 | 16.0219     | 1m 33s       |"
      ]
     },
     "metadata": {},
     "output_type": "display_data"
    },
    {
     "data": {
      "text/html": [
       "<pre>| 6164         | 2.3e+08 | 16.5592     | 1m 36s       |</pre>"
      ],
      "text/plain": [
       "| 6164         | 2.3e+08 | 16.5592     | 1m 36s       |"
      ]
     },
     "metadata": {},
     "output_type": "display_data"
    },
    {
     "data": {
      "text/html": [
       "<pre>| 6365         | 2.4e+08 | 17.0992     | 1m 39s       |</pre>"
      ],
      "text/plain": [
       "| 6365         | 2.4e+08 | 17.0992     | 1m 39s       |"
      ]
     },
     "metadata": {},
     "output_type": "display_data"
    },
    {
     "data": {
      "text/html": [
       "<pre>| 6589         | 2.5e+08 | 17.7009     | 1m 42s       |</pre>"
      ],
      "text/plain": [
       "| 6589         | 2.5e+08 | 17.7009     | 1m 42s       |"
      ]
     },
     "metadata": {},
     "output_type": "display_data"
    },
    {
     "data": {
      "text/html": [
       "<pre>| 6778         | 2.5e+08 | 18.2087     | 1m 45s       |</pre>"
      ],
      "text/plain": [
       "| 6778         | 2.5e+08 | 18.2087     | 1m 45s       |"
      ]
     },
     "metadata": {},
     "output_type": "display_data"
    },
    {
     "data": {
      "text/html": [
       "<pre>| 6959         | 2.6e+08 | 18.6949     | 1m 48s       |</pre>"
      ],
      "text/plain": [
       "| 6959         | 2.6e+08 | 18.6949     | 1m 48s       |"
      ]
     },
     "metadata": {},
     "output_type": "display_data"
    },
    {
     "data": {
      "text/html": [
       "<pre>| 7155         | 2.7e+08 | 19.2215     | 1m 51s       |</pre>"
      ],
      "text/plain": [
       "| 7155         | 2.7e+08 | 19.2215     | 1m 51s       |"
      ]
     },
     "metadata": {},
     "output_type": "display_data"
    },
    {
     "data": {
      "text/html": [
       "<pre>| 7377         | 2.7e+08 | 19.8179     | 1m 54s       |</pre>"
      ],
      "text/plain": [
       "| 7377         | 2.7e+08 | 19.8179     | 1m 54s       |"
      ]
     },
     "metadata": {},
     "output_type": "display_data"
    },
    {
     "data": {
      "text/html": [
       "<pre>| 7599         | 2.8e+08 | 20.4142     | 1m 57s       |</pre>"
      ],
      "text/plain": [
       "| 7599         | 2.8e+08 | 20.4142     | 1m 57s       |"
      ]
     },
     "metadata": {},
     "output_type": "display_data"
    },
    {
     "data": {
      "text/html": [
       "<pre>| 7798         | 2.9e+08 | 20.9489     | 2m 0s        |</pre>"
      ],
      "text/plain": [
       "| 7798         | 2.9e+08 | 20.9489     | 2m 0s        |"
      ]
     },
     "metadata": {},
     "output_type": "display_data"
    },
    {
     "data": {
      "text/html": [
       "<pre>| 8004         | 3e+08   | 21.5023     | 2m 3s        |</pre>"
      ],
      "text/plain": [
       "| 8004         | 3e+08   | 21.5023     | 2m 3s        |"
      ]
     },
     "metadata": {},
     "output_type": "display_data"
    },
    {
     "data": {
      "text/html": [
       "<pre>| 8227         | 3.1e+08 | 22.1013     | 2m 6s        |</pre>"
      ],
      "text/plain": [
       "| 8227         | 3.1e+08 | 22.1013     | 2m 6s        |"
      ]
     },
     "metadata": {},
     "output_type": "display_data"
    },
    {
     "data": {
      "text/html": [
       "<pre>| 8437         | 3.1e+08 | 22.6655     | 2m 9s        |</pre>"
      ],
      "text/plain": [
       "| 8437         | 3.1e+08 | 22.6655     | 2m 9s        |"
      ]
     },
     "metadata": {},
     "output_type": "display_data"
    },
    {
     "data": {
      "text/html": [
       "<pre>| 8626         | 3.2e+08 | 23.1732     | 2m 12s       |</pre>"
      ],
      "text/plain": [
       "| 8626         | 3.2e+08 | 23.1732     | 2m 12s       |"
      ]
     },
     "metadata": {},
     "output_type": "display_data"
    },
    {
     "data": {
      "text/html": [
       "<pre>| 8834         | 3.3e+08 | 23.732      | 2m 15s       |</pre>"
      ],
      "text/plain": [
       "| 8834         | 3.3e+08 | 23.732      | 2m 15s       |"
      ]
     },
     "metadata": {},
     "output_type": "display_data"
    },
    {
     "data": {
      "text/html": [
       "<pre>| 9058         | 3.4e+08 | 24.3338     | 2m 18s       |</pre>"
      ],
      "text/plain": [
       "| 9058         | 3.4e+08 | 24.3338     | 2m 18s       |"
      ]
     },
     "metadata": {},
     "output_type": "display_data"
    },
    {
     "data": {
      "text/html": [
       "<pre>| 9247         | 3.4e+08 | 24.8415     | 2m 21s       |</pre>"
      ],
      "text/plain": [
       "| 9247         | 3.4e+08 | 24.8415     | 2m 21s       |"
      ]
     },
     "metadata": {},
     "output_type": "display_data"
    },
    {
     "data": {
      "text/html": [
       "<pre>| 9442         | 3.5e+08 | 25.3654     | 2m 24s       |</pre>"
      ],
      "text/plain": [
       "| 9442         | 3.5e+08 | 25.3654     | 2m 24s       |"
      ]
     },
     "metadata": {},
     "output_type": "display_data"
    },
    {
     "data": {
      "text/html": [
       "<pre>| 9636         | 3.6e+08 | 25.8865     | 2m 27s       |</pre>"
      ],
      "text/plain": [
       "| 9636         | 3.6e+08 | 25.8865     | 2m 27s       |"
      ]
     },
     "metadata": {},
     "output_type": "display_data"
    },
    {
     "data": {
      "text/html": [
       "<pre>| 9855         | 3.7e+08 | 26.4749     | 2m 30s       |</pre>"
      ],
      "text/plain": [
       "| 9855         | 3.7e+08 | 26.4749     | 2m 30s       |"
      ]
     },
     "metadata": {},
     "output_type": "display_data"
    },
    {
     "data": {
      "text/html": [
       "<pre>| 10054        | 3.7e+08 | 27.0095     | 2m 33s       |</pre>"
      ],
      "text/plain": [
       "| 10054        | 3.7e+08 | 27.0095     | 2m 33s       |"
      ]
     },
     "metadata": {},
     "output_type": "display_data"
    },
    {
     "data": {
      "text/html": [
       "<pre>| 10255        | 3.8e+08 | 27.5494     | 2m 36s       |</pre>"
      ],
      "text/plain": [
       "| 10255        | 3.8e+08 | 27.5494     | 2m 36s       |"
      ]
     },
     "metadata": {},
     "output_type": "display_data"
    },
    {
     "data": {
      "text/html": [
       "<pre>| 10472        | 3.9e+08 | 28.1324     | 2m 39s       |</pre>"
      ],
      "text/plain": [
       "| 10472        | 3.9e+08 | 28.1324     | 2m 39s       |"
      ]
     },
     "metadata": {},
     "output_type": "display_data"
    },
    {
     "data": {
      "text/html": [
       "<pre>| 10698        | 4e+08   | 28.7395     | 2m 42s       |</pre>"
      ],
      "text/plain": [
       "| 10698        | 4e+08   | 28.7395     | 2m 42s       |"
      ]
     },
     "metadata": {},
     "output_type": "display_data"
    },
    {
     "data": {
      "text/html": [
       "<pre>| 10904        | 4.1e+08 | 29.2929     | 2m 45s       |</pre>"
      ],
      "text/plain": [
       "| 10904        | 4.1e+08 | 29.2929     | 2m 45s       |"
      ]
     },
     "metadata": {},
     "output_type": "display_data"
    },
    {
     "data": {
      "text/html": [
       "<pre>| 11104        | 4.1e+08 | 29.8302     | 2m 48s       |</pre>"
      ],
      "text/plain": [
       "| 11104        | 4.1e+08 | 29.8302     | 2m 48s       |"
      ]
     },
     "metadata": {},
     "output_type": "display_data"
    },
    {
     "data": {
      "text/html": [
       "<pre>| 11308        | 4.2e+08 | 30.3783     | 2m 51s       |</pre>"
      ],
      "text/plain": [
       "| 11308        | 4.2e+08 | 30.3783     | 2m 51s       |"
      ]
     },
     "metadata": {},
     "output_type": "display_data"
    },
    {
     "data": {
      "text/html": [
       "<pre>| 11516        | 4.3e+08 | 30.937      | 2m 54s       |</pre>"
      ],
      "text/plain": [
       "| 11516        | 4.3e+08 | 30.937      | 2m 54s       |"
      ]
     },
     "metadata": {},
     "output_type": "display_data"
    },
    {
     "data": {
      "text/html": [
       "<pre>| 11699        | 4.4e+08 | 31.4286     | 2m 57s       |</pre>"
      ],
      "text/plain": [
       "| 11699        | 4.4e+08 | 31.4286     | 2m 57s       |"
      ]
     },
     "metadata": {},
     "output_type": "display_data"
    },
    {
     "data": {
      "text/html": [
       "<pre>| 11901        | 4.4e+08 | 31.9713     | 3m 0s        |</pre>"
      ],
      "text/plain": [
       "| 11901        | 4.4e+08 | 31.9713     | 3m 0s        |"
      ]
     },
     "metadata": {},
     "output_type": "display_data"
    },
    {
     "data": {
      "text/html": [
       "<pre>| 12109        | 4.5e+08 | 32.5301     | 3m 3s        |</pre>"
      ],
      "text/plain": [
       "| 12109        | 4.5e+08 | 32.5301     | 3m 3s        |"
      ]
     },
     "metadata": {},
     "output_type": "display_data"
    },
    {
     "data": {
      "text/html": [
       "<pre>| 12336        | 4.6e+08 | 33.1399     | 3m 6s        |</pre>"
      ],
      "text/plain": [
       "| 12336        | 4.6e+08 | 33.1399     | 3m 6s        |"
      ]
     },
     "metadata": {},
     "output_type": "display_data"
    },
    {
     "data": {
      "text/html": [
       "<pre>| 12540        | 4.7e+08 | 33.6879     | 3m 9s        |</pre>"
      ],
      "text/plain": [
       "| 12540        | 4.7e+08 | 33.6879     | 3m 9s        |"
      ]
     },
     "metadata": {},
     "output_type": "display_data"
    },
    {
     "data": {
      "text/html": [
       "<pre>| 12716        | 4.7e+08 | 34.1608     | 3m 12s       |</pre>"
      ],
      "text/plain": [
       "| 12716        | 4.7e+08 | 34.1608     | 3m 12s       |"
      ]
     },
     "metadata": {},
     "output_type": "display_data"
    },
    {
     "data": {
      "text/html": [
       "<pre>| 12884        | 4.8e+08 | 34.6121     | 3m 15s       |</pre>"
      ],
      "text/plain": [
       "| 12884        | 4.8e+08 | 34.6121     | 3m 15s       |"
      ]
     },
     "metadata": {},
     "output_type": "display_data"
    },
    {
     "data": {
      "text/html": [
       "<pre>| 13070        | 4.9e+08 | 35.1118     | 3m 18s       |</pre>"
      ],
      "text/plain": [
       "| 13070        | 4.9e+08 | 35.1118     | 3m 18s       |"
      ]
     },
     "metadata": {},
     "output_type": "display_data"
    },
    {
     "data": {
      "text/html": [
       "<pre>| 13251        | 4.9e+08 | 35.598      | 3m 21s       |</pre>"
      ],
      "text/plain": [
       "| 13251        | 4.9e+08 | 35.598      | 3m 21s       |"
      ]
     },
     "metadata": {},
     "output_type": "display_data"
    },
    {
     "data": {
      "text/html": [
       "<pre>| 13425        | 5e+08   | 36.0654     | 3m 24s       |</pre>"
      ],
      "text/plain": [
       "| 13425        | 5e+08   | 36.0654     | 3m 24s       |"
      ]
     },
     "metadata": {},
     "output_type": "display_data"
    },
    {
     "data": {
      "text/html": [
       "<pre>| 13614        | 5.1e+08 | 36.5732     | 3m 27s       |</pre>"
      ],
      "text/plain": [
       "| 13614        | 5.1e+08 | 36.5732     | 3m 27s       |"
      ]
     },
     "metadata": {},
     "output_type": "display_data"
    },
    {
     "data": {
      "text/html": [
       "<pre>| 13816        | 5.1e+08 | 37.1158     | 3m 30s       |</pre>"
      ],
      "text/plain": [
       "| 13816        | 5.1e+08 | 37.1158     | 3m 30s       |"
      ]
     },
     "metadata": {},
     "output_type": "display_data"
    },
    {
     "data": {
      "text/html": [
       "<pre>| 14003        | 5.2e+08 | 37.6182     | 3m 33s       |</pre>"
      ],
      "text/plain": [
       "| 14003        | 5.2e+08 | 37.6182     | 3m 33s       |"
      ]
     },
     "metadata": {},
     "output_type": "display_data"
    },
    {
     "data": {
      "text/html": [
       "<pre>| 14187        | 5.3e+08 | 38.1125     | 3m 36s       |</pre>"
      ],
      "text/plain": [
       "| 14187        | 5.3e+08 | 38.1125     | 3m 36s       |"
      ]
     },
     "metadata": {},
     "output_type": "display_data"
    },
    {
     "data": {
      "text/html": [
       "<pre>| 14395        | 5.4e+08 | 38.6713     | 3m 39s       |</pre>"
      ],
      "text/plain": [
       "| 14395        | 5.4e+08 | 38.6713     | 3m 39s       |"
      ]
     },
     "metadata": {},
     "output_type": "display_data"
    },
    {
     "data": {
      "text/html": [
       "<pre>| 14609        | 5.4e+08 | 39.2462     | 3m 42s       |</pre>"
      ],
      "text/plain": [
       "| 14609        | 5.4e+08 | 39.2462     | 3m 42s       |"
      ]
     },
     "metadata": {},
     "output_type": "display_data"
    },
    {
     "data": {
      "text/html": [
       "<pre>| 14799        | 5.5e+08 | 39.7566     | 3m 45s       |</pre>"
      ],
      "text/plain": [
       "| 14799        | 5.5e+08 | 39.7566     | 3m 45s       |"
      ]
     },
     "metadata": {},
     "output_type": "display_data"
    },
    {
     "data": {
      "text/html": [
       "<pre>| 14975        | 5.6e+08 | 40.2294     | 3m 48s       |</pre>"
      ],
      "text/plain": [
       "| 14975        | 5.6e+08 | 40.2294     | 3m 48s       |"
      ]
     },
     "metadata": {},
     "output_type": "display_data"
    },
    {
     "data": {
      "text/html": [
       "<pre>| 15149        | 5.6e+08 | 40.6969     | 3m 51s       |</pre>"
      ],
      "text/plain": [
       "| 15149        | 5.6e+08 | 40.6969     | 3m 51s       |"
      ]
     },
     "metadata": {},
     "output_type": "display_data"
    },
    {
     "data": {
      "text/html": [
       "<pre>| 15349        | 5.7e+08 | 41.2342     | 3m 54s       |</pre>"
      ],
      "text/plain": [
       "| 15349        | 5.7e+08 | 41.2342     | 3m 54s       |"
      ]
     },
     "metadata": {},
     "output_type": "display_data"
    },
    {
     "data": {
      "text/html": [
       "<pre>| 15542        | 5.8e+08 | 41.7526     | 3m 57s       |</pre>"
      ],
      "text/plain": [
       "| 15542        | 5.8e+08 | 41.7526     | 3m 57s       |"
      ]
     },
     "metadata": {},
     "output_type": "display_data"
    },
    {
     "data": {
      "text/html": [
       "<pre>| 15743        | 5.9e+08 | 42.2926     | 4m 0s        |</pre>"
      ],
      "text/plain": [
       "| 15743        | 5.9e+08 | 42.2926     | 4m 0s        |"
      ]
     },
     "metadata": {},
     "output_type": "display_data"
    },
    {
     "data": {
      "text/html": [
       "<pre>| 15946        | 5.9e+08 | 42.838      | 4m 3s        |</pre>"
      ],
      "text/plain": [
       "| 15946        | 5.9e+08 | 42.838      | 4m 3s        |"
      ]
     },
     "metadata": {},
     "output_type": "display_data"
    },
    {
     "data": {
      "text/html": [
       "<pre>| 16174        | 6e+08   | 43.4505     | 4m 6s        |</pre>"
      ],
      "text/plain": [
       "| 16174        | 6e+08   | 43.4505     | 4m 6s        |"
      ]
     },
     "metadata": {},
     "output_type": "display_data"
    },
    {
     "data": {
      "text/html": [
       "<pre>| 16374        | 6.1e+08 | 43.9877     | 4m 9s        |</pre>"
      ],
      "text/plain": [
       "| 16374        | 6.1e+08 | 43.9877     | 4m 9s        |"
      ]
     },
     "metadata": {},
     "output_type": "display_data"
    },
    {
     "data": {
      "text/html": [
       "<pre>| 16567        | 6.2e+08 | 44.5062     | 4m 12s       |</pre>"
      ],
      "text/plain": [
       "| 16567        | 6.2e+08 | 44.5062     | 4m 12s       |"
      ]
     },
     "metadata": {},
     "output_type": "display_data"
    },
    {
     "data": {
      "text/html": [
       "<pre>| 16763        | 6.2e+08 | 45.0328     | 4m 15s       |</pre>"
      ],
      "text/plain": [
       "| 16763        | 6.2e+08 | 45.0328     | 4m 15s       |"
      ]
     },
     "metadata": {},
     "output_type": "display_data"
    },
    {
     "data": {
      "text/html": [
       "<pre>| 16925        |         | 45.468      | 4m 18s       |</pre>"
      ],
      "text/plain": [
       "| 16925        |         | 45.468      | 4m 18s       |"
      ]
     },
     "metadata": {},
     "output_type": "display_data"
    },
    {
     "data": {
      "text/html": [
       "<pre>| 17111        | 6.4e+08 | 45.9677     | 4m 21s       |</pre>"
      ],
      "text/plain": [
       "| 17111        | 6.4e+08 | 45.9677     | 4m 21s       |"
      ]
     },
     "metadata": {},
     "output_type": "display_data"
    },
    {
     "data": {
      "text/html": [
       "<pre>| 17345        | 6.5e+08 | 46.5963     | 4m 24s       |</pre>"
      ],
      "text/plain": [
       "| 17345        | 6.5e+08 | 46.5963     | 4m 24s       |"
      ]
     },
     "metadata": {},
     "output_type": "display_data"
    },
    {
     "data": {
      "text/html": [
       "<pre>| 17580        | 6.5e+08 | 47.2276     | 4m 27s       |</pre>"
      ],
      "text/plain": [
       "| 17580        | 6.5e+08 | 47.2276     | 4m 27s       |"
      ]
     },
     "metadata": {},
     "output_type": "display_data"
    },
    {
     "data": {
      "text/html": [
       "<pre>| 17771        | 6.6e+08 | 47.7407     | 4m 30s       |</pre>"
      ],
      "text/plain": [
       "| 17771        | 6.6e+08 | 47.7407     | 4m 30s       |"
      ]
     },
     "metadata": {},
     "output_type": "display_data"
    },
    {
     "data": {
      "text/html": [
       "<pre>| 17946        | 6.7e+08 | 48.2108     | 4m 33s       |</pre>"
      ],
      "text/plain": [
       "| 17946        | 6.7e+08 | 48.2108     | 4m 33s       |"
      ]
     },
     "metadata": {},
     "output_type": "display_data"
    },
    {
     "data": {
      "text/html": [
       "<pre>| 18133        | 6.7e+08 | 48.7132     | 4m 36s       |</pre>"
      ],
      "text/plain": [
       "| 18133        | 6.7e+08 | 48.7132     | 4m 36s       |"
      ]
     },
     "metadata": {},
     "output_type": "display_data"
    },
    {
     "data": {
      "text/html": [
       "<pre>| 18343        | 6.8e+08 | 49.2773     | 4m 39s       |</pre>"
      ],
      "text/plain": [
       "| 18343        | 6.8e+08 | 49.2773     | 4m 39s       |"
      ]
     },
     "metadata": {},
     "output_type": "display_data"
    },
    {
     "data": {
      "text/html": [
       "<pre>| 18546        | 6.9e+08 | 49.8227     | 4m 42s       |</pre>"
      ],
      "text/plain": [
       "| 18546        | 6.9e+08 | 49.8227     | 4m 42s       |"
      ]
     },
     "metadata": {},
     "output_type": "display_data"
    },
    {
     "data": {
      "text/html": [
       "<pre>| 18729        | 7e+08   | 50.3143     | 4m 45s       |</pre>"
      ],
      "text/plain": [
       "| 18729        | 7e+08   | 50.3143     | 4m 45s       |"
      ]
     },
     "metadata": {},
     "output_type": "display_data"
    },
    {
     "data": {
      "text/html": [
       "<pre>| 18917        | 7e+08   | 50.8194     | 4m 48s       |</pre>"
      ],
      "text/plain": [
       "| 18917        | 7e+08   | 50.8194     | 4m 48s       |"
      ]
     },
     "metadata": {},
     "output_type": "display_data"
    },
    {
     "data": {
      "text/html": [
       "<pre>| 19115        | 7.1e+08 | 51.3513     | 4m 51s       |</pre>"
      ],
      "text/plain": [
       "| 19115        | 7.1e+08 | 51.3513     | 4m 51s       |"
      ]
     },
     "metadata": {},
     "output_type": "display_data"
    },
    {
     "data": {
      "text/html": [
       "<pre>| 19354        | 7.2e+08 | 51.9933     | 4m 54s       |</pre>"
      ],
      "text/plain": [
       "| 19354        | 7.2e+08 | 51.9933     | 4m 54s       |"
      ]
     },
     "metadata": {},
     "output_type": "display_data"
    },
    {
     "data": {
      "text/html": [
       "<pre>| 19551        | 7.3e+08 | 52.5226     | 4m 57s       |</pre>"
      ],
      "text/plain": [
       "| 19551        | 7.3e+08 | 52.5226     | 4m 57s       |"
      ]
     },
     "metadata": {},
     "output_type": "display_data"
    },
    {
     "data": {
      "text/html": [
       "<pre>| 19747        | 7.4e+08 | 53.0491     | 5m 0s        |</pre>"
      ],
      "text/plain": [
       "| 19747        | 7.4e+08 | 53.0491     | 5m 0s        |"
      ]
     },
     "metadata": {},
     "output_type": "display_data"
    },
    {
     "data": {
      "text/html": [
       "<pre>| 19957        | 7.4e+08 | 53.6133     | 5m 3s        |</pre>"
      ],
      "text/plain": [
       "| 19957        | 7.4e+08 | 53.6133     | 5m 3s        |"
      ]
     },
     "metadata": {},
     "output_type": "display_data"
    },
    {
     "data": {
      "text/html": [
       "<pre>| 20180        | 7.5e+08 | 54.2123     | 5m 6s        |</pre>"
      ],
      "text/plain": [
       "| 20180        | 7.5e+08 | 54.2123     | 5m 6s        |"
      ]
     },
     "metadata": {},
     "output_type": "display_data"
    },
    {
     "data": {
      "text/html": [
       "<pre>| 20378        | 7.6e+08 | 54.7443     | 5m 9s        |</pre>"
      ],
      "text/plain": [
       "| 20378        | 7.6e+08 | 54.7443     | 5m 9s        |"
      ]
     },
     "metadata": {},
     "output_type": "display_data"
    },
    {
     "data": {
      "text/html": [
       "<pre>| 20586        | 7.7e+08 | 55.303      | 5m 12s       |</pre>"
      ],
      "text/plain": [
       "| 20586        | 7.7e+08 | 55.303      | 5m 12s       |"
      ]
     },
     "metadata": {},
     "output_type": "display_data"
    },
    {
     "data": {
      "text/html": [
       "<pre>| 20810        | 7.7e+08 | 55.9048     | 5m 15s       |</pre>"
      ],
      "text/plain": [
       "| 20810        | 7.7e+08 | 55.9048     | 5m 15s       |"
      ]
     },
     "metadata": {},
     "output_type": "display_data"
    },
    {
     "data": {
      "text/html": [
       "<pre>| 21034        | 7.8e+08 | 56.5066     | 5m 18s       |</pre>"
      ],
      "text/plain": [
       "| 21034        | 7.8e+08 | 56.5066     | 5m 18s       |"
      ]
     },
     "metadata": {},
     "output_type": "display_data"
    },
    {
     "data": {
      "text/html": [
       "<pre>| 21231        | 7.9e+08 | 57.0358     | 5m 21s       |</pre>"
      ],
      "text/plain": [
       "| 21231        | 7.9e+08 | 57.0358     | 5m 21s       |"
      ]
     },
     "metadata": {},
     "output_type": "display_data"
    },
    {
     "data": {
      "text/html": [
       "<pre>| 21437        | 8e+08   | 57.5892     | 5m 24s       |</pre>"
      ],
      "text/plain": [
       "| 21437        | 8e+08   | 57.5892     | 5m 24s       |"
      ]
     },
     "metadata": {},
     "output_type": "display_data"
    },
    {
     "data": {
      "text/html": [
       "<pre>| 21634        | 8.1e+08 | 58.1184     | 5m 27s       |</pre>"
      ],
      "text/plain": [
       "| 21634        | 8.1e+08 | 58.1184     | 5m 27s       |"
      ]
     },
     "metadata": {},
     "output_type": "display_data"
    },
    {
     "data": {
      "text/html": [
       "<pre>| 21826        | 8.1e+08 | 58.6342     | 5m 30s       |</pre>"
      ],
      "text/plain": [
       "| 21826        | 8.1e+08 | 58.6342     | 5m 30s       |"
      ]
     },
     "metadata": {},
     "output_type": "display_data"
    },
    {
     "data": {
      "text/html": [
       "<pre>| 22024        | 8.2e+08 | 59.1661     | 5m 33s       |</pre>"
      ],
      "text/plain": [
       "| 22024        | 8.2e+08 | 59.1661     | 5m 33s       |"
      ]
     },
     "metadata": {},
     "output_type": "display_data"
    },
    {
     "data": {
      "text/html": [
       "<pre>| 22187        | 8.3e+08 | 59.604      | 5m 36s       |</pre>"
      ],
      "text/plain": [
       "| 22187        | 8.3e+08 | 59.604      | 5m 36s       |"
      ]
     },
     "metadata": {},
     "output_type": "display_data"
    },
    {
     "data": {
      "text/html": [
       "<pre>| 22399        | 8.3e+08 | 60.1735     | 5m 39s       |</pre>"
      ],
      "text/plain": [
       "| 22399        | 8.3e+08 | 60.1735     | 5m 39s       |"
      ]
     },
     "metadata": {},
     "output_type": "display_data"
    },
    {
     "data": {
      "text/html": [
       "<pre>| 22593        | 8.4e+08 | 60.6947     | 5m 42s       |</pre>"
      ],
      "text/plain": [
       "| 22593        | 8.4e+08 | 60.6947     | 5m 42s       |"
      ]
     },
     "metadata": {},
     "output_type": "display_data"
    },
    {
     "data": {
      "text/html": [
       "<pre>| 22779        | 8.5e+08 | 61.1944     | 5m 45s       |</pre>"
      ],
      "text/plain": [
       "| 22779        | 8.5e+08 | 61.1944     | 5m 45s       |"
      ]
     },
     "metadata": {},
     "output_type": "display_data"
    },
    {
     "data": {
      "text/html": [
       "<pre>| 22965        | 8.5e+08 | 61.6941     | 5m 48s       |</pre>"
      ],
      "text/plain": [
       "| 22965        | 8.5e+08 | 61.6941     | 5m 48s       |"
      ]
     },
     "metadata": {},
     "output_type": "display_data"
    },
    {
     "data": {
      "text/html": [
       "<pre>| 23148        | 8.6e+08 | 62.1857     | 5m 51s       |</pre>"
      ],
      "text/plain": [
       "| 23148        | 8.6e+08 | 62.1857     | 5m 51s       |"
      ]
     },
     "metadata": {},
     "output_type": "display_data"
    },
    {
     "data": {
      "text/html": [
       "<pre>| 23353        | 8.7e+08 | 62.7364     | 5m 54s       |</pre>"
      ],
      "text/plain": [
       "| 23353        | 8.7e+08 | 62.7364     | 5m 54s       |"
      ]
     },
     "metadata": {},
     "output_type": "display_data"
    },
    {
     "data": {
      "text/html": [
       "<pre>| 23546        | 8.8e+08 | 63.2549     | 5m 57s       |</pre>"
      ],
      "text/plain": [
       "| 23546        | 8.8e+08 | 63.2549     | 5m 57s       |"
      ]
     },
     "metadata": {},
     "output_type": "display_data"
    },
    {
     "data": {
      "text/html": [
       "<pre>| 23721        | 8.8e+08 | 63.725      | 6m 0s        |</pre>"
      ],
      "text/plain": [
       "| 23721        | 8.8e+08 | 63.725      | 6m 0s        |"
      ]
     },
     "metadata": {},
     "output_type": "display_data"
    },
    {
     "data": {
      "text/html": [
       "<pre>| 23868        | 8.9e+08 | 64.1199     | 6m 3s        |</pre>"
      ],
      "text/plain": [
       "| 23868        | 8.9e+08 | 64.1199     | 6m 3s        |"
      ]
     },
     "metadata": {},
     "output_type": "display_data"
    },
    {
     "data": {
      "text/html": [
       "<pre>| 23981        | 8.9e+08 | 64.4235     | 6m 6s        |</pre>"
      ],
      "text/plain": [
       "| 23981        | 8.9e+08 | 64.4235     | 6m 6s        |"
      ]
     },
     "metadata": {},
     "output_type": "display_data"
    },
    {
     "data": {
      "text/html": [
       "<pre>| 24132        | 9e+08   | 64.8291     | 6m 9s        |</pre>"
      ],
      "text/plain": [
       "| 24132        | 9e+08   | 64.8291     | 6m 9s        |"
      ]
     },
     "metadata": {},
     "output_type": "display_data"
    },
    {
     "data": {
      "text/html": [
       "<pre>| 24283        | 9e+08   | 65.2348     | 6m 12s       |</pre>"
      ],
      "text/plain": [
       "| 24283        | 9e+08   | 65.2348     | 6m 12s       |"
      ]
     },
     "metadata": {},
     "output_type": "display_data"
    },
    {
     "data": {
      "text/html": [
       "<pre>| 24434        | 9.1e+08 | 65.6404     | 6m 15s       |</pre>"
      ],
      "text/plain": [
       "| 24434        | 9.1e+08 | 65.6404     | 6m 15s       |"
      ]
     },
     "metadata": {},
     "output_type": "display_data"
    },
    {
     "data": {
      "text/html": [
       "<pre>| 24592        | 9.2e+08 | 66.0649     | 6m 18s       |</pre>"
      ],
      "text/plain": [
       "| 24592        | 9.2e+08 | 66.0649     | 6m 18s       |"
      ]
     },
     "metadata": {},
     "output_type": "display_data"
    },
    {
     "data": {
      "text/html": [
       "<pre>| 24747        | 9.2e+08 | 66.4813     | 6m 21s       |</pre>"
      ],
      "text/plain": [
       "| 24747        | 9.2e+08 | 66.4813     | 6m 21s       |"
      ]
     },
     "metadata": {},
     "output_type": "display_data"
    },
    {
     "data": {
      "text/html": [
       "<pre>| 24894        | 9.3e+08 | 66.8762     | 6m 24s       |</pre>"
      ],
      "text/plain": [
       "| 24894        | 9.3e+08 | 66.8762     | 6m 24s       |"
      ]
     },
     "metadata": {},
     "output_type": "display_data"
    },
    {
     "data": {
      "text/html": [
       "<pre>| 25046        | 9.3e+08 | 67.2845     | 6m 27s       |</pre>"
      ],
      "text/plain": [
       "| 25046        | 9.3e+08 | 67.2845     | 6m 27s       |"
      ]
     },
     "metadata": {},
     "output_type": "display_data"
    },
    {
     "data": {
      "text/html": [
       "<pre>| 25213        | 9.4e+08 | 67.7332     | 6m 30s       |</pre>"
      ],
      "text/plain": [
       "| 25213        | 9.4e+08 | 67.7332     | 6m 30s       |"
      ]
     },
     "metadata": {},
     "output_type": "display_data"
    },
    {
     "data": {
      "text/html": [
       "<pre>| 25394        | 9.5e+08 | 68.2194     | 6m 33s       |</pre>"
      ],
      "text/plain": [
       "| 25394        | 9.5e+08 | 68.2194     | 6m 33s       |"
      ]
     },
     "metadata": {},
     "output_type": "display_data"
    },
    {
     "data": {
      "text/html": [
       "<pre>| 25538        | 9.5e+08 | 68.6063     | 6m 36s       |</pre>"
      ],
      "text/plain": [
       "| 25538        | 9.5e+08 | 68.6063     | 6m 36s       |"
      ]
     },
     "metadata": {},
     "output_type": "display_data"
    },
    {
     "data": {
      "text/html": [
       "<pre>| 25699        | 9.6e+08 | 69.0388     | 6m 39s       |</pre>"
      ],
      "text/plain": [
       "| 25699        | 9.6e+08 | 69.0388     | 6m 39s       |"
      ]
     },
     "metadata": {},
     "output_type": "display_data"
    },
    {
     "data": {
      "text/html": [
       "<pre>| 25855        | 9.6e+08 | 69.4579     | 6m 42s       |</pre>"
      ],
      "text/plain": [
       "| 25855        | 9.6e+08 | 69.4579     | 6m 42s       |"
      ]
     },
     "metadata": {},
     "output_type": "display_data"
    },
    {
     "data": {
      "text/html": [
       "<pre>| 26028        | 9.7e+08 | 69.9226     | 6m 45s       |</pre>"
      ],
      "text/plain": [
       "| 26028        | 9.7e+08 | 69.9226     | 6m 45s       |"
      ]
     },
     "metadata": {},
     "output_type": "display_data"
    },
    {
     "data": {
      "text/html": [
       "<pre>| 26211        | 9.8e+08 | 70.4142     | 6m 48s       |</pre>"
      ],
      "text/plain": [
       "| 26211        | 9.8e+08 | 70.4142     | 6m 48s       |"
      ]
     },
     "metadata": {},
     "output_type": "display_data"
    },
    {
     "data": {
      "text/html": [
       "<pre>| 26387        | 9.8e+08 | 70.8871     | 6m 51s       |</pre>"
      ],
      "text/plain": [
       "| 26387        | 9.8e+08 | 70.8871     | 6m 51s       |"
      ]
     },
     "metadata": {},
     "output_type": "display_data"
    },
    {
     "data": {
      "text/html": [
       "<pre>| 26545        | 9.9e+08 | 71.3115     | 6m 54s       |</pre>"
      ],
      "text/plain": [
       "| 26545        | 9.9e+08 | 71.3115     | 6m 54s       |"
      ]
     },
     "metadata": {},
     "output_type": "display_data"
    },
    {
     "data": {
      "text/html": [
       "<pre>| 26709        | 9.9e+08 | 71.7521     | 6m 57s       |</pre>"
      ],
      "text/plain": [
       "| 26709        | 9.9e+08 | 71.7521     | 6m 57s       |"
      ]
     },
     "metadata": {},
     "output_type": "display_data"
    },
    {
     "data": {
      "text/html": [
       "<pre>| 26894        | 1e+09   | 72.2491     | 7m 0s        |</pre>"
      ],
      "text/plain": [
       "| 26894        | 1e+09   | 72.2491     | 7m 0s        |"
      ]
     },
     "metadata": {},
     "output_type": "display_data"
    },
    {
     "data": {
      "text/html": [
       "<pre>| 27070        | 1e+09   | 72.7219     | 7m 3s        |</pre>"
      ],
      "text/plain": [
       "| 27070        | 1e+09   | 72.7219     | 7m 3s        |"
      ]
     },
     "metadata": {},
     "output_type": "display_data"
    },
    {
     "data": {
      "text/html": [
       "<pre>| 27223        | 1e+09   | 73.1329     | 7m 6s        |</pre>"
      ],
      "text/plain": [
       "| 27223        | 1e+09   | 73.1329     | 7m 6s        |"
      ]
     },
     "metadata": {},
     "output_type": "display_data"
    },
    {
     "data": {
      "text/html": [
       "<pre>| 27388        | 1e+09   | 73.5762     | 7m 9s        |</pre>"
      ],
      "text/plain": [
       "| 27388        | 1e+09   | 73.5762     | 7m 9s        |"
      ]
     },
     "metadata": {},
     "output_type": "display_data"
    },
    {
     "data": {
      "text/html": [
       "<pre>| 27553        | 1e+09   | 74.0194     | 7m 12s       |</pre>"
      ],
      "text/plain": [
       "| 27553        | 1e+09   | 74.0194     | 7m 12s       |"
      ]
     },
     "metadata": {},
     "output_type": "display_data"
    },
    {
     "data": {
      "text/html": [
       "<pre>| 27731        | 1e+09   | 74.4976     | 7m 15s       |</pre>"
      ],
      "text/plain": [
       "| 27731        | 1e+09   | 74.4976     | 7m 15s       |"
      ]
     },
     "metadata": {},
     "output_type": "display_data"
    },
    {
     "data": {
      "text/html": [
       "<pre>| 27881        | 1e+09   | 74.9006     | 7m 18s       |</pre>"
      ],
      "text/plain": [
       "| 27881        | 1e+09   | 74.9006     | 7m 18s       |"
      ]
     },
     "metadata": {},
     "output_type": "display_data"
    },
    {
     "data": {
      "text/html": [
       "<pre>| 28042        | 1e+09   | 75.3331     | 7m 21s       |</pre>"
      ],
      "text/plain": [
       "| 28042        | 1e+09   | 75.3331     | 7m 21s       |"
      ]
     },
     "metadata": {},
     "output_type": "display_data"
    },
    {
     "data": {
      "text/html": [
       "<pre>| 28242        | 1.1e+09 | 75.8704     | 7m 24s       |</pre>"
      ],
      "text/plain": [
       "| 28242        | 1.1e+09 | 75.8704     | 7m 24s       |"
      ]
     },
     "metadata": {},
     "output_type": "display_data"
    },
    {
     "data": {
      "text/html": [
       "<pre>| 28455        | 1.1e+09 | 76.4426     | 7m 27s       |</pre>"
      ],
      "text/plain": [
       "| 28455        | 1.1e+09 | 76.4426     | 7m 27s       |"
      ]
     },
     "metadata": {},
     "output_type": "display_data"
    },
    {
     "data": {
      "text/html": [
       "<pre>| 28655        | 1.1e+09 | 76.9799     | 7m 30s       |</pre>"
      ],
      "text/plain": [
       "| 28655        | 1.1e+09 | 76.9799     | 7m 30s       |"
      ]
     },
     "metadata": {},
     "output_type": "display_data"
    },
    {
     "data": {
      "text/html": [
       "<pre>| 28845        | 1.1e+09 | 77.4903     | 7m 33s       |</pre>"
      ],
      "text/plain": [
       "| 28845        | 1.1e+09 | 77.4903     | 7m 33s       |"
      ]
     },
     "metadata": {},
     "output_type": "display_data"
    },
    {
     "data": {
      "text/html": [
       "<pre>| 29037        | 1.1e+09 | 78.0061     | 7m 36s       |</pre>"
      ],
      "text/plain": [
       "| 29037        | 1.1e+09 | 78.0061     | 7m 36s       |"
      ]
     },
     "metadata": {},
     "output_type": "display_data"
    },
    {
     "data": {
      "text/html": [
       "<pre>| 29259        | 1.1e+09 | 78.6025     | 7m 39s       |</pre>"
      ],
      "text/plain": [
       "| 29259        | 1.1e+09 | 78.6025     | 7m 39s       |"
      ]
     },
     "metadata": {},
     "output_type": "display_data"
    },
    {
     "data": {
      "text/html": [
       "<pre>| 29439        | 1.1e+09 | 79.0861     | 7m 42s       |</pre>"
      ],
      "text/plain": [
       "| 29439        | 1.1e+09 | 79.0861     | 7m 42s       |"
      ]
     },
     "metadata": {},
     "output_type": "display_data"
    },
    {
     "data": {
      "text/html": [
       "<pre>| 29621        | 1.1e+09 | 79.575      | 7m 45s       |</pre>"
      ],
      "text/plain": [
       "| 29621        | 1.1e+09 | 79.575      | 7m 45s       |"
      ]
     },
     "metadata": {},
     "output_type": "display_data"
    },
    {
     "data": {
      "text/html": [
       "<pre>| 29809        | 1.1e+09 | 80.0801     | 7m 48s       |</pre>"
      ],
      "text/plain": [
       "| 29809        | 1.1e+09 | 80.0801     | 7m 48s       |"
      ]
     },
     "metadata": {},
     "output_type": "display_data"
    },
    {
     "data": {
      "text/html": [
       "<pre>| 30028        | 1.1e+09 | 80.6684     | 7m 51s       |</pre>"
      ],
      "text/plain": [
       "| 30028        | 1.1e+09 | 80.6684     | 7m 51s       |"
      ]
     },
     "metadata": {},
     "output_type": "display_data"
    },
    {
     "data": {
      "text/html": [
       "<pre>| 30243        | 1.1e+09 | 81.246      | 7m 54s       |</pre>"
      ],
      "text/plain": [
       "| 30243        | 1.1e+09 | 81.246      | 7m 54s       |"
      ]
     },
     "metadata": {},
     "output_type": "display_data"
    },
    {
     "data": {
      "text/html": [
       "<pre>| 30441        | 1.1e+09 | 81.7779     | 7m 57s       |</pre>"
      ],
      "text/plain": [
       "| 30441        | 1.1e+09 | 81.7779     | 7m 57s       |"
      ]
     },
     "metadata": {},
     "output_type": "display_data"
    },
    {
     "data": {
      "text/html": [
       "<pre>| 30638        | 1.1e+09 | 82.3071     | 8m 0s        |</pre>"
      ],
      "text/plain": [
       "| 30638        | 1.1e+09 | 82.3071     | 8m 0s        |"
      ]
     },
     "metadata": {},
     "output_type": "display_data"
    },
    {
     "data": {
      "text/html": [
       "<pre>| 30832        | 1.1e+09 | 82.8283     | 8m 3s        |</pre>"
      ],
      "text/plain": [
       "| 30832        | 1.1e+09 | 82.8283     | 8m 3s        |"
      ]
     },
     "metadata": {},
     "output_type": "display_data"
    },
    {
     "data": {
      "text/html": [
       "<pre>| 31051        | 1.2e+09 | 83.4166     | 8m 6s        |</pre>"
      ],
      "text/plain": [
       "| 31051        | 1.2e+09 | 83.4166     | 8m 6s        |"
      ]
     },
     "metadata": {},
     "output_type": "display_data"
    },
    {
     "data": {
      "text/html": [
       "<pre>| 31239        | 1.2e+09 | 83.9217     | 8m 9s        |</pre>"
      ],
      "text/plain": [
       "| 31239        | 1.2e+09 | 83.9217     | 8m 9s        |"
      ]
     },
     "metadata": {},
     "output_type": "display_data"
    },
    {
     "data": {
      "text/html": [
       "<pre>| 31419        | 1.2e+09 | 84.4052     | 8m 12s       |</pre>"
      ],
      "text/plain": [
       "| 31419        | 1.2e+09 | 84.4052     | 8m 12s       |"
      ]
     },
     "metadata": {},
     "output_type": "display_data"
    },
    {
     "data": {
      "text/html": [
       "<pre>| 31635        | 1.2e+09 | 84.9855     | 8m 15s       |</pre>"
      ],
      "text/plain": [
       "| 31635        | 1.2e+09 | 84.9855     | 8m 15s       |"
      ]
     },
     "metadata": {},
     "output_type": "display_data"
    },
    {
     "data": {
      "text/html": [
       "<pre>| 31850        | 1.2e+09 | 85.5631     | 8m 18s       |</pre>"
      ],
      "text/plain": [
       "| 31850        | 1.2e+09 | 85.5631     | 8m 18s       |"
      ]
     },
     "metadata": {},
     "output_type": "display_data"
    },
    {
     "data": {
      "text/html": [
       "<pre>| 32044        | 1.2e+09 | 86.0842     | 8m 21s       |</pre>"
      ],
      "text/plain": [
       "| 32044        | 1.2e+09 | 86.0842     | 8m 21s       |"
      ]
     },
     "metadata": {},
     "output_type": "display_data"
    },
    {
     "data": {
      "text/html": [
       "<pre>| 32243        |         | 86.6188     | 8m 24s       |</pre>"
      ],
      "text/plain": [
       "| 32243        |         | 86.6188     | 8m 24s       |"
      ]
     },
     "metadata": {},
     "output_type": "display_data"
    },
    {
     "data": {
      "text/html": [
       "<pre>| 32464        | 1.2e+09 | 87.2126     | 8m 27s       |</pre>"
      ],
      "text/plain": [
       "| 32464        | 1.2e+09 | 87.2126     | 8m 27s       |"
      ]
     },
     "metadata": {},
     "output_type": "display_data"
    },
    {
     "data": {
      "text/html": [
       "<pre>| 32654        | 1.2e+09 | 87.723      | 8m 30s       |</pre>"
      ],
      "text/plain": [
       "| 32654        | 1.2e+09 | 87.723      | 8m 30s       |"
      ]
     },
     "metadata": {},
     "output_type": "display_data"
    },
    {
     "data": {
      "text/html": [
       "<pre>| 32834        | 1.2e+09 | 88.2065     | 8m 33s       |</pre>"
      ],
      "text/plain": [
       "| 32834        | 1.2e+09 | 88.2065     | 8m 33s       |"
      ]
     },
     "metadata": {},
     "output_type": "display_data"
    },
    {
     "data": {
      "text/html": [
       "<pre>| 33022        | 1.2e+09 | 88.7116     | 8m 36s       |</pre>"
      ],
      "text/plain": [
       "| 33022        | 1.2e+09 | 88.7116     | 8m 36s       |"
      ]
     },
     "metadata": {},
     "output_type": "display_data"
    },
    {
     "data": {
      "text/html": [
       "<pre>| 33228        | 1.2e+09 | 89.265      | 8m 39s       |</pre>"
      ],
      "text/plain": [
       "| 33228        | 1.2e+09 | 89.265      | 8m 39s       |"
      ]
     },
     "metadata": {},
     "output_type": "display_data"
    },
    {
     "data": {
      "text/html": [
       "<pre>| 33426        | 1.2e+09 | 89.7969     | 8m 42s       |</pre>"
      ],
      "text/plain": [
       "| 33426        | 1.2e+09 | 89.7969     | 8m 42s       |"
      ]
     },
     "metadata": {},
     "output_type": "display_data"
    },
    {
     "data": {
      "text/html": [
       "<pre>| 33614        | 1.3e+09 | 90.302      | 8m 45s       |</pre>"
      ],
      "text/plain": [
       "| 33614        | 1.3e+09 | 90.302      | 8m 45s       |"
      ]
     },
     "metadata": {},
     "output_type": "display_data"
    },
    {
     "data": {
      "text/html": [
       "<pre>| 33782        | 1.3e+09 | 90.7533     | 8m 48s       |</pre>"
      ],
      "text/plain": [
       "| 33782        | 1.3e+09 | 90.7533     | 8m 48s       |"
      ]
     },
     "metadata": {},
     "output_type": "display_data"
    },
    {
     "data": {
      "text/html": [
       "<pre>| 33990        | 1.3e+09 | 91.3121     | 8m 51s       |</pre>"
      ],
      "text/plain": [
       "| 33990        | 1.3e+09 | 91.3121     | 8m 51s       |"
      ]
     },
     "metadata": {},
     "output_type": "display_data"
    },
    {
     "data": {
      "text/html": [
       "<pre>| 34210        | 1.3e+09 | 91.9031     | 8m 54s       |</pre>"
      ],
      "text/plain": [
       "| 34210        | 1.3e+09 | 91.9031     | 8m 54s       |"
      ]
     },
     "metadata": {},
     "output_type": "display_data"
    },
    {
     "data": {
      "text/html": [
       "<pre>| 34404        | 1.3e+09 | 92.4242     | 8m 57s       |</pre>"
      ],
      "text/plain": [
       "| 34404        | 1.3e+09 | 92.4242     | 8m 57s       |"
      ]
     },
     "metadata": {},
     "output_type": "display_data"
    },
    {
     "data": {
      "text/html": [
       "<pre>| 34597        | 1.3e+09 | 92.9427     | 9m 0s        |</pre>"
      ],
      "text/plain": [
       "| 34597        | 1.3e+09 | 92.9427     | 9m 0s        |"
      ]
     },
     "metadata": {},
     "output_type": "display_data"
    },
    {
     "data": {
      "text/html": [
       "<pre>| 34799        | 1.3e+09 | 93.4854     | 9m 3s        |</pre>"
      ],
      "text/plain": [
       "| 34799        | 1.3e+09 | 93.4854     | 9m 3s        |"
      ]
     },
     "metadata": {},
     "output_type": "display_data"
    },
    {
     "data": {
      "text/html": [
       "<pre>| 35028        | 1.3e+09 | 94.1006     | 9m 6s        |</pre>"
      ],
      "text/plain": [
       "| 35028        | 1.3e+09 | 94.1006     | 9m 6s        |"
      ]
     },
     "metadata": {},
     "output_type": "display_data"
    },
    {
     "data": {
      "text/html": [
       "<pre>| 35211        | 1.3e+09 | 94.5922     | 9m 9s        |</pre>"
      ],
      "text/plain": [
       "| 35211        | 1.3e+09 | 94.5922     | 9m 9s        |"
      ]
     },
     "metadata": {},
     "output_type": "display_data"
    },
    {
     "data": {
      "text/html": [
       "<pre>| 35395        | 1.3e+09 | 95.0865     | 9m 12s       |</pre>"
      ],
      "text/plain": [
       "| 35395        | 1.3e+09 | 95.0865     | 9m 12s       |"
      ]
     },
     "metadata": {},
     "output_type": "display_data"
    },
    {
     "data": {
      "text/html": [
       "<pre>| 35577        | 1.3e+09 | 95.5754     | 9m 15s       |</pre>"
      ],
      "text/plain": [
       "| 35577        | 1.3e+09 | 95.5754     | 9m 15s       |"
      ]
     },
     "metadata": {},
     "output_type": "display_data"
    },
    {
     "data": {
      "text/html": [
       "<pre>| 35783        | 1.3e+09 | 96.1288     | 9m 18s       |</pre>"
      ],
      "text/plain": [
       "| 35783        | 1.3e+09 | 96.1288     | 9m 18s       |"
      ]
     },
     "metadata": {},
     "output_type": "display_data"
    },
    {
     "data": {
      "text/html": [
       "<pre>| 35985        | 1.3e+09 | 96.6715     | 9m 21s       |</pre>"
      ],
      "text/plain": [
       "| 35985        | 1.3e+09 | 96.6715     | 9m 21s       |"
      ]
     },
     "metadata": {},
     "output_type": "display_data"
    },
    {
     "data": {
      "text/html": [
       "<pre>| 36175        | 1.3e+09 | 97.1819     | 9m 24s       |</pre>"
      ],
      "text/plain": [
       "| 36175        | 1.3e+09 | 97.1819     | 9m 24s       |"
      ]
     },
     "metadata": {},
     "output_type": "display_data"
    },
    {
     "data": {
      "text/html": [
       "<pre>| 36365        | 1.4e+09 | 97.6923     | 9m 27s       |</pre>"
      ],
      "text/plain": [
       "| 36365        | 1.4e+09 | 97.6923     | 9m 27s       |"
      ]
     },
     "metadata": {},
     "output_type": "display_data"
    },
    {
     "data": {
      "text/html": [
       "<pre>| 36556        | 1.4e+09 | 98.2055     | 9m 30s       |</pre>"
      ],
      "text/plain": [
       "| 36556        | 1.4e+09 | 98.2055     | 9m 30s       |"
      ]
     },
     "metadata": {},
     "output_type": "display_data"
    },
    {
     "data": {
      "text/html": [
       "<pre>| 36725        | 1.4e+09 | 98.6595     | 9m 33s       |</pre>"
      ],
      "text/plain": [
       "| 36725        | 1.4e+09 | 98.6595     | 9m 33s       |"
      ]
     },
     "metadata": {},
     "output_type": "display_data"
    },
    {
     "data": {
      "text/html": [
       "<pre>| 36895        | 1.4e+09 | 99.1162     | 9m 36s       |</pre>"
      ],
      "text/plain": [
       "| 36895        | 1.4e+09 | 99.1162     | 9m 36s       |"
      ]
     },
     "metadata": {},
     "output_type": "display_data"
    },
    {
     "data": {
      "text/html": [
       "<pre>| 37044        | 1.4e+09 | 99.5164     | 9m 39s       |</pre>"
      ],
      "text/plain": [
       "| 37044        | 1.4e+09 | 99.5164     | 9m 39s       |"
      ]
     },
     "metadata": {},
     "output_type": "display_data"
    },
    {
     "data": {
      "text/html": [
       "<pre>| 37161        | 1.4e+09 | 99.8308     | 9m 42s       |</pre>"
      ],
      "text/plain": [
       "| 37161        | 1.4e+09 | 99.8308     | 9m 42s       |"
      ]
     },
     "metadata": {},
     "output_type": "display_data"
    },
    {
     "data": {
      "text/html": [
       "<pre>| Done         |         | 100         | 9m 44s       |</pre>"
      ],
      "text/plain": [
       "| Done         |         | 100         | 9m 44s       |"
      ]
     },
     "metadata": {},
     "output_type": "display_data"
    },
    {
     "data": {
      "text/html": [
       "<pre>+--------------+---------+-------------+--------------+</pre>"
      ],
      "text/plain": [
       "+--------------+---------+-------------+--------------+"
      ]
     },
     "metadata": {},
     "output_type": "display_data"
    },
    {
     "data": {
      "text/html": [
       "<pre>Starting pairwise querying.</pre>"
      ],
      "text/plain": [
       "Starting pairwise querying."
      ]
     },
     "metadata": {},
     "output_type": "display_data"
    },
    {
     "data": {
      "text/html": [
       "<pre>+--------------+---------+-------------+--------------+</pre>"
      ],
      "text/plain": [
       "+--------------+---------+-------------+--------------+"
      ]
     },
     "metadata": {},
     "output_type": "display_data"
    },
    {
     "data": {
      "text/html": [
       "<pre>| Query points | # Pairs | % Complete. | Elapsed Time |</pre>"
      ],
      "text/plain": [
       "| Query points | # Pairs | % Complete. | Elapsed Time |"
      ]
     },
     "metadata": {},
     "output_type": "display_data"
    },
    {
     "data": {
      "text/html": [
       "<pre>+--------------+---------+-------------+--------------+</pre>"
      ],
      "text/plain": [
       "+--------------+---------+-------------+--------------+"
      ]
     },
     "metadata": {},
     "output_type": "display_data"
    },
    {
     "data": {
      "text/html": [
       "<pre>| 0            | 9284    | 0.00268644  | 40.366ms     |</pre>"
      ],
      "text/plain": [
       "| 0            | 9284    | 0.00268644  | 40.366ms     |"
      ]
     },
     "metadata": {},
     "output_type": "display_data"
    },
    {
     "data": {
      "text/html": [
       "<pre>| 179          | 6665912 | 1.92886     | 3.04s        |</pre>"
      ],
      "text/plain": [
       "| 179          | 6665912 | 1.92886     | 3.04s        |"
      ]
     },
     "metadata": {},
     "output_type": "display_data"
    },
    {
     "data": {
      "text/html": [
       "<pre>| 351          | 1.3e+07 | 3.79057     | 6.04s        |</pre>"
      ],
      "text/plain": [
       "| 351          | 1.3e+07 | 3.79057     | 6.04s        |"
      ]
     },
     "metadata": {},
     "output_type": "display_data"
    },
    {
     "data": {
      "text/html": [
       "<pre>| 559          | 2.1e+07 | 6.02568     | 9.04s        |</pre>"
      ],
      "text/plain": [
       "| 559          | 2.1e+07 | 6.02568     | 9.04s        |"
      ]
     },
     "metadata": {},
     "output_type": "display_data"
    },
    {
     "data": {
      "text/html": [
       "<pre>| 752          | 2.8e+07 | 8.10499     | 12.04s       |</pre>"
      ],
      "text/plain": [
       "| 752          | 2.8e+07 | 8.10499     | 12.04s       |"
      ]
     },
     "metadata": {},
     "output_type": "display_data"
    },
    {
     "data": {
      "text/html": [
       "<pre>| 945          | 3.5e+07 | 10.1789     | 15.04s       |</pre>"
      ],
      "text/plain": [
       "| 945          | 3.5e+07 | 10.1789     | 15.04s       |"
      ]
     },
     "metadata": {},
     "output_type": "display_data"
    },
    {
     "data": {
      "text/html": [
       "<pre>| 1143         | 4.3e+07 | 12.32       | 18.04s       |</pre>"
      ],
      "text/plain": [
       "| 1143         | 4.3e+07 | 12.32       | 18.04s       |"
      ]
     },
     "metadata": {},
     "output_type": "display_data"
    },
    {
     "data": {
      "text/html": [
       "<pre>| 1370         | 5.1e+07 | 14.7593     | 21.04s       |</pre>"
      ],
      "text/plain": [
       "| 1370         | 5.1e+07 | 14.7593     | 21.04s       |"
      ]
     },
     "metadata": {},
     "output_type": "display_data"
    },
    {
     "data": {
      "text/html": [
       "<pre>| 1568         | 5.8e+07 | 16.8977     | 24.04s       |</pre>"
      ],
      "text/plain": [
       "| 1568         | 5.8e+07 | 16.8977     | 24.04s       |"
      ]
     },
     "metadata": {},
     "output_type": "display_data"
    },
    {
     "data": {
      "text/html": [
       "<pre>| 1760         | 6.6e+07 | 18.9636     | 27.04s       |</pre>"
      ],
      "text/plain": [
       "| 1760         | 6.6e+07 | 18.9636     | 27.04s       |"
      ]
     },
     "metadata": {},
     "output_type": "display_data"
    },
    {
     "data": {
      "text/html": [
       "<pre>| 1948         | 7.3e+07 | 20.9838     | 30.04s       |</pre>"
      ],
      "text/plain": [
       "| 1948         | 7.3e+07 | 20.9838     | 30.04s       |"
      ]
     },
     "metadata": {},
     "output_type": "display_data"
    },
    {
     "data": {
      "text/html": [
       "<pre>| 2151         | 8e+07   | 23.1759     | 33.04s       |</pre>"
      ],
      "text/plain": [
       "| 2151         | 8e+07   | 23.1759     | 33.04s       |"
      ]
     },
     "metadata": {},
     "output_type": "display_data"
    },
    {
     "data": {
      "text/html": [
       "<pre>| 2337         | 8.7e+07 | 25.1773     | 36.05s       |</pre>"
      ],
      "text/plain": [
       "| 2337         | 8.7e+07 | 25.1773     | 36.05s       |"
      ]
     },
     "metadata": {},
     "output_type": "display_data"
    },
    {
     "data": {
      "text/html": [
       "<pre>| 2531         | 9.4e+07 | 27.2674     | 39.04s       |</pre>"
      ],
      "text/plain": [
       "| 2531         | 9.4e+07 | 27.2674     | 39.04s       |"
      ]
     },
     "metadata": {},
     "output_type": "display_data"
    },
    {
     "data": {
      "text/html": [
       "<pre>| 2725         | 1e+08   | 29.3574     | 42.04s       |</pre>"
      ],
      "text/plain": [
       "| 2725         | 1e+08   | 29.3574     | 42.04s       |"
      ]
     },
     "metadata": {},
     "output_type": "display_data"
    },
    {
     "data": {
      "text/html": [
       "<pre>| 2918         | 1.1e+08 | 31.4367     | 45.04s       |</pre>"
      ],
      "text/plain": [
       "| 2918         | 1.1e+08 | 31.4367     | 45.04s       |"
      ]
     },
     "metadata": {},
     "output_type": "display_data"
    },
    {
     "data": {
      "text/html": [
       "<pre>| 3108         | 1.2e+08 | 33.4865     | 48.04s       |</pre>"
      ],
      "text/plain": [
       "| 3108         | 1.2e+08 | 33.4865     | 48.04s       |"
      ]
     },
     "metadata": {},
     "output_type": "display_data"
    },
    {
     "data": {
      "text/html": [
       "<pre>| 3305         | 1.2e+08 | 35.6007     | 51.04s       |</pre>"
      ],
      "text/plain": [
       "| 3305         | 1.2e+08 | 35.6007     | 51.04s       |"
      ]
     },
     "metadata": {},
     "output_type": "display_data"
    },
    {
     "data": {
      "text/html": [
       "<pre>| 3488         | 1.3e+08 | 37.5752     | 54.04s       |</pre>"
      ],
      "text/plain": [
       "| 3488         | 1.3e+08 | 37.5752     | 54.04s       |"
      ]
     },
     "metadata": {},
     "output_type": "display_data"
    },
    {
     "data": {
      "text/html": [
       "<pre>| 3711         | 1.4e+08 | 39.9823     | 57.05s       |</pre>"
      ],
      "text/plain": [
       "| 3711         | 1.4e+08 | 39.9823     | 57.05s       |"
      ]
     },
     "metadata": {},
     "output_type": "display_data"
    },
    {
     "data": {
      "text/html": [
       "<pre>| 3906         | 1.5e+08 | 42.0777     | 1m 0s        |</pre>"
      ],
      "text/plain": [
       "| 3906         | 1.5e+08 | 42.0777     | 1m 0s        |"
      ]
     },
     "metadata": {},
     "output_type": "display_data"
    },
    {
     "data": {
      "text/html": [
       "<pre>| 4066         | 1.5e+08 | 43.8051     | 1m 3s        |</pre>"
      ],
      "text/plain": [
       "| 4066         | 1.5e+08 | 43.8051     | 1m 3s        |"
      ]
     },
     "metadata": {},
     "output_type": "display_data"
    },
    {
     "data": {
      "text/html": [
       "<pre>| 4253         | 1.6e+08 | 45.8118     | 1m 6s        |</pre>"
      ],
      "text/plain": [
       "| 4253         | 1.6e+08 | 45.8118     | 1m 6s        |"
      ]
     },
     "metadata": {},
     "output_type": "display_data"
    },
    {
     "data": {
      "text/html": [
       "<pre>| 4437         | 1.7e+08 | 47.7971     | 1m 9s        |</pre>"
      ],
      "text/plain": [
       "| 4437         | 1.7e+08 | 47.7971     | 1m 9s        |"
      ]
     },
     "metadata": {},
     "output_type": "display_data"
    },
    {
     "data": {
      "text/html": [
       "<pre>| 4591         | 1.7e+08 | 49.4547     | 1m 12s       |</pre>"
      ],
      "text/plain": [
       "| 4591         | 1.7e+08 | 49.4547     | 1m 12s       |"
      ]
     },
     "metadata": {},
     "output_type": "display_data"
    },
    {
     "data": {
      "text/html": [
       "<pre>| 4745         | 1.8e+08 | 51.1149     | 1m 15s       |</pre>"
      ],
      "text/plain": [
       "| 4745         | 1.8e+08 | 51.1149     | 1m 15s       |"
      ]
     },
     "metadata": {},
     "output_type": "display_data"
    },
    {
     "data": {
      "text/html": [
       "<pre>| 4908         | 1.8e+08 | 52.8691     | 1m 18s       |</pre>"
      ],
      "text/plain": [
       "| 4908         | 1.8e+08 | 52.8691     | 1m 18s       |"
      ]
     },
     "metadata": {},
     "output_type": "display_data"
    },
    {
     "data": {
      "text/html": [
       "<pre>| 5080         | 1.9e+08 | 54.7254     | 1m 21s       |</pre>"
      ],
      "text/plain": [
       "| 5080         | 1.9e+08 | 54.7254     | 1m 21s       |"
      ]
     },
     "metadata": {},
     "output_type": "display_data"
    },
    {
     "data": {
      "text/html": [
       "<pre>| 5207         | 1.9e+08 | 56.0875     | 1m 24s       |</pre>"
      ],
      "text/plain": [
       "| 5207         | 1.9e+08 | 56.0875     | 1m 24s       |"
      ]
     },
     "metadata": {},
     "output_type": "display_data"
    },
    {
     "data": {
      "text/html": [
       "<pre>| 5371         | 2e+08   | 57.8525     | 1m 27s       |</pre>"
      ],
      "text/plain": [
       "| 5371         | 2e+08   | 57.8525     | 1m 27s       |"
      ]
     },
     "metadata": {},
     "output_type": "display_data"
    },
    {
     "data": {
      "text/html": [
       "<pre>| 5556         | 2.1e+08 | 59.8485     | 1m 30s       |</pre>"
      ],
      "text/plain": [
       "| 5556         | 2.1e+08 | 59.8485     | 1m 30s       |"
      ]
     },
     "metadata": {},
     "output_type": "display_data"
    },
    {
     "data": {
      "text/html": [
       "<pre>| 5717         | 2.1e+08 | 61.5839     | 1m 33s       |</pre>"
      ],
      "text/plain": [
       "| 5717         | 2.1e+08 | 61.5839     | 1m 33s       |"
      ]
     },
     "metadata": {},
     "output_type": "display_data"
    },
    {
     "data": {
      "text/html": [
       "<pre>| 5861         | 2.2e+08 | 63.1394     | 1m 36s       |</pre>"
      ],
      "text/plain": [
       "| 5861         | 2.2e+08 | 63.1394     | 1m 36s       |"
      ]
     },
     "metadata": {},
     "output_type": "display_data"
    },
    {
     "data": {
      "text/html": [
       "<pre>| 6000         | 2.2e+08 | 64.6277     | 1m 39s       |</pre>"
      ],
      "text/plain": [
       "| 6000         | 2.2e+08 | 64.6277     | 1m 39s       |"
      ]
     },
     "metadata": {},
     "output_type": "display_data"
    },
    {
     "data": {
      "text/html": [
       "<pre>| 6124         | 2.3e+08 | 65.9709     | 1m 42s       |</pre>"
      ],
      "text/plain": [
       "| 6124         | 2.3e+08 | 65.9709     | 1m 42s       |"
      ]
     },
     "metadata": {},
     "output_type": "display_data"
    },
    {
     "data": {
      "text/html": [
       "<pre>| 6302         | 2.3e+08 | 67.8836     | 1m 45s       |</pre>"
      ],
      "text/plain": [
       "| 6302         | 2.3e+08 | 67.8836     | 1m 45s       |"
      ]
     },
     "metadata": {},
     "output_type": "display_data"
    },
    {
     "data": {
      "text/html": [
       "<pre>| 6484         | 2.4e+08 | 69.8501     | 1m 48s       |</pre>"
      ],
      "text/plain": [
       "| 6484         | 2.4e+08 | 69.8501     | 1m 48s       |"
      ]
     },
     "metadata": {},
     "output_type": "display_data"
    },
    {
     "data": {
      "text/html": [
       "<pre>| 6638         | 2.5e+08 | 71.5049     | 1m 51s       |</pre>"
      ],
      "text/plain": [
       "| 6638         | 2.5e+08 | 71.5049     | 1m 51s       |"
      ]
     },
     "metadata": {},
     "output_type": "display_data"
    },
    {
     "data": {
      "text/html": [
       "<pre>| 6798         | 2.5e+08 | 73.2296     | 1m 54s       |</pre>"
      ],
      "text/plain": [
       "| 6798         | 2.5e+08 | 73.2296     | 1m 54s       |"
      ]
     },
     "metadata": {},
     "output_type": "display_data"
    },
    {
     "data": {
      "text/html": [
       "<pre>| 6966         | 2.6e+08 | 75.0349     | 1m 57s       |</pre>"
      ],
      "text/plain": [
       "| 6966         | 2.6e+08 | 75.0349     | 1m 57s       |"
      ]
     },
     "metadata": {},
     "output_type": "display_data"
    },
    {
     "data": {
      "text/html": [
       "<pre>| 7170         | 2.7e+08 | 77.2324     | 2m 0s        |</pre>"
      ],
      "text/plain": [
       "| 7170         | 2.7e+08 | 77.2324     | 2m 0s        |"
      ]
     },
     "metadata": {},
     "output_type": "display_data"
    },
    {
     "data": {
      "text/html": [
       "<pre>| 7346         | 2.7e+08 | 79.1291     | 2m 3s        |</pre>"
      ],
      "text/plain": [
       "| 7346         | 2.7e+08 | 79.1291     | 2m 3s        |"
      ]
     },
     "metadata": {},
     "output_type": "display_data"
    },
    {
     "data": {
      "text/html": [
       "<pre>| 7503         | 2.8e+08 | 80.8242     | 2m 6s        |</pre>"
      ],
      "text/plain": [
       "| 7503         | 2.8e+08 | 80.8242     | 2m 6s        |"
      ]
     },
     "metadata": {},
     "output_type": "display_data"
    },
    {
     "data": {
      "text/html": [
       "<pre>| 7662         | 2.9e+08 | 82.5301     | 2m 9s        |</pre>"
      ],
      "text/plain": [
       "| 7662         | 2.9e+08 | 82.5301     | 2m 9s        |"
      ]
     },
     "metadata": {},
     "output_type": "display_data"
    },
    {
     "data": {
      "text/html": [
       "<pre>| 7833         | 2.9e+08 | 84.381      | 2m 12s       |</pre>"
      ],
      "text/plain": [
       "| 7833         | 2.9e+08 | 84.381      | 2m 12s       |"
      ]
     },
     "metadata": {},
     "output_type": "display_data"
    },
    {
     "data": {
      "text/html": [
       "<pre>| 8017         | 3e+08   | 86.3556     | 2m 15s       |</pre>"
      ],
      "text/plain": [
       "| 8017         | 3e+08   | 86.3556     | 2m 15s       |"
      ]
     },
     "metadata": {},
     "output_type": "display_data"
    },
    {
     "data": {
      "text/html": [
       "<pre>| 8204         | 3.1e+08 | 88.3758     | 2m 18s       |</pre>"
      ],
      "text/plain": [
       "| 8204         | 3.1e+08 | 88.3758     | 2m 18s       |"
      ]
     },
     "metadata": {},
     "output_type": "display_data"
    },
    {
     "data": {
      "text/html": [
       "<pre>| 8367         | 3.1e+08 | 90.1247     | 2m 21s       |</pre>"
      ],
      "text/plain": [
       "| 8367         | 3.1e+08 | 90.1247     | 2m 21s       |"
      ]
     },
     "metadata": {},
     "output_type": "display_data"
    },
    {
     "data": {
      "text/html": [
       "<pre>| 8534         | 3.2e+08 | 91.9299     | 2m 24s       |</pre>"
      ],
      "text/plain": [
       "| 8534         | 3.2e+08 | 91.9299     | 2m 24s       |"
      ]
     },
     "metadata": {},
     "output_type": "display_data"
    },
    {
     "data": {
      "text/html": [
       "<pre>| 8713         | 3.2e+08 | 93.8507     | 2m 27s       |</pre>"
      ],
      "text/plain": [
       "| 8713         | 3.2e+08 | 93.8507     | 2m 27s       |"
      ]
     },
     "metadata": {},
     "output_type": "display_data"
    },
    {
     "data": {
      "text/html": [
       "<pre>| 8928         | 3.3e+08 | 96.1718     | 2m 30s       |</pre>"
      ],
      "text/plain": [
       "| 8928         | 3.3e+08 | 96.1718     | 2m 30s       |"
      ]
     },
     "metadata": {},
     "output_type": "display_data"
    },
    {
     "data": {
      "text/html": [
       "<pre>| 9120         | 3.4e+08 | 98.2431     | 2m 33s       |</pre>"
      ],
      "text/plain": [
       "| 9120         | 3.4e+08 | 98.2431     | 2m 33s       |"
      ]
     },
     "metadata": {},
     "output_type": "display_data"
    },
    {
     "data": {
      "text/html": [
       "<pre>| 9245         | 3.4e+08 | 99.5863     | 2m 36s       |</pre>"
      ],
      "text/plain": [
       "| 9245         | 3.4e+08 | 99.5863     | 2m 36s       |"
      ]
     },
     "metadata": {},
     "output_type": "display_data"
    },
    {
     "data": {
      "text/html": [
       "<pre>| Done         |         | 100         | 2m 38s       |</pre>"
      ],
      "text/plain": [
       "| Done         |         | 100         | 2m 38s       |"
      ]
     },
     "metadata": {},
     "output_type": "display_data"
    },
    {
     "data": {
      "text/html": [
       "<pre>+--------------+---------+-------------+--------------+</pre>"
      ],
      "text/plain": [
       "+--------------+---------+-------------+--------------+"
      ]
     },
     "metadata": {},
     "output_type": "display_data"
    },
    {
     "data": {
      "text/html": [
       "<pre>Starting pairwise querying.</pre>"
      ],
      "text/plain": [
       "Starting pairwise querying."
      ]
     },
     "metadata": {},
     "output_type": "display_data"
    },
    {
     "data": {
      "text/html": [
       "<pre>+--------------+---------+-------------+--------------+</pre>"
      ],
      "text/plain": [
       "+--------------+---------+-------------+--------------+"
      ]
     },
     "metadata": {},
     "output_type": "display_data"
    },
    {
     "data": {
      "text/html": [
       "<pre>| Query points | # Pairs | % Complete. | Elapsed Time |</pre>"
      ],
      "text/plain": [
       "| Query points | # Pairs | % Complete. | Elapsed Time |"
      ]
     },
     "metadata": {},
     "output_type": "display_data"
    },
    {
     "data": {
      "text/html": [
       "<pre>+--------------+---------+-------------+--------------+</pre>"
      ],
      "text/plain": [
       "+--------------+---------+-------------+--------------+"
      ]
     },
     "metadata": {},
     "output_type": "display_data"
    },
    {
     "data": {
      "text/html": [
       "<pre>| 0            | 9284    | 0.00268644  | 40.287ms     |</pre>"
      ],
      "text/plain": [
       "| 0            | 9284    | 0.00268644  | 40.287ms     |"
      ]
     },
     "metadata": {},
     "output_type": "display_data"
    },
    {
     "data": {
      "text/html": [
       "<pre>| 218          | 8123500 | 2.35063     | 3.04s        |</pre>"
      ],
      "text/plain": [
       "| 218          | 8123500 | 2.35063     | 3.04s        |"
      ]
     },
     "metadata": {},
     "output_type": "display_data"
    },
    {
     "data": {
      "text/html": [
       "<pre>| 405          | 1.5e+07 | 4.36815     | 6.04s        |</pre>"
      ],
      "text/plain": [
       "| 405          | 1.5e+07 | 4.36815     | 6.04s        |"
      ]
     },
     "metadata": {},
     "output_type": "display_data"
    },
    {
     "data": {
      "text/html": [
       "<pre>| 578          | 2.2e+07 | 6.23254     | 9.04s        |</pre>"
      ],
      "text/plain": [
       "| 578          | 2.2e+07 | 6.23254     | 9.04s        |"
      ]
     },
     "metadata": {},
     "output_type": "display_data"
    },
    {
     "data": {
      "text/html": [
       "<pre>| 777          | 2.9e+07 | 8.37632     | 12.04s       |</pre>"
      ],
      "text/plain": [
       "| 777          | 2.9e+07 | 8.37632     | 12.04s       |"
      ]
     },
     "metadata": {},
     "output_type": "display_data"
    },
    {
     "data": {
      "text/html": [
       "<pre>| 1003         | 3.7e+07 | 10.8129     | 15.04s       |</pre>"
      ],
      "text/plain": [
       "| 1003         | 3.7e+07 | 10.8129     | 15.04s       |"
      ]
     },
     "metadata": {},
     "output_type": "display_data"
    },
    {
     "data": {
      "text/html": [
       "<pre>| 1180         | 4.4e+07 | 12.7176     | 18.05s       |</pre>"
      ],
      "text/plain": [
       "| 1180         | 4.4e+07 | 12.7176     | 18.05s       |"
      ]
     },
     "metadata": {},
     "output_type": "display_data"
    },
    {
     "data": {
      "text/html": [
       "<pre>| 1379         | 5.1e+07 | 14.856      | 21.04s       |</pre>"
      ],
      "text/plain": [
       "| 1379         | 5.1e+07 | 14.856      | 21.04s       |"
      ]
     },
     "metadata": {},
     "output_type": "display_data"
    },
    {
     "data": {
      "text/html": [
       "<pre>| 1595         | 5.9e+07 | 17.1905     | 24.04s       |</pre>"
      ],
      "text/plain": [
       "| 1595         | 5.9e+07 | 17.1905     | 24.04s       |"
      ]
     },
     "metadata": {},
     "output_type": "display_data"
    },
    {
     "data": {
      "text/html": [
       "<pre>| 1826         | 6.8e+07 | 19.6728     | 27.04s       |</pre>"
      ],
      "text/plain": [
       "| 1826         | 6.8e+07 | 19.6728     | 27.04s       |"
      ]
     },
     "metadata": {},
     "output_type": "display_data"
    },
    {
     "data": {
      "text/html": [
       "<pre>| 2027         | 7.5e+07 | 21.8407     | 30.04s       |</pre>"
      ],
      "text/plain": [
       "| 2027         | 7.5e+07 | 21.8407     | 30.04s       |"
      ]
     },
     "metadata": {},
     "output_type": "display_data"
    },
    {
     "data": {
      "text/html": [
       "<pre>| 2225         | 8.3e+07 | 23.9684     | 33.04s       |</pre>"
      ],
      "text/plain": [
       "| 2225         | 8.3e+07 | 23.9684     | 33.04s       |"
      ]
     },
     "metadata": {},
     "output_type": "display_data"
    },
    {
     "data": {
      "text/html": [
       "<pre>| 2405         | 9e+07   | 25.9107     | 36.04s       |</pre>"
      ],
      "text/plain": [
       "| 2405         | 9e+07   | 25.9107     | 36.04s       |"
      ]
     },
     "metadata": {},
     "output_type": "display_data"
    },
    {
     "data": {
      "text/html": [
       "<pre>| 2632         | 9.8e+07 | 28.3554     | 39.04s       |</pre>"
      ],
      "text/plain": [
       "| 2632         | 9.8e+07 | 28.3554     | 39.04s       |"
      ]
     },
     "metadata": {},
     "output_type": "display_data"
    },
    {
     "data": {
      "text/html": [
       "<pre>| 2834         | 1.1e+08 | 30.526      | 42.04s       |</pre>"
      ],
      "text/plain": [
       "| 2834         | 1.1e+08 | 30.526      | 42.04s       |"
      ]
     },
     "metadata": {},
     "output_type": "display_data"
    },
    {
     "data": {
      "text/html": [
       "<pre>| 3011         | 1.1e+08 | 32.4387     | 45.04s       |</pre>"
      ],
      "text/plain": [
       "| 3011         | 1.1e+08 | 32.4387     | 45.04s       |"
      ]
     },
     "metadata": {},
     "output_type": "display_data"
    },
    {
     "data": {
      "text/html": [
       "<pre>| 3206         | 1.2e+08 | 34.5369     | 48.05s       |</pre>"
      ],
      "text/plain": [
       "| 3206         | 1.2e+08 | 34.5369     | 48.05s       |"
      ]
     },
     "metadata": {},
     "output_type": "display_data"
    },
    {
     "data": {
      "text/html": [
       "<pre>| 3425         | 1.3e+08 | 36.9009     | 51.04s       |</pre>"
      ],
      "text/plain": [
       "| 3425         | 1.3e+08 | 36.9009     | 51.04s       |"
      ]
     },
     "metadata": {},
     "output_type": "display_data"
    },
    {
     "data": {
      "text/html": [
       "<pre>| 3608         | 1.3e+08 | 38.8728     | 54.05s       |</pre>"
      ],
      "text/plain": [
       "| 3608         | 1.3e+08 | 38.8728     | 54.05s       |"
      ]
     },
     "metadata": {},
     "output_type": "display_data"
    },
    {
     "data": {
      "text/html": [
       "<pre>| 3807         | 1.4e+08 | 41.0112     | 57.05s       |</pre>"
      ],
      "text/plain": [
       "| 3807         | 1.4e+08 | 41.0112     | 57.05s       |"
      ]
     },
     "metadata": {},
     "output_type": "display_data"
    },
    {
     "data": {
      "text/html": [
       "<pre>| 4003         | 1.5e+08 | 43.1173     | 1m 0s        |</pre>"
      ],
      "text/plain": [
       "| 4003         | 1.5e+08 | 43.1173     | 1m 0s        |"
      ]
     },
     "metadata": {},
     "output_type": "display_data"
    },
    {
     "data": {
      "text/html": [
       "<pre>| 4220         | 1.6e+08 | 45.4653     | 1m 3s        |</pre>"
      ],
      "text/plain": [
       "| 4220         | 1.6e+08 | 45.4653     | 1m 3s        |"
      ]
     },
     "metadata": {},
     "output_type": "display_data"
    },
    {
     "data": {
      "text/html": [
       "<pre>| 4431         | 1.6e+08 | 47.73       | 1m 6s        |</pre>"
      ],
      "text/plain": [
       "| 4431         | 1.6e+08 | 47.73       | 1m 6s        |"
      ]
     },
     "metadata": {},
     "output_type": "display_data"
    },
    {
     "data": {
      "text/html": [
       "<pre>| 4601         | 1.7e+08 | 49.5594     | 1m 9s        |</pre>"
      ],
      "text/plain": [
       "| 4601         | 1.7e+08 | 49.5594     | 1m 9s        |"
      ]
     },
     "metadata": {},
     "output_type": "display_data"
    },
    {
     "data": {
      "text/html": [
       "<pre>| 4776         | 1.8e+08 | 51.4507     | 1m 12s       |</pre>"
      ],
      "text/plain": [
       "| 4776         | 1.8e+08 | 51.4507     | 1m 12s       |"
      ]
     },
     "metadata": {},
     "output_type": "display_data"
    },
    {
     "data": {
      "text/html": [
       "<pre>| 4957         | 1.8e+08 | 53.3957     | 1m 15s       |</pre>"
      ],
      "text/plain": [
       "| 4957         | 1.8e+08 | 53.3957     | 1m 15s       |"
      ]
     },
     "metadata": {},
     "output_type": "display_data"
    },
    {
     "data": {
      "text/html": [
       "<pre>| 5175         | 1.9e+08 | 55.7517     | 1m 18s       |</pre>"
      ],
      "text/plain": [
       "| 5175         | 1.9e+08 | 55.7517     | 1m 18s       |"
      ]
     },
     "metadata": {},
     "output_type": "display_data"
    },
    {
     "data": {
      "text/html": [
       "<pre>| 5386         | 2e+08   | 58.0217     | 1m 21s       |</pre>"
      ],
      "text/plain": [
       "| 5386         | 2e+08   | 58.0217     | 1m 21s       |"
      ]
     },
     "metadata": {},
     "output_type": "display_data"
    },
    {
     "data": {
      "text/html": [
       "<pre>| 5581         | 2.1e+08 | 60.1198     | 1m 24s       |</pre>"
      ],
      "text/plain": [
       "| 5581         | 2.1e+08 | 60.1198     | 1m 24s       |"
      ]
     },
     "metadata": {},
     "output_type": "display_data"
    },
    {
     "data": {
      "text/html": [
       "<pre>| 5778         | 2.2e+08 | 62.2448     | 1m 27s       |</pre>"
      ],
      "text/plain": [
       "| 5778         | 2.2e+08 | 62.2448     | 1m 27s       |"
      ]
     },
     "metadata": {},
     "output_type": "display_data"
    },
    {
     "data": {
      "text/html": [
       "<pre>| 6004         | 2.2e+08 | 64.6787     | 1m 30s       |</pre>"
      ],
      "text/plain": [
       "| 6004         | 2.2e+08 | 64.6787     | 1m 30s       |"
      ]
     },
     "metadata": {},
     "output_type": "display_data"
    },
    {
     "data": {
      "text/html": [
       "<pre>| 6202         | 2.3e+08 | 66.8037     | 1m 33s       |</pre>"
      ],
      "text/plain": [
       "| 6202         | 2.3e+08 | 66.8037     | 1m 33s       |"
      ]
     },
     "metadata": {},
     "output_type": "display_data"
    },
    {
     "data": {
      "text/html": [
       "<pre>| 6376         | 2.4e+08 | 68.6842     | 1m 36s       |</pre>"
      ],
      "text/plain": [
       "| 6376         | 2.4e+08 | 68.6842     | 1m 36s       |"
      ]
     },
     "metadata": {},
     "output_type": "display_data"
    },
    {
     "data": {
      "text/html": [
       "<pre>| 6544         | 2.4e+08 | 70.4975     | 1m 39s       |</pre>"
      ],
      "text/plain": [
       "| 6544         | 2.4e+08 | 70.4975     | 1m 39s       |"
      ]
     },
     "metadata": {},
     "output_type": "display_data"
    },
    {
     "data": {
      "text/html": [
       "<pre>| 6760         | 2.5e+08 | 72.8186     | 1m 42s       |</pre>"
      ],
      "text/plain": [
       "| 6760         | 2.5e+08 | 72.8186     | 1m 42s       |"
      ]
     },
     "metadata": {},
     "output_type": "display_data"
    },
    {
     "data": {
      "text/html": [
       "<pre>| 6986         | 2.6e+08 | 75.2579     | 1m 45s       |</pre>"
      ],
      "text/plain": [
       "| 6986         | 2.6e+08 | 75.2579     | 1m 45s       |"
      ]
     },
     "metadata": {},
     "output_type": "display_data"
    },
    {
     "data": {
      "text/html": [
       "<pre>| 7173         | 2.7e+08 | 77.27       | 1m 48s       |</pre>"
      ],
      "text/plain": [
       "| 7173         | 2.7e+08 | 77.27       | 1m 48s       |"
      ]
     },
     "metadata": {},
     "output_type": "display_data"
    },
    {
     "data": {
      "text/html": [
       "<pre>| 7377         | 2.7e+08 | 79.4622     | 1m 51s       |</pre>"
      ],
      "text/plain": [
       "| 7377         | 2.7e+08 | 79.4622     | 1m 51s       |"
      ]
     },
     "metadata": {},
     "output_type": "display_data"
    },
    {
     "data": {
      "text/html": [
       "<pre>| 7583         | 2.8e+08 | 81.6865     | 1m 54s       |</pre>"
      ],
      "text/plain": [
       "| 7583         | 2.8e+08 | 81.6865     | 1m 54s       |"
      ]
     },
     "metadata": {},
     "output_type": "display_data"
    },
    {
     "data": {
      "text/html": [
       "<pre>| 7814         | 2.9e+08 | 84.1742     | 1m 57s       |</pre>"
      ],
      "text/plain": [
       "| 7814         | 2.9e+08 | 84.1742     | 1m 57s       |"
      ]
     },
     "metadata": {},
     "output_type": "display_data"
    },
    {
     "data": {
      "text/html": [
       "<pre>| 8015         | 3e+08   | 86.3395     | 2m 0s        |</pre>"
      ],
      "text/plain": [
       "| 8015         | 3e+08   | 86.3395     | 2m 0s        |"
      ]
     },
     "metadata": {},
     "output_type": "display_data"
    },
    {
     "data": {
      "text/html": [
       "<pre>| 8206         | 3.1e+08 | 88.3892     | 2m 3s        |</pre>"
      ],
      "text/plain": [
       "| 8206         | 3.1e+08 | 88.3892     | 2m 3s        |"
      ]
     },
     "metadata": {},
     "output_type": "display_data"
    },
    {
     "data": {
      "text/html": [
       "<pre>| 8414         | 3.1e+08 | 90.6351     | 2m 6s        |</pre>"
      ],
      "text/plain": [
       "| 8414         | 3.1e+08 | 90.6351     | 2m 6s        |"
      ]
     },
     "metadata": {},
     "output_type": "display_data"
    },
    {
     "data": {
      "text/html": [
       "<pre>| 8637         | 3.2e+08 | 93.0394     | 2m 9s        |</pre>"
      ],
      "text/plain": [
       "| 8637         | 3.2e+08 | 93.0394     | 2m 9s        |"
      ]
     },
     "metadata": {},
     "output_type": "display_data"
    },
    {
     "data": {
      "text/html": [
       "<pre>| 8823         | 3.3e+08 | 95.0355     | 2m 12s       |</pre>"
      ],
      "text/plain": [
       "| 8823         | 3.3e+08 | 95.0355     | 2m 12s       |"
      ]
     },
     "metadata": {},
     "output_type": "display_data"
    },
    {
     "data": {
      "text/html": [
       "<pre>| 8964         | 3.3e+08 | 96.5587     | 2m 15s       |</pre>"
      ],
      "text/plain": [
       "| 8964         | 3.3e+08 | 96.5587     | 2m 15s       |"
      ]
     },
     "metadata": {},
     "output_type": "display_data"
    },
    {
     "data": {
      "text/html": [
       "<pre>| 9120         | 3.4e+08 | 98.235      | 2m 18s       |</pre>"
      ],
      "text/plain": [
       "| 9120         | 3.4e+08 | 98.235      | 2m 18s       |"
      ]
     },
     "metadata": {},
     "output_type": "display_data"
    },
    {
     "data": {
      "text/html": [
       "<pre>| 9255         | 3.4e+08 | 99.6937     | 2m 21s       |</pre>"
      ],
      "text/plain": [
       "| 9255         | 3.4e+08 | 99.6937     | 2m 21s       |"
      ]
     },
     "metadata": {},
     "output_type": "display_data"
    },
    {
     "data": {
      "text/html": [
       "<pre>| Done         |         | 100         | 2m 22s       |</pre>"
      ],
      "text/plain": [
       "| Done         |         | 100         | 2m 22s       |"
      ]
     },
     "metadata": {},
     "output_type": "display_data"
    },
    {
     "data": {
      "text/html": [
       "<pre>+--------------+---------+-------------+--------------+</pre>"
      ],
      "text/plain": [
       "+--------------+---------+-------------+--------------+"
      ]
     },
     "metadata": {},
     "output_type": "display_data"
    },
    {
     "name": "stdout",
     "output_type": "stream",
     "text": [
      "KNearest Train Score is: 77.36406619385343 %\n",
      "KNearest Validation Score is: 56.171908660060325 %\n"
     ]
    }
   ],
   "source": [
    "#printout metric accuracy score for each data set\n",
    "KNearestTrainScore = KNearest.evaluate(train_data, max_neighbors=3)['accuracy']\n",
    "KNearestValidationScore = KNearest.evaluate(validation_data, max_neighbors=3)['accuracy']\n",
    "print(f'KNearest Train Score is: {KNearestTrainScore * 100} %')\n",
    "print(f'KNearest Validation Score is: {KNearestValidationScore * 100} %')"
   ]
  },
  {
   "cell_type": "code",
   "execution_count": 15,
   "metadata": {},
   "outputs": [
    {
     "data": {
      "text/html": [
       "<pre>SVM:</pre>"
      ],
      "text/plain": [
       "SVM:"
      ]
     },
     "metadata": {},
     "output_type": "display_data"
    },
    {
     "data": {
      "text/html": [
       "<pre>--------------------------------------------------------</pre>"
      ],
      "text/plain": [
       "--------------------------------------------------------"
      ]
     },
     "metadata": {},
     "output_type": "display_data"
    },
    {
     "data": {
      "text/html": [
       "<pre>Number of examples          : 37224</pre>"
      ],
      "text/plain": [
       "Number of examples          : 37224"
      ]
     },
     "metadata": {},
     "output_type": "display_data"
    },
    {
     "data": {
      "text/html": [
       "<pre>Number of classes           : 2</pre>"
      ],
      "text/plain": [
       "Number of classes           : 2"
      ]
     },
     "metadata": {},
     "output_type": "display_data"
    },
    {
     "data": {
      "text/html": [
       "<pre>Number of feature columns   : 12</pre>"
      ],
      "text/plain": [
       "Number of feature columns   : 12"
      ]
     },
     "metadata": {},
     "output_type": "display_data"
    },
    {
     "data": {
      "text/html": [
       "<pre>Number of unpacked features : 12</pre>"
      ],
      "text/plain": [
       "Number of unpacked features : 12"
      ]
     },
     "metadata": {},
     "output_type": "display_data"
    },
    {
     "data": {
      "text/html": [
       "<pre>Number of coefficients    : 63</pre>"
      ],
      "text/plain": [
       "Number of coefficients    : 63"
      ]
     },
     "metadata": {},
     "output_type": "display_data"
    },
    {
     "data": {
      "text/html": [
       "<pre>Starting L-BFGS</pre>"
      ],
      "text/plain": [
       "Starting L-BFGS"
      ]
     },
     "metadata": {},
     "output_type": "display_data"
    },
    {
     "data": {
      "text/html": [
       "<pre>--------------------------------------------------------</pre>"
      ],
      "text/plain": [
       "--------------------------------------------------------"
      ]
     },
     "metadata": {},
     "output_type": "display_data"
    },
    {
     "data": {
      "text/html": [
       "<pre>+-----------+----------+-----------+--------------+-------------------+</pre>"
      ],
      "text/plain": [
       "+-----------+----------+-----------+--------------+-------------------+"
      ]
     },
     "metadata": {},
     "output_type": "display_data"
    },
    {
     "data": {
      "text/html": [
       "<pre>| Iteration | Passes   | Step size | Elapsed Time | Training Accuracy |</pre>"
      ],
      "text/plain": [
       "| Iteration | Passes   | Step size | Elapsed Time | Training Accuracy |"
      ]
     },
     "metadata": {},
     "output_type": "display_data"
    },
    {
     "data": {
      "text/html": [
       "<pre>+-----------+----------+-----------+--------------+-------------------+</pre>"
      ],
      "text/plain": [
       "+-----------+----------+-----------+--------------+-------------------+"
      ]
     },
     "metadata": {},
     "output_type": "display_data"
    },
    {
     "data": {
      "text/html": [
       "<pre>| 0         | 2        | 1.000000  | 0.023939     | 0.628224          |</pre>"
      ],
      "text/plain": [
       "| 0         | 2        | 1.000000  | 0.023939     | 0.628224          |"
      ]
     },
     "metadata": {},
     "output_type": "display_data"
    },
    {
     "data": {
      "text/html": [
       "<pre>| 1         | 6        | 0.250000  | 0.080608     | 0.627069          |</pre>"
      ],
      "text/plain": [
       "| 1         | 6        | 0.250000  | 0.080608     | 0.627069          |"
      ]
     },
     "metadata": {},
     "output_type": "display_data"
    },
    {
     "data": {
      "text/html": [
       "<pre>| 2         | 12       | 0.877509  | 0.148116     | 0.626236          |</pre>"
      ],
      "text/plain": [
       "| 2         | 12       | 0.877509  | 0.148116     | 0.626236          |"
      ]
     },
     "metadata": {},
     "output_type": "display_data"
    },
    {
     "data": {
      "text/html": [
       "<pre>| 3         | 13       | 1.000000  | 0.163224     | 0.625779          |</pre>"
      ],
      "text/plain": [
       "| 3         | 13       | 1.000000  | 0.163224     | 0.625779          |"
      ]
     },
     "metadata": {},
     "output_type": "display_data"
    },
    {
     "data": {
      "text/html": [
       "<pre>| 4         | 15       | 0.456727  | 0.188931     | 0.627552          |</pre>"
      ],
      "text/plain": [
       "| 4         | 15       | 0.456727  | 0.188931     | 0.627552          |"
      ]
     },
     "metadata": {},
     "output_type": "display_data"
    },
    {
     "data": {
      "text/html": [
       "<pre>| 9         | 20       | 1.000000  | 0.261982     | 0.627955          |</pre>"
      ],
      "text/plain": [
       "| 9         | 20       | 1.000000  | 0.261982     | 0.627955          |"
      ]
     },
     "metadata": {},
     "output_type": "display_data"
    },
    {
     "data": {
      "text/html": [
       "<pre>+-----------+----------+-----------+--------------+-------------------+</pre>"
      ],
      "text/plain": [
       "+-----------+----------+-----------+--------------+-------------------+"
      ]
     },
     "metadata": {},
     "output_type": "display_data"
    }
   ],
   "source": [
    "#create and train according to Support Vector Machine Algorithm with train data and specify which is the target and features\n",
    "supportVectorMachine = turicreate.svm_classifier.create(train_data, target=target, features=features, validation_set=None)"
   ]
  },
  {
   "cell_type": "code",
   "execution_count": 16,
   "metadata": {},
   "outputs": [
    {
     "name": "stdout",
     "output_type": "stream",
     "text": [
      "SVM Train Score Score is: 62.79550827423168 %\n",
      "SVM Validation Score is: 62.63464024127531 %\n"
     ]
    }
   ],
   "source": [
    "#printout metric accuracy score for each data set\n",
    "SVMTrainScore = supportVectorMachine.evaluate(train_data)['accuracy']\n",
    "SVMValidationScore = supportVectorMachine.evaluate(validation_data)['accuracy']\n",
    "print(f'SVM Train Score Score is: {SVMTrainScore * 100} %')\n",
    "print(f'SVM Validation Score is: {SVMValidationScore * 100} %')"
   ]
  },
  {
   "cell_type": "code",
   "execution_count": 17,
   "metadata": {},
   "outputs": [
    {
     "data": {
      "text/html": [
       "<pre>Boosted trees classifier:</pre>"
      ],
      "text/plain": [
       "Boosted trees classifier:"
      ]
     },
     "metadata": {},
     "output_type": "display_data"
    },
    {
     "data": {
      "text/html": [
       "<pre>--------------------------------------------------------</pre>"
      ],
      "text/plain": [
       "--------------------------------------------------------"
      ]
     },
     "metadata": {},
     "output_type": "display_data"
    },
    {
     "data": {
      "text/html": [
       "<pre>Number of examples          : 37224</pre>"
      ],
      "text/plain": [
       "Number of examples          : 37224"
      ]
     },
     "metadata": {},
     "output_type": "display_data"
    },
    {
     "data": {
      "text/html": [
       "<pre>Number of classes           : 2</pre>"
      ],
      "text/plain": [
       "Number of classes           : 2"
      ]
     },
     "metadata": {},
     "output_type": "display_data"
    },
    {
     "data": {
      "text/html": [
       "<pre>Number of feature columns   : 12</pre>"
      ],
      "text/plain": [
       "Number of feature columns   : 12"
      ]
     },
     "metadata": {},
     "output_type": "display_data"
    },
    {
     "data": {
      "text/html": [
       "<pre>Number of unpacked features : 12</pre>"
      ],
      "text/plain": [
       "Number of unpacked features : 12"
      ]
     },
     "metadata": {},
     "output_type": "display_data"
    },
    {
     "data": {
      "text/html": [
       "<pre>+-----------+--------------+-------------------+-------------------+</pre>"
      ],
      "text/plain": [
       "+-----------+--------------+-------------------+-------------------+"
      ]
     },
     "metadata": {},
     "output_type": "display_data"
    },
    {
     "data": {
      "text/html": [
       "<pre>| Iteration | Elapsed Time | Training Accuracy | Training Log Loss |</pre>"
      ],
      "text/plain": [
       "| Iteration | Elapsed Time | Training Accuracy | Training Log Loss |"
      ]
     },
     "metadata": {},
     "output_type": "display_data"
    },
    {
     "data": {
      "text/html": [
       "<pre>+-----------+--------------+-------------------+-------------------+</pre>"
      ],
      "text/plain": [
       "+-----------+--------------+-------------------+-------------------+"
      ]
     },
     "metadata": {},
     "output_type": "display_data"
    },
    {
     "data": {
      "text/html": [
       "<pre>| 1         | 0.058187     | 0.640581          | 0.663259          |</pre>"
      ],
      "text/plain": [
       "| 1         | 0.058187     | 0.640581          | 0.663259          |"
      ]
     },
     "metadata": {},
     "output_type": "display_data"
    },
    {
     "data": {
      "text/html": [
       "<pre>| 2         | 0.104399     | 0.643751          | 0.647237          |</pre>"
      ],
      "text/plain": [
       "| 2         | 0.104399     | 0.643751          | 0.647237          |"
      ]
     },
     "metadata": {},
     "output_type": "display_data"
    },
    {
     "data": {
      "text/html": [
       "<pre>| 3         | 0.137760     | 0.644208          | 0.637189          |</pre>"
      ],
      "text/plain": [
       "| 3         | 0.137760     | 0.644208          | 0.637189          |"
      ]
     },
     "metadata": {},
     "output_type": "display_data"
    },
    {
     "data": {
      "text/html": [
       "<pre>| 4         | 0.170671     | 0.647271          | 0.630784          |</pre>"
      ],
      "text/plain": [
       "| 4         | 0.170671     | 0.647271          | 0.630784          |"
      ]
     },
     "metadata": {},
     "output_type": "display_data"
    },
    {
     "data": {
      "text/html": [
       "<pre>| 5         | 0.208694     | 0.650091          | 0.625849          |</pre>"
      ],
      "text/plain": [
       "| 5         | 0.208694     | 0.650091          | 0.625849          |"
      ]
     },
     "metadata": {},
     "output_type": "display_data"
    },
    {
     "data": {
      "text/html": [
       "<pre>| 10        | 0.378029     | 0.658527          | 0.612635          |</pre>"
      ],
      "text/plain": [
       "| 10        | 0.378029     | 0.658527          | 0.612635          |"
      ]
     },
     "metadata": {},
     "output_type": "display_data"
    },
    {
     "data": {
      "text/html": [
       "<pre>+-----------+--------------+-------------------+-------------------+</pre>"
      ],
      "text/plain": [
       "+-----------+--------------+-------------------+-------------------+"
      ]
     },
     "metadata": {},
     "output_type": "display_data"
    }
   ],
   "source": [
    "#create and train according to Boosted Tree Algorithm with train data and specify which is the target and features\n",
    "boostedTree = turicreate.boosted_trees_classifier.create(train_data, target=target, features=features, validation_set=None)"
   ]
  },
  {
   "cell_type": "code",
   "execution_count": 18,
   "metadata": {},
   "outputs": [
    {
     "name": "stdout",
     "output_type": "stream",
     "text": [
      "Boosted Tree Train Score Score is: 65.85267569310122 %\n",
      "Boosted Tree Validation Score is: 64.57345971563981 %\n"
     ]
    }
   ],
   "source": [
    "#printout metric accuracy score for each data set\n",
    "boostedTreeTrainScore = boostedTree.evaluate(train_data)['accuracy']\n",
    "boostedTreeValidationScore = boostedTree.evaluate(validation_data)['accuracy']\n",
    "print(f'Boosted Tree Train Score Score is: {boostedTreeTrainScore * 100} %')\n",
    "print(f'Boosted Tree Validation Score is: {boostedTreeValidationScore * 100} %')"
   ]
  },
  {
   "cell_type": "code",
   "execution_count": 19,
   "metadata": {},
   "outputs": [
    {
     "data": {
      "text/html": [
       "<pre>Random forest classifier:</pre>"
      ],
      "text/plain": [
       "Random forest classifier:"
      ]
     },
     "metadata": {},
     "output_type": "display_data"
    },
    {
     "data": {
      "text/html": [
       "<pre>--------------------------------------------------------</pre>"
      ],
      "text/plain": [
       "--------------------------------------------------------"
      ]
     },
     "metadata": {},
     "output_type": "display_data"
    },
    {
     "data": {
      "text/html": [
       "<pre>Number of examples          : 37224</pre>"
      ],
      "text/plain": [
       "Number of examples          : 37224"
      ]
     },
     "metadata": {},
     "output_type": "display_data"
    },
    {
     "data": {
      "text/html": [
       "<pre>Number of classes           : 2</pre>"
      ],
      "text/plain": [
       "Number of classes           : 2"
      ]
     },
     "metadata": {},
     "output_type": "display_data"
    },
    {
     "data": {
      "text/html": [
       "<pre>Number of feature columns   : 12</pre>"
      ],
      "text/plain": [
       "Number of feature columns   : 12"
      ]
     },
     "metadata": {},
     "output_type": "display_data"
    },
    {
     "data": {
      "text/html": [
       "<pre>Number of unpacked features : 12</pre>"
      ],
      "text/plain": [
       "Number of unpacked features : 12"
      ]
     },
     "metadata": {},
     "output_type": "display_data"
    },
    {
     "data": {
      "text/html": [
       "<pre>+-----------+--------------+-------------------+-------------------+</pre>"
      ],
      "text/plain": [
       "+-----------+--------------+-------------------+-------------------+"
      ]
     },
     "metadata": {},
     "output_type": "display_data"
    },
    {
     "data": {
      "text/html": [
       "<pre>| Iteration | Elapsed Time | Training Accuracy | Training Log Loss |</pre>"
      ],
      "text/plain": [
       "| Iteration | Elapsed Time | Training Accuracy | Training Log Loss |"
      ]
     },
     "metadata": {},
     "output_type": "display_data"
    },
    {
     "data": {
      "text/html": [
       "<pre>+-----------+--------------+-------------------+-------------------+</pre>"
      ],
      "text/plain": [
       "+-----------+--------------+-------------------+-------------------+"
      ]
     },
     "metadata": {},
     "output_type": "display_data"
    },
    {
     "data": {
      "text/html": [
       "<pre>| 1         | 0.032565     | 0.639453          | 0.632100          |</pre>"
      ],
      "text/plain": [
       "| 1         | 0.032565     | 0.639453          | 0.632100          |"
      ]
     },
     "metadata": {},
     "output_type": "display_data"
    },
    {
     "data": {
      "text/html": [
       "<pre>| 2         | 0.062683     | 0.641871          | 0.631026          |</pre>"
      ],
      "text/plain": [
       "| 2         | 0.062683     | 0.641871          | 0.631026          |"
      ]
     },
     "metadata": {},
     "output_type": "display_data"
    },
    {
     "data": {
      "text/html": [
       "<pre>| 3         | 0.095110     | 0.641119          | 0.630699          |</pre>"
      ],
      "text/plain": [
       "| 3         | 0.095110     | 0.641119          | 0.630699          |"
      ]
     },
     "metadata": {},
     "output_type": "display_data"
    },
    {
     "data": {
      "text/html": [
       "<pre>| 4         | 0.123943     | 0.641441          | 0.629892          |</pre>"
      ],
      "text/plain": [
       "| 4         | 0.123943     | 0.641441          | 0.629892          |"
      ]
     },
     "metadata": {},
     "output_type": "display_data"
    },
    {
     "data": {
      "text/html": [
       "<pre>| 5         | 0.159015     | 0.643107          | 0.629774          |</pre>"
      ],
      "text/plain": [
       "| 5         | 0.159015     | 0.643107          | 0.629774          |"
      ]
     },
     "metadata": {},
     "output_type": "display_data"
    },
    {
     "data": {
      "text/html": [
       "<pre>| 10        | 0.312035     | 0.644342          | 0.629194          |</pre>"
      ],
      "text/plain": [
       "| 10        | 0.312035     | 0.644342          | 0.629194          |"
      ]
     },
     "metadata": {},
     "output_type": "display_data"
    },
    {
     "data": {
      "text/html": [
       "<pre>+-----------+--------------+-------------------+-------------------+</pre>"
      ],
      "text/plain": [
       "+-----------+--------------+-------------------+-------------------+"
      ]
     },
     "metadata": {},
     "output_type": "display_data"
    }
   ],
   "source": [
    "#create and train according to Random Forest Algorithm with train data and specify which is the target and features\n",
    "randomForest = turicreate.random_forest_classifier.create(train_data, target=target, features=features, validation_set=None)"
   ]
  },
  {
   "cell_type": "code",
   "execution_count": 20,
   "metadata": {},
   "outputs": [
    {
     "name": "stdout",
     "output_type": "stream",
     "text": [
      "Random Forest Train Score Score is: 64.43423597678917 %\n",
      "Random Forest Validation Score is: 63.93795777682033 %\n"
     ]
    }
   ],
   "source": [
    "#printout metric accuracy score for each data set\n",
    "randomForestTrainScore = randomForest.evaluate(train_data)['accuracy']\n",
    "randomForestValidationScore = randomForest.evaluate(validation_data)['accuracy']\n",
    "print(f'Random Forest Train Score Score is: {randomForestTrainScore * 100} %')\n",
    "print(f'Random Forest Validation Score is: {randomForestValidationScore * 100} %')"
   ]
  },
  {
   "cell_type": "markdown",
   "metadata": {},
   "source": [
    "References:\n",
    "+ https://github.com/aKhfagy/machine-learning-specialization\n",
    "+ https://github.com/anjali-2504/Classification_University_of_washington_Course3_Machine_Learning_All_Weeks_folders_turicreate_\n",
    "+ https://www.section.io/engineering-education/how-to-create-a-machine-learning-app-using-turicreate/\n",
    "+ https://apple.github.io/turicreate/docs/api/turicreate.toolkits.html\n",
    "+ https://youtube.com/playlist?list=PL7yh-TELLS1EZGz1-VDltwdwZvPV-jliQ"
   ]
  }
 ],
 "metadata": {
  "interpreter": {
   "hash": "39d26cb27455eb4a5dd8b671a5cbcb3d71300c464d0afe87631c6fa526793bc2"
  },
  "kernelspec": {
   "display_name": "Python 3.8.10 ('venv': venv)",
   "language": "python",
   "name": "python3"
  },
  "language_info": {
   "codemirror_mode": {
    "name": "ipython",
    "version": 3
   },
   "file_extension": ".py",
   "mimetype": "text/x-python",
   "name": "python",
   "nbconvert_exporter": "python",
   "pygments_lexer": "ipython3",
   "version": "3.8.10"
  },
  "orig_nbformat": 4
 },
 "nbformat": 4,
 "nbformat_minor": 2
}

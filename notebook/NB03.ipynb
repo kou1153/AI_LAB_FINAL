{
 "cells": [
  {
   "cell_type": "code",
   "execution_count": 143,
   "metadata": {},
   "outputs": [],
   "source": [
    "import turicreate"
   ]
  },
  {
   "cell_type": "code",
   "execution_count": 144,
   "metadata": {},
   "outputs": [],
   "source": [
    "loans = turicreate.SFrame('../data/lending-club-data.sframe/')"
   ]
  },
  {
   "cell_type": "code",
   "execution_count": 145,
   "metadata": {},
   "outputs": [
    {
     "data": {
      "text/plain": [
       "['id',\n",
       " 'member_id',\n",
       " 'loan_amnt',\n",
       " 'funded_amnt',\n",
       " 'funded_amnt_inv',\n",
       " 'term',\n",
       " 'int_rate',\n",
       " 'installment',\n",
       " 'grade',\n",
       " 'sub_grade',\n",
       " 'emp_title',\n",
       " 'emp_length',\n",
       " 'home_ownership',\n",
       " 'annual_inc',\n",
       " 'is_inc_v',\n",
       " 'issue_d',\n",
       " 'loan_status',\n",
       " 'pymnt_plan',\n",
       " 'url',\n",
       " 'desc',\n",
       " 'purpose',\n",
       " 'title',\n",
       " 'zip_code',\n",
       " 'addr_state',\n",
       " 'dti',\n",
       " 'delinq_2yrs',\n",
       " 'earliest_cr_line',\n",
       " 'inq_last_6mths',\n",
       " 'mths_since_last_delinq',\n",
       " 'mths_since_last_record',\n",
       " 'open_acc',\n",
       " 'pub_rec',\n",
       " 'revol_bal',\n",
       " 'revol_util',\n",
       " 'total_acc',\n",
       " 'initial_list_status',\n",
       " 'out_prncp',\n",
       " 'out_prncp_inv',\n",
       " 'total_pymnt',\n",
       " 'total_pymnt_inv',\n",
       " 'total_rec_prncp',\n",
       " 'total_rec_int',\n",
       " 'total_rec_late_fee',\n",
       " 'recoveries',\n",
       " 'collection_recovery_fee',\n",
       " 'last_pymnt_d',\n",
       " 'last_pymnt_amnt',\n",
       " 'next_pymnt_d',\n",
       " 'last_credit_pull_d',\n",
       " 'collections_12_mths_ex_med',\n",
       " 'mths_since_last_major_derog',\n",
       " 'policy_code',\n",
       " 'not_compliant',\n",
       " 'status',\n",
       " 'inactive_loans',\n",
       " 'bad_loans',\n",
       " 'emp_length_num',\n",
       " 'grade_num',\n",
       " 'sub_grade_num',\n",
       " 'delinq_2yrs_zero',\n",
       " 'pub_rec_zero',\n",
       " 'collections_12_mths_zero',\n",
       " 'short_emp',\n",
       " 'payment_inc_ratio',\n",
       " 'final_d',\n",
       " 'last_delinq_none',\n",
       " 'last_record_none',\n",
       " 'last_major_derog_none']"
      ]
     },
     "execution_count": 145,
     "metadata": {},
     "output_type": "execute_result"
    }
   ],
   "source": [
    "loans.column_names()"
   ]
  },
  {
   "cell_type": "code",
   "execution_count": 146,
   "metadata": {},
   "outputs": [],
   "source": [
    "# safe_loans =  1 => safe\n",
    "# safe_loans = -1 => risky\n",
    "loans['safe_loans'] = loans['bad_loans'].apply(lambda x : +1 if x==0 else -1)\n",
    "loans = loans.remove_column('bad_loans')"
   ]
  },
  {
   "cell_type": "code",
   "execution_count": 147,
   "metadata": {},
   "outputs": [],
   "source": [
    "features = ['grade',                     # grade of the loan\n",
    "            'sub_grade',                 # sub-grade of the loan\n",
    "            'short_emp',                 # one year or less of employment\n",
    "            'emp_length_num',            # number of years of employment\n",
    "            'home_ownership',            # home_ownership status: own, mortgage or rent\n",
    "            'dti',                       # debt to income ratio\n",
    "            'purpose',                   # the purpose of the loan\n",
    "            'term',                      # the term of the loan\n",
    "            'last_delinq_none',          # has borrower had a delinquincy\n",
    "            'last_major_derog_none',     # has borrower had 90 day or worse rating\n",
    "            'revol_util',                # percent of available credit being used\n",
    "            'total_rec_late_fee',        # total late fees received to day\n",
    "            'annual_inc',\n",
    "           ]\n",
    "\n",
    "target = 'safe_loans'                   # prediction target (y) (+1 means safe, -1 is risky)\n",
    "\n",
    "# Extract the feature columns and target column\n",
    "loans = loans[features + [target]]"
   ]
  },
  {
   "cell_type": "code",
   "execution_count": 148,
   "metadata": {},
   "outputs": [
    {
     "name": "stdout",
     "output_type": "stream",
     "text": [
      "Number of safe loans  : 99457\n",
      "Number of risky loans : 23150\n"
     ]
    }
   ],
   "source": [
    "safe_loans_raw = loans[loans[target] == +1]\n",
    "risky_loans_raw = loans[loans[target] == -1]\n",
    "print(f\"Number of safe loans  : {len(safe_loans_raw)}\")\n",
    "print(f\"Number of risky loans : {len(risky_loans_raw)}\")"
   ]
  },
  {
   "cell_type": "code",
   "execution_count": 149,
   "metadata": {},
   "outputs": [
    {
     "name": "stdout",
     "output_type": "stream",
     "text": [
      "Percentage of safe loans  : 81.11853319957262 %\n",
      "Percentage of risky loans : 18.881466800427383 %\n"
     ]
    }
   ],
   "source": [
    "totalLoans = len(safe_loans_raw) + len(risky_loans_raw)\n",
    "safe_loans_raw_percentage = len(safe_loans_raw)/totalLoans * 100\n",
    "risky_loans_raw_percentage = len(risky_loans_raw)/totalLoans * 100\n",
    "# print(total_loans)\n",
    "print(f\"Percentage of safe loans  : {safe_loans_raw_percentage} %\",) \n",
    "print(f\"Percentage of risky loans : {risky_loans_raw_percentage} %\",)"
   ]
  },
  {
   "cell_type": "code",
   "execution_count": 150,
   "metadata": {},
   "outputs": [],
   "source": [
    "# Since there are fewer risky loans than safe loans, find the ratio of the sizes\n",
    "# and use that percentage to undersample the safe loans.\n",
    "percentage = len(risky_loans_raw)/float(len(safe_loans_raw))\n",
    "\n",
    "risky_loans = risky_loans_raw\n",
    "safe_loans = safe_loans_raw.sample(percentage, seed=1)\n",
    "\n",
    "# Append the risky_loans with the downsampled version of safe_loans\n",
    "loans_data = risky_loans.append(safe_loans)"
   ]
  },
  {
   "cell_type": "code",
   "execution_count": 151,
   "metadata": {},
   "outputs": [
    {
     "name": "stdout",
     "output_type": "stream",
     "text": [
      "Percentage of safe loans                 : 50.22361744216048 %\n",
      "Percentage of risky loans                : 49.77638255783951 %\n",
      "Total number of loans in our new dataset : 46508\n"
     ]
    }
   ],
   "source": [
    "print(f\"Percentage of safe loans                 : {len(safe_loans) / float(len(loans_data)) *100} %\")\n",
    "print(f\"Percentage of risky loans                : {len(risky_loans) / float(len(loans_data)) * 100} %\")\n",
    "print(f\"Total number of loans in our new dataset : {len(loans_data)}\")"
   ]
  },
  {
   "cell_type": "code",
   "execution_count": 152,
   "metadata": {},
   "outputs": [],
   "source": [
    "#spilt 80% train_data and 20% validation_data\n",
    "train_data, validation_data = loans_data.random_split(.8, seed=1)"
   ]
  },
  {
   "cell_type": "code",
   "execution_count": 153,
   "metadata": {},
   "outputs": [],
   "source": [
    "def printModelEvaluation(model):\n",
    "    \n",
    "    print(\"-------------------------ACCURACY-------------------------\")\n",
    "    accuracytTrainScore = model.evaluate(train_data)['accuracy']\n",
    "    accuracyValidationScore = model.evaluate(validation_data)['accuracy']\n",
    "\n",
    "    print(f'{model._name()} Train Accuracy Score Score is: {accuracytTrainScore * 100} %')\n",
    "    print(f'{model._name()} Validation Accuracy Score is: {accuracyValidationScore * 100} %')\n",
    "    \n",
    "    print(\"-------------------------PRECISION-------------------------\")\n",
    "    precisionTrainScore = model.evaluate(train_data)[\"precision\"]\n",
    "    precisionValidationScore = model.evaluate(validation_data)[\"precision\"]\n",
    "\n",
    "    print(f'{model._name()} Train Precision Score is: {precisionTrainScore * 100} %')\n",
    "    print(f'{model._name()} Validation Precision Score is: {precisionValidationScore * 100} %')\n",
    "    \n",
    "    print(\"-------------------------RECALL-------------------------\")\n",
    "    recallTrainScore = model.evaluate(train_data)[\"recall\"]\n",
    "    recallValidationScore = model.evaluate(validation_data)[\"recall\"]\n",
    "\n",
    "    print(f'{model._name()} Train Recall Score Score is: {recallTrainScore * 100} %')\n",
    "    print(f'{model._name()} Validation Recall Score is: {recallValidationScore * 100} %')\n",
    "    \n",
    "    print(\"-------------------------F1SCORE-------------------------\")\n",
    "    f1TrainPredict = decisionTree.predict(train_data)\n",
    "    f1ValidationPredict = decisionTree.predict(validation_data)\n",
    "    \n",
    "    f1TrainScoreMacro = turicreate.evaluation.f1_score(targets=train_data['safe_loans'], predictions=f1TrainPredict, average=\"macro\")\n",
    "    f1ValidationScoreMacro = turicreate.evaluation.f1_score(targets=validation_data['safe_loans'], predictions=f1ValidationPredict, average=\"macro\")\n",
    "    \n",
    "    f1TrainScoreMicro = turicreate.evaluation.f1_score(targets=train_data['safe_loans'], predictions=f1TrainPredict, average=\"micro\")\n",
    "    f1ValidationScoreMicro = turicreate.evaluation.f1_score(targets=validation_data['safe_loans'], predictions=f1ValidationPredict, average=\"micro\")\n",
    "    \n",
    "    f1TrainScoreNone = turicreate.evaluation.f1_score(targets=train_data['safe_loans'], predictions=f1TrainPredict, average=None)\n",
    "    f1ValidationScoreNone = turicreate.evaluation.f1_score(targets=validation_data['safe_loans'], predictions=f1ValidationPredict, average=None)\n",
    "    \n",
    "    # OR F1 = 2 * (precision * recall) / (precision + recall)\n",
    "    \n",
    "    \n",
    "    print(f'{model._name()} Train F1 Score Macro is: {f1TrainScoreMacro}')\n",
    "    print(f'{model._name()} Validation F1 Score Marco is: {f1ValidationScoreMacro}')\n",
    "    \n",
    "    print(f'{model._name()} Train F1 Score Micro is: {f1TrainScoreMicro}')\n",
    "    print(f'{model._name()} Validation F1 Score Mirco is: {f1ValidationScoreMicro}')\n",
    "    \n",
    "    print(f'{model._name()} Train F1 Score None is: {f1TrainScoreNone}')\n",
    "    print(f'{model._name()} Validation F1 Score None is: {f1ValidationScoreNone}')\n",
    "        \n",
    "        "
   ]
  },
  {
   "cell_type": "code",
   "execution_count": 154,
   "metadata": {},
   "outputs": [],
   "source": [
    "def compareModels(decisionTree, logistic, svm, randomForest):\n",
    "    \n",
    "    import pandas as pd\n",
    "    # pd.set_option('display.expand_frame_repr', False)\n",
    "    \n",
    "    \n",
    "    accuracyDecisionTree = decisionTree.evaluate(validation_data)['accuracy']\n",
    "    accuracyLogistic = logistic.evaluate(validation_data)['accuracy']\n",
    "    accuracySVM = svm.evaluate(validation_data)['accuracy']\n",
    "    accuracyRandomForest = randomForest.evaluate(validation_data)['accuracy']\n",
    "    \n",
    "    precisionDecisionTree = decisionTree.evaluate(validation_data)[\"precision\"]\n",
    "    precisionLogistic = logistic.evaluate(validation_data)[\"precision\"]\n",
    "    precisionSVM = svm.evaluate(validation_data)[\"precision\"]\n",
    "    precisionRandomForest = randomForest.evaluate(validation_data)[\"precision\"]\n",
    "    \n",
    "    recallDecisionTree = decisionTree.evaluate(validation_data)[\"recall\"]\n",
    "    recallLogistic = logistic.evaluate(validation_data)[\"recall\"]\n",
    "    recallSVM = svm.evaluate(validation_data)[\"recall\"]\n",
    "    recallRandomForest = randomForest.evaluate(validation_data)[\"recall\"]\n",
    "    \n",
    "    decisionTreePredictions = decisionTree.predict(validation_data)\n",
    "    logisticPredictions = logistic.predict(validation_data)\n",
    "    svmPredictions = svm.predict(validation_data)\n",
    "    randomForestPredictions = randomForest.predict(validation_data)\n",
    "    \n",
    "    decisionTreeF1Score = turicreate.evaluation.f1_score(targets=validation_data['safe_loans'], predictions=decisionTreePredictions, average=None)\n",
    "    logisticF1Score = turicreate.evaluation.f1_score(targets=validation_data['safe_loans'], predictions=logisticPredictions, average=None)\n",
    "    svmF1Score = turicreate.evaluation.f1_score(targets=validation_data['safe_loans'], predictions=svmPredictions, average=None)\n",
    "    randomForestF1Score = turicreate.evaluation.f1_score(targets=validation_data['safe_loans'], predictions=randomForestPredictions, average=None)\n",
    "    \n",
    "    modelsAccuracy = {\n",
    "        'Decision Tree': [round(accuracyDecisionTree * 100, 2)],\n",
    "        'Logistic Regression': [round(accuracyLogistic * 100, 2)],\n",
    "        'Support Vector Machine': [round(accuracySVM * 100, 2)],\n",
    "        'Random Forest': [round(accuracyRandomForest * 100, 2)]}\n",
    "    \n",
    "    accuracyTable = pd.DataFrame(data = modelsAccuracy, index = [\"Accuracy (%)\"])\n",
    "    \n",
    "    modelsPrecision = {\n",
    "        'Decision Tree': [round(precisionDecisionTree * 100, 2)],\n",
    "        'Logistic Regression': [round(precisionLogistic * 100, 2)],\n",
    "        'Support Vector Machine': [round(precisionSVM * 100, 2)],\n",
    "        'Random Forest': [round(precisionRandomForest * 100, 2)]}\n",
    "    \n",
    "    precisionTable = pd.DataFrame(data = modelsPrecision, index = [\"Precision (%)\"])\n",
    "\n",
    "    modelsRecall = {\n",
    "        'Decision Tree': [round(recallDecisionTree * 100, 2)],\n",
    "        'Logistic Regression': [round(recallLogistic * 100, 2)],\n",
    "        'Support Vector Machine': [round(recallSVM * 100, 2)],\n",
    "        'Random Forest': [round(recallRandomForest * 100, 2)]}\n",
    "    \n",
    "    recallTable = pd.DataFrame(data = modelsRecall, index = [\"Recall    (%)\"])\n",
    "    \n",
    "    modelsF1Score = {\n",
    "        'Decision Tree': [round(decisionTreeF1Score, 2)],\n",
    "        'Logistic Regression': [round(logisticF1Score, 2)],\n",
    "        'Support Vector Machine': [round(svmF1Score, 2)],\n",
    "        'Random Forest': [round(randomForestF1Score, 2)]}\n",
    "    \n",
    "    f1ScoreTable = pd.DataFrame(data = modelsF1Score, index = [\"F1 Score\"])\n",
    "    \n",
    "    display(accuracyTable)\n",
    "    display(precisionTable)\n",
    "    display(f1ScoreTable)\n",
    "    display(recallTable)"
   ]
  },
  {
   "cell_type": "markdown",
   "metadata": {},
   "source": [
    "BEGIN MODEL CREATE AND EVALUATE\n"
   ]
  },
  {
   "cell_type": "code",
   "execution_count": 155,
   "metadata": {},
   "outputs": [
    {
     "data": {
      "text/html": [
       "<pre>Decision tree classifier:</pre>"
      ],
      "text/plain": [
       "Decision tree classifier:"
      ]
     },
     "metadata": {},
     "output_type": "display_data"
    },
    {
     "data": {
      "text/html": [
       "<pre>--------------------------------------------------------</pre>"
      ],
      "text/plain": [
       "--------------------------------------------------------"
      ]
     },
     "metadata": {},
     "output_type": "display_data"
    },
    {
     "data": {
      "text/html": [
       "<pre>Number of examples          : 37224</pre>"
      ],
      "text/plain": [
       "Number of examples          : 37224"
      ]
     },
     "metadata": {},
     "output_type": "display_data"
    },
    {
     "data": {
      "text/html": [
       "<pre>Number of classes           : 2</pre>"
      ],
      "text/plain": [
       "Number of classes           : 2"
      ]
     },
     "metadata": {},
     "output_type": "display_data"
    },
    {
     "data": {
      "text/html": [
       "<pre>Number of feature columns   : 13</pre>"
      ],
      "text/plain": [
       "Number of feature columns   : 13"
      ]
     },
     "metadata": {},
     "output_type": "display_data"
    },
    {
     "data": {
      "text/html": [
       "<pre>Number of unpacked features : 13</pre>"
      ],
      "text/plain": [
       "Number of unpacked features : 13"
      ]
     },
     "metadata": {},
     "output_type": "display_data"
    },
    {
     "data": {
      "text/html": [
       "<pre>+-----------+--------------+-------------------+-------------------+</pre>"
      ],
      "text/plain": [
       "+-----------+--------------+-------------------+-------------------+"
      ]
     },
     "metadata": {},
     "output_type": "display_data"
    },
    {
     "data": {
      "text/html": [
       "<pre>| Iteration | Elapsed Time | Training Accuracy | Training Log Loss |</pre>"
      ],
      "text/plain": [
       "| Iteration | Elapsed Time | Training Accuracy | Training Log Loss |"
      ]
     },
     "metadata": {},
     "output_type": "display_data"
    },
    {
     "data": {
      "text/html": [
       "<pre>+-----------+--------------+-------------------+-------------------+</pre>"
      ],
      "text/plain": [
       "+-----------+--------------+-------------------+-------------------+"
      ]
     },
     "metadata": {},
     "output_type": "display_data"
    },
    {
     "data": {
      "text/html": [
       "<pre>| 1         | 0.042754     | 0.642301          | 0.627131          |</pre>"
      ],
      "text/plain": [
       "| 1         | 0.042754     | 0.642301          | 0.627131          |"
      ]
     },
     "metadata": {},
     "output_type": "display_data"
    },
    {
     "data": {
      "text/html": [
       "<pre>+-----------+--------------+-------------------+-------------------+</pre>"
      ],
      "text/plain": [
       "+-----------+--------------+-------------------+-------------------+"
      ]
     },
     "metadata": {},
     "output_type": "display_data"
    }
   ],
   "source": [
    "decisionTree = turicreate.decision_tree_classifier.create(train_data, target = target, features = features, validation_set=None)"
   ]
  },
  {
   "cell_type": "code",
   "execution_count": 156,
   "metadata": {},
   "outputs": [
    {
     "name": "stdout",
     "output_type": "stream",
     "text": [
      "-------------------------ACCURACY-------------------------\n",
      "DecisionTreeClassifier Train Accuracy Score Score is: 64.23006662368364 %\n",
      "DecisionTreeClassifier Validation Accuracy Score is: 63.63636363636363 %\n",
      "-------------------------PRECISION-------------------------\n",
      "DecisionTreeClassifier Train Precision Score is: 69.02977232924692 %\n",
      "DecisionTreeClassifier Validation Precision Score is: 67.78097982708934 %\n",
      "-------------------------RECALL-------------------------\n",
      "DecisionTreeClassifier Train Recall Score Score is: 52.56027309579688 %\n",
      "DecisionTreeClassifier Validation Recall Score is: 51.01952277657267 %\n",
      "-------------------------F1SCORE-------------------------\n",
      "DecisionTreeClassifier Train F1 Score Macro is: 0.5967961723647155\n",
      "DecisionTreeClassifier Validation F1 Score Marco is: 0.5821782178217823\n",
      "DecisionTreeClassifier Train F1 Score Micro is: 0.5967961723647155\n",
      "DecisionTreeClassifier Validation F1 Score Mirco is: 0.5821782178217823\n",
      "DecisionTreeClassifier Train F1 Score None is: 0.5967961723647155\n",
      "DecisionTreeClassifier Validation F1 Score None is: 0.5821782178217823\n"
     ]
    }
   ],
   "source": [
    "printModelEvaluation(decisionTree)"
   ]
  },
  {
   "cell_type": "code",
   "execution_count": 157,
   "metadata": {},
   "outputs": [
    {
     "data": {
      "text/html": [
       "<pre>Logistic regression:</pre>"
      ],
      "text/plain": [
       "Logistic regression:"
      ]
     },
     "metadata": {},
     "output_type": "display_data"
    },
    {
     "data": {
      "text/html": [
       "<pre>--------------------------------------------------------</pre>"
      ],
      "text/plain": [
       "--------------------------------------------------------"
      ]
     },
     "metadata": {},
     "output_type": "display_data"
    },
    {
     "data": {
      "text/html": [
       "<pre>Number of examples          : 37224</pre>"
      ],
      "text/plain": [
       "Number of examples          : 37224"
      ]
     },
     "metadata": {},
     "output_type": "display_data"
    },
    {
     "data": {
      "text/html": [
       "<pre>Number of classes           : 2</pre>"
      ],
      "text/plain": [
       "Number of classes           : 2"
      ]
     },
     "metadata": {},
     "output_type": "display_data"
    },
    {
     "data": {
      "text/html": [
       "<pre>Number of feature columns   : 13</pre>"
      ],
      "text/plain": [
       "Number of feature columns   : 13"
      ]
     },
     "metadata": {},
     "output_type": "display_data"
    },
    {
     "data": {
      "text/html": [
       "<pre>Number of unpacked features : 13</pre>"
      ],
      "text/plain": [
       "Number of unpacked features : 13"
      ]
     },
     "metadata": {},
     "output_type": "display_data"
    },
    {
     "data": {
      "text/html": [
       "<pre>Number of coefficients      : 64</pre>"
      ],
      "text/plain": [
       "Number of coefficients      : 64"
      ]
     },
     "metadata": {},
     "output_type": "display_data"
    },
    {
     "data": {
      "text/html": [
       "<pre>Starting Newton Method</pre>"
      ],
      "text/plain": [
       "Starting Newton Method"
      ]
     },
     "metadata": {},
     "output_type": "display_data"
    },
    {
     "data": {
      "text/html": [
       "<pre>--------------------------------------------------------</pre>"
      ],
      "text/plain": [
       "--------------------------------------------------------"
      ]
     },
     "metadata": {},
     "output_type": "display_data"
    },
    {
     "data": {
      "text/html": [
       "<pre>+-----------+----------+--------------+-------------------+</pre>"
      ],
      "text/plain": [
       "+-----------+----------+--------------+-------------------+"
      ]
     },
     "metadata": {},
     "output_type": "display_data"
    },
    {
     "data": {
      "text/html": [
       "<pre>| Iteration | Passes   | Elapsed Time | Training Accuracy |</pre>"
      ],
      "text/plain": [
       "| Iteration | Passes   | Elapsed Time | Training Accuracy |"
      ]
     },
     "metadata": {},
     "output_type": "display_data"
    },
    {
     "data": {
      "text/html": [
       "<pre>+-----------+----------+--------------+-------------------+</pre>"
      ],
      "text/plain": [
       "+-----------+----------+--------------+-------------------+"
      ]
     },
     "metadata": {},
     "output_type": "display_data"
    },
    {
     "data": {
      "text/html": [
       "<pre>| 1         | 2        | 0.054436     | 0.652240          |</pre>"
      ],
      "text/plain": [
       "| 1         | 2        | 0.054436     | 0.652240          |"
      ]
     },
     "metadata": {},
     "output_type": "display_data"
    },
    {
     "data": {
      "text/html": [
       "<pre>| 2         | 3        | 0.089819     | 0.654336          |</pre>"
      ],
      "text/plain": [
       "| 2         | 3        | 0.089819     | 0.654336          |"
      ]
     },
     "metadata": {},
     "output_type": "display_data"
    },
    {
     "data": {
      "text/html": [
       "<pre>| 3         | 4        | 0.126943     | 0.654202          |</pre>"
      ],
      "text/plain": [
       "| 3         | 4        | 0.126943     | 0.654202          |"
      ]
     },
     "metadata": {},
     "output_type": "display_data"
    },
    {
     "data": {
      "text/html": [
       "<pre>| 4         | 5        | 0.159346     | 0.654228          |</pre>"
      ],
      "text/plain": [
       "| 4         | 5        | 0.159346     | 0.654228          |"
      ]
     },
     "metadata": {},
     "output_type": "display_data"
    },
    {
     "data": {
      "text/html": [
       "<pre>| 5         | 6        | 0.192206     | 0.654255          |</pre>"
      ],
      "text/plain": [
       "| 5         | 6        | 0.192206     | 0.654255          |"
      ]
     },
     "metadata": {},
     "output_type": "display_data"
    },
    {
     "data": {
      "text/html": [
       "<pre>+-----------+----------+--------------+-------------------+</pre>"
      ],
      "text/plain": [
       "+-----------+----------+--------------+-------------------+"
      ]
     },
     "metadata": {},
     "output_type": "display_data"
    },
    {
     "data": {
      "text/html": [
       "<pre>SUCCESS: Optimal solution found.</pre>"
      ],
      "text/plain": [
       "SUCCESS: Optimal solution found."
      ]
     },
     "metadata": {},
     "output_type": "display_data"
    },
    {
     "data": {
      "text/html": [
       "<pre></pre>"
      ],
      "text/plain": []
     },
     "metadata": {},
     "output_type": "display_data"
    }
   ],
   "source": [
    "#create and train according to logisticRegression Algorithm with train data and specify which is the target and features\n",
    "logisticRegression = turicreate.logistic_classifier.create(train_data, target=target, features=features, validation_set=None)"
   ]
  },
  {
   "cell_type": "code",
   "execution_count": 158,
   "metadata": {},
   "outputs": [
    {
     "name": "stdout",
     "output_type": "stream",
     "text": [
      "-------------------------ACCURACY-------------------------\n",
      "LogisticClassifier Train Accuracy Score Score is: 65.42553191489363 %\n",
      "LogisticClassifier Validation Accuracy Score is: 64.72425678586816 %\n",
      "-------------------------PRECISION-------------------------\n",
      "LogisticClassifier Train Precision Score is: 65.72330408731007 %\n",
      "LogisticClassifier Validation Precision Score is: 64.58378850775617 %\n",
      "-------------------------RECALL-------------------------\n",
      "LogisticClassifier Train Recall Score Score is: 65.52698954555153 %\n",
      "LogisticClassifier Validation Recall Score is: 64.12147505422993 %\n",
      "-------------------------F1SCORE-------------------------\n",
      "LogisticClassifier Train F1 Score Macro is: 0.5967961723647155\n",
      "LogisticClassifier Validation F1 Score Marco is: 0.5821782178217823\n",
      "LogisticClassifier Train F1 Score Micro is: 0.5967961723647155\n",
      "LogisticClassifier Validation F1 Score Mirco is: 0.5821782178217823\n",
      "LogisticClassifier Train F1 Score None is: 0.5967961723647155\n",
      "LogisticClassifier Validation F1 Score None is: 0.5821782178217823\n"
     ]
    }
   ],
   "source": [
    "#print out metric score for each data set\n",
    "printModelEvaluation(logisticRegression)"
   ]
  },
  {
   "cell_type": "code",
   "execution_count": 159,
   "metadata": {},
   "outputs": [
    {
     "data": {
      "text/html": [
       "<pre>SVM:</pre>"
      ],
      "text/plain": [
       "SVM:"
      ]
     },
     "metadata": {},
     "output_type": "display_data"
    },
    {
     "data": {
      "text/html": [
       "<pre>--------------------------------------------------------</pre>"
      ],
      "text/plain": [
       "--------------------------------------------------------"
      ]
     },
     "metadata": {},
     "output_type": "display_data"
    },
    {
     "data": {
      "text/html": [
       "<pre>Number of examples          : 37224</pre>"
      ],
      "text/plain": [
       "Number of examples          : 37224"
      ]
     },
     "metadata": {},
     "output_type": "display_data"
    },
    {
     "data": {
      "text/html": [
       "<pre>Number of classes           : 2</pre>"
      ],
      "text/plain": [
       "Number of classes           : 2"
      ]
     },
     "metadata": {},
     "output_type": "display_data"
    },
    {
     "data": {
      "text/html": [
       "<pre>Number of feature columns   : 13</pre>"
      ],
      "text/plain": [
       "Number of feature columns   : 13"
      ]
     },
     "metadata": {},
     "output_type": "display_data"
    },
    {
     "data": {
      "text/html": [
       "<pre>Number of unpacked features : 13</pre>"
      ],
      "text/plain": [
       "Number of unpacked features : 13"
      ]
     },
     "metadata": {},
     "output_type": "display_data"
    },
    {
     "data": {
      "text/html": [
       "<pre>Number of coefficients    : 64</pre>"
      ],
      "text/plain": [
       "Number of coefficients    : 64"
      ]
     },
     "metadata": {},
     "output_type": "display_data"
    },
    {
     "data": {
      "text/html": [
       "<pre>Starting L-BFGS</pre>"
      ],
      "text/plain": [
       "Starting L-BFGS"
      ]
     },
     "metadata": {},
     "output_type": "display_data"
    },
    {
     "data": {
      "text/html": [
       "<pre>--------------------------------------------------------</pre>"
      ],
      "text/plain": [
       "--------------------------------------------------------"
      ]
     },
     "metadata": {},
     "output_type": "display_data"
    },
    {
     "data": {
      "text/html": [
       "<pre>+-----------+----------+-----------+--------------+-------------------+</pre>"
      ],
      "text/plain": [
       "+-----------+----------+-----------+--------------+-------------------+"
      ]
     },
     "metadata": {},
     "output_type": "display_data"
    },
    {
     "data": {
      "text/html": [
       "<pre>| Iteration | Passes   | Step size | Elapsed Time | Training Accuracy |</pre>"
      ],
      "text/plain": [
       "| Iteration | Passes   | Step size | Elapsed Time | Training Accuracy |"
      ]
     },
     "metadata": {},
     "output_type": "display_data"
    },
    {
     "data": {
      "text/html": [
       "<pre>+-----------+----------+-----------+--------------+-------------------+</pre>"
      ],
      "text/plain": [
       "+-----------+----------+-----------+--------------+-------------------+"
      ]
     },
     "metadata": {},
     "output_type": "display_data"
    },
    {
     "data": {
      "text/html": [
       "<pre>| 0         | 2        | 1.000000  | 0.029793     | 0.627552          |</pre>"
      ],
      "text/plain": [
       "| 0         | 2        | 1.000000  | 0.029793     | 0.627552          |"
      ]
     },
     "metadata": {},
     "output_type": "display_data"
    },
    {
     "data": {
      "text/html": [
       "<pre>| 1         | 5        | 0.500000  | 0.067942     | 0.628734          |</pre>"
      ],
      "text/plain": [
       "| 1         | 5        | 0.500000  | 0.067942     | 0.628734          |"
      ]
     },
     "metadata": {},
     "output_type": "display_data"
    },
    {
     "data": {
      "text/html": [
       "<pre>| 2         | 11       | 1.106793  | 0.139735     | 0.630883          |</pre>"
      ],
      "text/plain": [
       "| 2         | 11       | 1.106793  | 0.139735     | 0.630883          |"
      ]
     },
     "metadata": {},
     "output_type": "display_data"
    },
    {
     "data": {
      "text/html": [
       "<pre>| 3         | 12       | 1.106793  | 0.162097     | 0.631636          |</pre>"
      ],
      "text/plain": [
       "| 3         | 12       | 1.106793  | 0.162097     | 0.631636          |"
      ]
     },
     "metadata": {},
     "output_type": "display_data"
    },
    {
     "data": {
      "text/html": [
       "<pre>| 4         | 13       | 1.106793  | 0.191587     | 0.632441          |</pre>"
      ],
      "text/plain": [
       "| 4         | 13       | 1.106793  | 0.191587     | 0.632441          |"
      ]
     },
     "metadata": {},
     "output_type": "display_data"
    },
    {
     "data": {
      "text/html": [
       "<pre>| 9         | 26       | 1.000000  | 0.418530     | 0.632764          |</pre>"
      ],
      "text/plain": [
       "| 9         | 26       | 1.000000  | 0.418530     | 0.632764          |"
      ]
     },
     "metadata": {},
     "output_type": "display_data"
    },
    {
     "data": {
      "text/html": [
       "<pre>+-----------+----------+-----------+--------------+-------------------+</pre>"
      ],
      "text/plain": [
       "+-----------+----------+-----------+--------------+-------------------+"
      ]
     },
     "metadata": {},
     "output_type": "display_data"
    }
   ],
   "source": [
    "#create and train according to Support Vector Machine Algorithm with train data and specify which is the target and features\n",
    "supportVectorMachine = turicreate.svm_classifier.create(train_data, target=target, features=features, validation_set=None)"
   ]
  },
  {
   "cell_type": "code",
   "execution_count": 160,
   "metadata": {},
   "outputs": [
    {
     "name": "stdout",
     "output_type": "stream",
     "text": [
      "-------------------------ACCURACY-------------------------\n",
      "SVMClassifier Train Accuracy Score Score is: 63.27638082957232 %\n",
      "SVMClassifier Validation Accuracy Score is: 63.06548901335631 %\n",
      "-------------------------PRECISION-------------------------\n",
      "SVMClassifier Train Precision Score is: 63.506756037876364 %\n",
      "SVMClassifier Validation Precision Score is: 62.924053403370536 %\n",
      "-------------------------RECALL-------------------------\n",
      "SVMClassifier Train Recall Score Score is: 63.676125453381694 %\n",
      "SVMClassifier Validation Recall Score is: 62.364425162689805 %\n",
      "-------------------------F1SCORE-------------------------\n",
      "SVMClassifier Train F1 Score Macro is: 0.5967961723647155\n",
      "SVMClassifier Validation F1 Score Marco is: 0.5821782178217823\n",
      "SVMClassifier Train F1 Score Micro is: 0.5967961723647155\n",
      "SVMClassifier Validation F1 Score Mirco is: 0.5821782178217823\n",
      "SVMClassifier Train F1 Score None is: 0.5967961723647155\n",
      "SVMClassifier Validation F1 Score None is: 0.5821782178217823\n"
     ]
    }
   ],
   "source": [
    "#printout metric score for each data set\n",
    "printModelEvaluation(supportVectorMachine)"
   ]
  },
  {
   "cell_type": "code",
   "execution_count": 161,
   "metadata": {},
   "outputs": [
    {
     "data": {
      "text/html": [
       "<pre>Random forest classifier:</pre>"
      ],
      "text/plain": [
       "Random forest classifier:"
      ]
     },
     "metadata": {},
     "output_type": "display_data"
    },
    {
     "data": {
      "text/html": [
       "<pre>--------------------------------------------------------</pre>"
      ],
      "text/plain": [
       "--------------------------------------------------------"
      ]
     },
     "metadata": {},
     "output_type": "display_data"
    },
    {
     "data": {
      "text/html": [
       "<pre>Number of examples          : 37224</pre>"
      ],
      "text/plain": [
       "Number of examples          : 37224"
      ]
     },
     "metadata": {},
     "output_type": "display_data"
    },
    {
     "data": {
      "text/html": [
       "<pre>Number of classes           : 2</pre>"
      ],
      "text/plain": [
       "Number of classes           : 2"
      ]
     },
     "metadata": {},
     "output_type": "display_data"
    },
    {
     "data": {
      "text/html": [
       "<pre>Number of feature columns   : 13</pre>"
      ],
      "text/plain": [
       "Number of feature columns   : 13"
      ]
     },
     "metadata": {},
     "output_type": "display_data"
    },
    {
     "data": {
      "text/html": [
       "<pre>Number of unpacked features : 13</pre>"
      ],
      "text/plain": [
       "Number of unpacked features : 13"
      ]
     },
     "metadata": {},
     "output_type": "display_data"
    },
    {
     "data": {
      "text/html": [
       "<pre>+-----------+--------------+-------------------+-------------------+</pre>"
      ],
      "text/plain": [
       "+-----------+--------------+-------------------+-------------------+"
      ]
     },
     "metadata": {},
     "output_type": "display_data"
    },
    {
     "data": {
      "text/html": [
       "<pre>| Iteration | Elapsed Time | Training Accuracy | Training Log Loss |</pre>"
      ],
      "text/plain": [
       "| Iteration | Elapsed Time | Training Accuracy | Training Log Loss |"
      ]
     },
     "metadata": {},
     "output_type": "display_data"
    },
    {
     "data": {
      "text/html": [
       "<pre>+-----------+--------------+-------------------+-------------------+</pre>"
      ],
      "text/plain": [
       "+-----------+--------------+-------------------+-------------------+"
      ]
     },
     "metadata": {},
     "output_type": "display_data"
    },
    {
     "data": {
      "text/html": [
       "<pre>| 1         | 0.036628     | 0.622743          | 0.638599          |</pre>"
      ],
      "text/plain": [
       "| 1         | 0.036628     | 0.622743          | 0.638599          |"
      ]
     },
     "metadata": {},
     "output_type": "display_data"
    },
    {
     "data": {
      "text/html": [
       "<pre>| 2         | 0.067285     | 0.638835          | 0.627942          |</pre>"
      ],
      "text/plain": [
       "| 2         | 0.067285     | 0.638835          | 0.627942          |"
      ]
     },
     "metadata": {},
     "output_type": "display_data"
    },
    {
     "data": {
      "text/html": [
       "<pre>| 3         | 0.114258     | 0.648238          | 0.625150          |</pre>"
      ],
      "text/plain": [
       "| 3         | 0.114258     | 0.648238          | 0.625150          |"
      ]
     },
     "metadata": {},
     "output_type": "display_data"
    },
    {
     "data": {
      "text/html": [
       "<pre>| 4         | 0.147717     | 0.647324          | 0.624281          |</pre>"
      ],
      "text/plain": [
       "| 4         | 0.147717     | 0.647324          | 0.624281          |"
      ]
     },
     "metadata": {},
     "output_type": "display_data"
    },
    {
     "data": {
      "text/html": [
       "<pre>| 5         | 0.181058     | 0.651058          | 0.623750          |</pre>"
      ],
      "text/plain": [
       "| 5         | 0.181058     | 0.651058          | 0.623750          |"
      ]
     },
     "metadata": {},
     "output_type": "display_data"
    },
    {
     "data": {
      "text/html": [
       "<pre>| 10        | 0.338635     | 0.652778          | 0.623043          |</pre>"
      ],
      "text/plain": [
       "| 10        | 0.338635     | 0.652778          | 0.623043          |"
      ]
     },
     "metadata": {},
     "output_type": "display_data"
    },
    {
     "data": {
      "text/html": [
       "<pre>+-----------+--------------+-------------------+-------------------+</pre>"
      ],
      "text/plain": [
       "+-----------+--------------+-------------------+-------------------+"
      ]
     },
     "metadata": {},
     "output_type": "display_data"
    }
   ],
   "source": [
    "#create and train according to Random Forest Algorithm with train data and specify which is the target and features\n",
    "randomForest = turicreate.random_forest_classifier.create(train_data, target=target, features=features, validation_set=None)"
   ]
  },
  {
   "cell_type": "code",
   "execution_count": 162,
   "metadata": {},
   "outputs": [
    {
     "name": "stdout",
     "output_type": "stream",
     "text": [
      "-------------------------ACCURACY-------------------------\n",
      "RandomForestClassifier Train Accuracy Score Score is: 65.27777777777779 %\n",
      "RandomForestClassifier Validation Accuracy Score is: 64.45497630331754 %\n",
      "-------------------------PRECISION-------------------------\n",
      "RandomForestClassifier Train Precision Score is: 66.51540076011118 %\n",
      "RandomForestClassifier Validation Precision Score is: 65.4554034922133 %\n",
      "-------------------------RECALL-------------------------\n",
      "RandomForestClassifier Train Recall Score Score is: 62.545338169404744 %\n",
      "RandomForestClassifier Validation Recall Score is: 60.17353579175705 %\n",
      "-------------------------F1SCORE-------------------------\n",
      "RandomForestClassifier Train F1 Score Macro is: 0.5967961723647155\n",
      "RandomForestClassifier Validation F1 Score Marco is: 0.5821782178217823\n",
      "RandomForestClassifier Train F1 Score Micro is: 0.5967961723647155\n",
      "RandomForestClassifier Validation F1 Score Mirco is: 0.5821782178217823\n",
      "RandomForestClassifier Train F1 Score None is: 0.5967961723647155\n",
      "RandomForestClassifier Validation F1 Score None is: 0.5821782178217823\n"
     ]
    }
   ],
   "source": [
    "#printout metric score for each data set\n",
    "printModelEvaluation(randomForest)"
   ]
  },
  {
   "cell_type": "code",
   "execution_count": 163,
   "metadata": {},
   "outputs": [
    {
     "data": {
      "text/html": [
       "<div>\n",
       "<style scoped>\n",
       "    .dataframe tbody tr th:only-of-type {\n",
       "        vertical-align: middle;\n",
       "    }\n",
       "\n",
       "    .dataframe tbody tr th {\n",
       "        vertical-align: top;\n",
       "    }\n",
       "\n",
       "    .dataframe thead th {\n",
       "        text-align: right;\n",
       "    }\n",
       "</style>\n",
       "<table border=\"1\" class=\"dataframe\">\n",
       "  <thead>\n",
       "    <tr style=\"text-align: right;\">\n",
       "      <th></th>\n",
       "      <th>Decision Tree</th>\n",
       "      <th>Logistic Regression</th>\n",
       "      <th>Support Vector Machine</th>\n",
       "      <th>Random Forest</th>\n",
       "    </tr>\n",
       "  </thead>\n",
       "  <tbody>\n",
       "    <tr>\n",
       "      <th>Accuracy (%)</th>\n",
       "      <td>63.64</td>\n",
       "      <td>64.72</td>\n",
       "      <td>63.07</td>\n",
       "      <td>64.45</td>\n",
       "    </tr>\n",
       "  </tbody>\n",
       "</table>\n",
       "</div>"
      ],
      "text/plain": [
       "              Decision Tree  Logistic Regression  Support Vector Machine  \\\n",
       "Accuracy (%)          63.64                64.72                   63.07   \n",
       "\n",
       "              Random Forest  \n",
       "Accuracy (%)          64.45  "
      ]
     },
     "metadata": {},
     "output_type": "display_data"
    },
    {
     "data": {
      "text/html": [
       "<div>\n",
       "<style scoped>\n",
       "    .dataframe tbody tr th:only-of-type {\n",
       "        vertical-align: middle;\n",
       "    }\n",
       "\n",
       "    .dataframe tbody tr th {\n",
       "        vertical-align: top;\n",
       "    }\n",
       "\n",
       "    .dataframe thead th {\n",
       "        text-align: right;\n",
       "    }\n",
       "</style>\n",
       "<table border=\"1\" class=\"dataframe\">\n",
       "  <thead>\n",
       "    <tr style=\"text-align: right;\">\n",
       "      <th></th>\n",
       "      <th>Decision Tree</th>\n",
       "      <th>Logistic Regression</th>\n",
       "      <th>Support Vector Machine</th>\n",
       "      <th>Random Forest</th>\n",
       "    </tr>\n",
       "  </thead>\n",
       "  <tbody>\n",
       "    <tr>\n",
       "      <th>Precision (%)</th>\n",
       "      <td>67.78</td>\n",
       "      <td>64.58</td>\n",
       "      <td>62.92</td>\n",
       "      <td>65.46</td>\n",
       "    </tr>\n",
       "  </tbody>\n",
       "</table>\n",
       "</div>"
      ],
      "text/plain": [
       "               Decision Tree  Logistic Regression  Support Vector Machine  \\\n",
       "Precision (%)          67.78                64.58                   62.92   \n",
       "\n",
       "               Random Forest  \n",
       "Precision (%)          65.46  "
      ]
     },
     "metadata": {},
     "output_type": "display_data"
    },
    {
     "data": {
      "text/html": [
       "<div>\n",
       "<style scoped>\n",
       "    .dataframe tbody tr th:only-of-type {\n",
       "        vertical-align: middle;\n",
       "    }\n",
       "\n",
       "    .dataframe tbody tr th {\n",
       "        vertical-align: top;\n",
       "    }\n",
       "\n",
       "    .dataframe thead th {\n",
       "        text-align: right;\n",
       "    }\n",
       "</style>\n",
       "<table border=\"1\" class=\"dataframe\">\n",
       "  <thead>\n",
       "    <tr style=\"text-align: right;\">\n",
       "      <th></th>\n",
       "      <th>Decision Tree</th>\n",
       "      <th>Logistic Regression</th>\n",
       "      <th>Support Vector Machine</th>\n",
       "      <th>Random Forest</th>\n",
       "    </tr>\n",
       "  </thead>\n",
       "  <tbody>\n",
       "    <tr>\n",
       "      <th>F1 Score</th>\n",
       "      <td>0.58</td>\n",
       "      <td>0.64</td>\n",
       "      <td>0.63</td>\n",
       "      <td>0.63</td>\n",
       "    </tr>\n",
       "  </tbody>\n",
       "</table>\n",
       "</div>"
      ],
      "text/plain": [
       "          Decision Tree  Logistic Regression  Support Vector Machine  \\\n",
       "F1 Score           0.58                 0.64                    0.63   \n",
       "\n",
       "          Random Forest  \n",
       "F1 Score           0.63  "
      ]
     },
     "metadata": {},
     "output_type": "display_data"
    },
    {
     "data": {
      "text/html": [
       "<div>\n",
       "<style scoped>\n",
       "    .dataframe tbody tr th:only-of-type {\n",
       "        vertical-align: middle;\n",
       "    }\n",
       "\n",
       "    .dataframe tbody tr th {\n",
       "        vertical-align: top;\n",
       "    }\n",
       "\n",
       "    .dataframe thead th {\n",
       "        text-align: right;\n",
       "    }\n",
       "</style>\n",
       "<table border=\"1\" class=\"dataframe\">\n",
       "  <thead>\n",
       "    <tr style=\"text-align: right;\">\n",
       "      <th></th>\n",
       "      <th>Decision Tree</th>\n",
       "      <th>Logistic Regression</th>\n",
       "      <th>Support Vector Machine</th>\n",
       "      <th>Random Forest</th>\n",
       "    </tr>\n",
       "  </thead>\n",
       "  <tbody>\n",
       "    <tr>\n",
       "      <th>Recall    (%)</th>\n",
       "      <td>51.02</td>\n",
       "      <td>64.12</td>\n",
       "      <td>62.36</td>\n",
       "      <td>60.17</td>\n",
       "    </tr>\n",
       "  </tbody>\n",
       "</table>\n",
       "</div>"
      ],
      "text/plain": [
       "               Decision Tree  Logistic Regression  Support Vector Machine  \\\n",
       "Recall    (%)          51.02                64.12                   62.36   \n",
       "\n",
       "               Random Forest  \n",
       "Recall    (%)          60.17  "
      ]
     },
     "metadata": {},
     "output_type": "display_data"
    }
   ],
   "source": [
    "compareModels(decisionTree, logisticRegression, supportVectorMachine, randomForest)"
   ]
  },
  {
   "cell_type": "markdown",
   "metadata": {},
   "source": [
    "References:\n",
    "+ https://github.com/aKhfagy/machine-learning-specialization\n",
    "+ https://github.com/anjali-2504/Classification_University_of_washington_Course3_Machine_Learning_All_Weeks_folders_turicreate_\n",
    "+ https://www.section.io/engineering-education/how-to-create-a-machine-learning-app-using-turicreate/\n",
    "+ https://apple.github.io/turicreate/docs/api/turicreate.toolkits.html\n",
    "+ https://youtube.com/playlist?list=PL7yh-TELLS1EZGz1-VDltwdwZvPV-jliQ"
   ]
  }
 ],
 "metadata": {
  "interpreter": {
   "hash": "39d26cb27455eb4a5dd8b671a5cbcb3d71300c464d0afe87631c6fa526793bc2"
  },
  "kernelspec": {
   "display_name": "Python 3.8.10 ('venv': venv)",
   "language": "python",
   "name": "python3"
  },
  "language_info": {
   "codemirror_mode": {
    "name": "ipython",
    "version": 3
   },
   "file_extension": ".py",
   "mimetype": "text/x-python",
   "name": "python",
   "nbconvert_exporter": "python",
   "pygments_lexer": "ipython3",
   "version": "3.8.10"
  },
  "orig_nbformat": 4
 },
 "nbformat": 4,
 "nbformat_minor": 2
}
